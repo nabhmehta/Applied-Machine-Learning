{
 "cells": [
  {
   "cell_type": "markdown",
   "metadata": {},
   "source": [
    "# Final Results"
   ]
  },
  {
   "cell_type": "markdown",
   "metadata": {},
   "source": [
    "- <b> Best Model based on CV scores - Ensemble: XGBoost </b>\n",
    "- Best Mean Cross Validation Score is 0.8984774624760332\n",
    "- Best parameters {'learning_rate': 0.1, 'max_depth': 4, 'min_child_weight': 1, 'n_estimators': 192, 'subsample': 0.8}\n",
    "- Train score is 0.9841860823241139\n",
    "- Test score is 0.8767229954557099\n",
    "<p>&nbsp;</p>\n",
    "- <b> Best Model based on Stacking: Voting Top 5</b>\n",
    "- Best Mean Cross Validation Score is 0.8999858356957512\n",
    "- Train score is 0.9491284183151113\n",
    "- Test score is 0.8802582634262037"
   ]
  },
  {
   "cell_type": "markdown",
   "metadata": {},
   "source": [
    "## Data PreProcessing"
   ]
  },
  {
   "cell_type": "code",
   "execution_count": 1,
   "metadata": {
    "ExecuteTime": {
     "end_time": "2020-03-09T07:32:49.555666Z",
     "start_time": "2020-03-09T07:32:49.545638Z"
    }
   },
   "outputs": [],
   "source": [
    "from math import sqrt\n",
    "import pandas as pd\n",
    "import numpy as np\n",
    "import matplotlib.pyplot as plt\n",
    "import seaborn as sns\n",
    "import scipy.stats as stats\n",
    "from sklearn.metrics import mean_squared_error, r2_score\n",
    "from math import sqrt\n",
    "from sklearn.model_selection import GridSearchCV\n",
    "from sklearn.preprocessing  import PolynomialFeatures\n",
    "from sklearn.pipeline import make_pipeline\n",
    "from sklearn.linear_model import LinearRegression\n",
    "from sklearn.pipeline import Pipeline\n",
    "from sklearn.preprocessing import MinMaxScaler\n",
    "from sklearn.metrics import mean_squared_error, r2_score\n",
    "from math import sqrt\n",
    "\n",
    "pd.pandas.set_option('display.max_columns', None)\n",
    "%matplotlib inline"
   ]
  },
  {
   "cell_type": "markdown",
   "metadata": {},
   "source": [
    "### Load Datasets"
   ]
  },
  {
   "cell_type": "code",
   "execution_count": 2,
   "metadata": {
    "ExecuteTime": {
     "end_time": "2020-03-09T07:32:50.854852Z",
     "start_time": "2020-03-09T07:32:50.812739Z"
    }
   },
   "outputs": [],
   "source": [
    "# load dataset\n",
    "# your code here\n",
    "data = pd.read_csv(r'C:\\Users\\nabhs\\OneDrive\\BUAN - Semester 2\\BUAN 6341 - Applied Machine Learning\\Datasets\\houseprice.csv')\n"
   ]
  },
  {
   "cell_type": "code",
   "execution_count": 3,
   "metadata": {},
   "outputs": [
    {
     "data": {
      "text/html": [
       "<div>\n",
       "<style scoped>\n",
       "    .dataframe tbody tr th:only-of-type {\n",
       "        vertical-align: middle;\n",
       "    }\n",
       "\n",
       "    .dataframe tbody tr th {\n",
       "        vertical-align: top;\n",
       "    }\n",
       "\n",
       "    .dataframe thead th {\n",
       "        text-align: right;\n",
       "    }\n",
       "</style>\n",
       "<table border=\"1\" class=\"dataframe\">\n",
       "  <thead>\n",
       "    <tr style=\"text-align: right;\">\n",
       "      <th></th>\n",
       "      <th>Id</th>\n",
       "      <th>MSSubClass</th>\n",
       "      <th>MSZoning</th>\n",
       "      <th>LotFrontage</th>\n",
       "      <th>LotArea</th>\n",
       "      <th>Street</th>\n",
       "      <th>Alley</th>\n",
       "      <th>LotShape</th>\n",
       "      <th>LandContour</th>\n",
       "      <th>Utilities</th>\n",
       "      <th>LotConfig</th>\n",
       "      <th>LandSlope</th>\n",
       "      <th>Neighborhood</th>\n",
       "      <th>Condition1</th>\n",
       "      <th>Condition2</th>\n",
       "      <th>BldgType</th>\n",
       "      <th>HouseStyle</th>\n",
       "      <th>OverallQual</th>\n",
       "      <th>OverallCond</th>\n",
       "      <th>YearBuilt</th>\n",
       "      <th>YearRemodAdd</th>\n",
       "      <th>RoofStyle</th>\n",
       "      <th>RoofMatl</th>\n",
       "      <th>Exterior1st</th>\n",
       "      <th>Exterior2nd</th>\n",
       "      <th>MasVnrType</th>\n",
       "      <th>MasVnrArea</th>\n",
       "      <th>ExterQual</th>\n",
       "      <th>ExterCond</th>\n",
       "      <th>Foundation</th>\n",
       "      <th>BsmtQual</th>\n",
       "      <th>BsmtCond</th>\n",
       "      <th>BsmtExposure</th>\n",
       "      <th>BsmtFinType1</th>\n",
       "      <th>BsmtFinSF1</th>\n",
       "      <th>BsmtFinType2</th>\n",
       "      <th>BsmtFinSF2</th>\n",
       "      <th>BsmtUnfSF</th>\n",
       "      <th>TotalBsmtSF</th>\n",
       "      <th>Heating</th>\n",
       "      <th>HeatingQC</th>\n",
       "      <th>CentralAir</th>\n",
       "      <th>Electrical</th>\n",
       "      <th>1stFlrSF</th>\n",
       "      <th>2ndFlrSF</th>\n",
       "      <th>LowQualFinSF</th>\n",
       "      <th>GrLivArea</th>\n",
       "      <th>BsmtFullBath</th>\n",
       "      <th>BsmtHalfBath</th>\n",
       "      <th>FullBath</th>\n",
       "      <th>HalfBath</th>\n",
       "      <th>BedroomAbvGr</th>\n",
       "      <th>KitchenAbvGr</th>\n",
       "      <th>KitchenQual</th>\n",
       "      <th>TotRmsAbvGrd</th>\n",
       "      <th>Functional</th>\n",
       "      <th>Fireplaces</th>\n",
       "      <th>FireplaceQu</th>\n",
       "      <th>GarageType</th>\n",
       "      <th>GarageYrBlt</th>\n",
       "      <th>GarageFinish</th>\n",
       "      <th>GarageCars</th>\n",
       "      <th>GarageArea</th>\n",
       "      <th>GarageQual</th>\n",
       "      <th>GarageCond</th>\n",
       "      <th>PavedDrive</th>\n",
       "      <th>WoodDeckSF</th>\n",
       "      <th>OpenPorchSF</th>\n",
       "      <th>EnclosedPorch</th>\n",
       "      <th>3SsnPorch</th>\n",
       "      <th>ScreenPorch</th>\n",
       "      <th>PoolArea</th>\n",
       "      <th>PoolQC</th>\n",
       "      <th>Fence</th>\n",
       "      <th>MiscFeature</th>\n",
       "      <th>MiscVal</th>\n",
       "      <th>MoSold</th>\n",
       "      <th>YrSold</th>\n",
       "      <th>SaleType</th>\n",
       "      <th>SaleCondition</th>\n",
       "      <th>SalePrice</th>\n",
       "    </tr>\n",
       "  </thead>\n",
       "  <tbody>\n",
       "    <tr>\n",
       "      <th>0</th>\n",
       "      <td>1</td>\n",
       "      <td>60</td>\n",
       "      <td>RL</td>\n",
       "      <td>65.0</td>\n",
       "      <td>8450</td>\n",
       "      <td>Pave</td>\n",
       "      <td>NaN</td>\n",
       "      <td>Reg</td>\n",
       "      <td>Lvl</td>\n",
       "      <td>AllPub</td>\n",
       "      <td>Inside</td>\n",
       "      <td>Gtl</td>\n",
       "      <td>CollgCr</td>\n",
       "      <td>Norm</td>\n",
       "      <td>Norm</td>\n",
       "      <td>1Fam</td>\n",
       "      <td>2Story</td>\n",
       "      <td>7</td>\n",
       "      <td>5</td>\n",
       "      <td>2003</td>\n",
       "      <td>2003</td>\n",
       "      <td>Gable</td>\n",
       "      <td>CompShg</td>\n",
       "      <td>VinylSd</td>\n",
       "      <td>VinylSd</td>\n",
       "      <td>BrkFace</td>\n",
       "      <td>196.0</td>\n",
       "      <td>Gd</td>\n",
       "      <td>TA</td>\n",
       "      <td>PConc</td>\n",
       "      <td>Gd</td>\n",
       "      <td>TA</td>\n",
       "      <td>No</td>\n",
       "      <td>GLQ</td>\n",
       "      <td>706</td>\n",
       "      <td>Unf</td>\n",
       "      <td>0</td>\n",
       "      <td>150</td>\n",
       "      <td>856</td>\n",
       "      <td>GasA</td>\n",
       "      <td>Ex</td>\n",
       "      <td>Y</td>\n",
       "      <td>SBrkr</td>\n",
       "      <td>856</td>\n",
       "      <td>854</td>\n",
       "      <td>0</td>\n",
       "      <td>1710</td>\n",
       "      <td>1</td>\n",
       "      <td>0</td>\n",
       "      <td>2</td>\n",
       "      <td>1</td>\n",
       "      <td>3</td>\n",
       "      <td>1</td>\n",
       "      <td>Gd</td>\n",
       "      <td>8</td>\n",
       "      <td>Typ</td>\n",
       "      <td>0</td>\n",
       "      <td>NaN</td>\n",
       "      <td>Attchd</td>\n",
       "      <td>2003.0</td>\n",
       "      <td>RFn</td>\n",
       "      <td>2</td>\n",
       "      <td>548</td>\n",
       "      <td>TA</td>\n",
       "      <td>TA</td>\n",
       "      <td>Y</td>\n",
       "      <td>0</td>\n",
       "      <td>61</td>\n",
       "      <td>0</td>\n",
       "      <td>0</td>\n",
       "      <td>0</td>\n",
       "      <td>0</td>\n",
       "      <td>NaN</td>\n",
       "      <td>NaN</td>\n",
       "      <td>NaN</td>\n",
       "      <td>0</td>\n",
       "      <td>2</td>\n",
       "      <td>2008</td>\n",
       "      <td>WD</td>\n",
       "      <td>Normal</td>\n",
       "      <td>208500</td>\n",
       "    </tr>\n",
       "    <tr>\n",
       "      <th>1</th>\n",
       "      <td>2</td>\n",
       "      <td>20</td>\n",
       "      <td>RL</td>\n",
       "      <td>80.0</td>\n",
       "      <td>9600</td>\n",
       "      <td>Pave</td>\n",
       "      <td>NaN</td>\n",
       "      <td>Reg</td>\n",
       "      <td>Lvl</td>\n",
       "      <td>AllPub</td>\n",
       "      <td>FR2</td>\n",
       "      <td>Gtl</td>\n",
       "      <td>Veenker</td>\n",
       "      <td>Feedr</td>\n",
       "      <td>Norm</td>\n",
       "      <td>1Fam</td>\n",
       "      <td>1Story</td>\n",
       "      <td>6</td>\n",
       "      <td>8</td>\n",
       "      <td>1976</td>\n",
       "      <td>1976</td>\n",
       "      <td>Gable</td>\n",
       "      <td>CompShg</td>\n",
       "      <td>MetalSd</td>\n",
       "      <td>MetalSd</td>\n",
       "      <td>None</td>\n",
       "      <td>0.0</td>\n",
       "      <td>TA</td>\n",
       "      <td>TA</td>\n",
       "      <td>CBlock</td>\n",
       "      <td>Gd</td>\n",
       "      <td>TA</td>\n",
       "      <td>Gd</td>\n",
       "      <td>ALQ</td>\n",
       "      <td>978</td>\n",
       "      <td>Unf</td>\n",
       "      <td>0</td>\n",
       "      <td>284</td>\n",
       "      <td>1262</td>\n",
       "      <td>GasA</td>\n",
       "      <td>Ex</td>\n",
       "      <td>Y</td>\n",
       "      <td>SBrkr</td>\n",
       "      <td>1262</td>\n",
       "      <td>0</td>\n",
       "      <td>0</td>\n",
       "      <td>1262</td>\n",
       "      <td>0</td>\n",
       "      <td>1</td>\n",
       "      <td>2</td>\n",
       "      <td>0</td>\n",
       "      <td>3</td>\n",
       "      <td>1</td>\n",
       "      <td>TA</td>\n",
       "      <td>6</td>\n",
       "      <td>Typ</td>\n",
       "      <td>1</td>\n",
       "      <td>TA</td>\n",
       "      <td>Attchd</td>\n",
       "      <td>1976.0</td>\n",
       "      <td>RFn</td>\n",
       "      <td>2</td>\n",
       "      <td>460</td>\n",
       "      <td>TA</td>\n",
       "      <td>TA</td>\n",
       "      <td>Y</td>\n",
       "      <td>298</td>\n",
       "      <td>0</td>\n",
       "      <td>0</td>\n",
       "      <td>0</td>\n",
       "      <td>0</td>\n",
       "      <td>0</td>\n",
       "      <td>NaN</td>\n",
       "      <td>NaN</td>\n",
       "      <td>NaN</td>\n",
       "      <td>0</td>\n",
       "      <td>5</td>\n",
       "      <td>2007</td>\n",
       "      <td>WD</td>\n",
       "      <td>Normal</td>\n",
       "      <td>181500</td>\n",
       "    </tr>\n",
       "    <tr>\n",
       "      <th>2</th>\n",
       "      <td>3</td>\n",
       "      <td>60</td>\n",
       "      <td>RL</td>\n",
       "      <td>68.0</td>\n",
       "      <td>11250</td>\n",
       "      <td>Pave</td>\n",
       "      <td>NaN</td>\n",
       "      <td>IR1</td>\n",
       "      <td>Lvl</td>\n",
       "      <td>AllPub</td>\n",
       "      <td>Inside</td>\n",
       "      <td>Gtl</td>\n",
       "      <td>CollgCr</td>\n",
       "      <td>Norm</td>\n",
       "      <td>Norm</td>\n",
       "      <td>1Fam</td>\n",
       "      <td>2Story</td>\n",
       "      <td>7</td>\n",
       "      <td>5</td>\n",
       "      <td>2001</td>\n",
       "      <td>2002</td>\n",
       "      <td>Gable</td>\n",
       "      <td>CompShg</td>\n",
       "      <td>VinylSd</td>\n",
       "      <td>VinylSd</td>\n",
       "      <td>BrkFace</td>\n",
       "      <td>162.0</td>\n",
       "      <td>Gd</td>\n",
       "      <td>TA</td>\n",
       "      <td>PConc</td>\n",
       "      <td>Gd</td>\n",
       "      <td>TA</td>\n",
       "      <td>Mn</td>\n",
       "      <td>GLQ</td>\n",
       "      <td>486</td>\n",
       "      <td>Unf</td>\n",
       "      <td>0</td>\n",
       "      <td>434</td>\n",
       "      <td>920</td>\n",
       "      <td>GasA</td>\n",
       "      <td>Ex</td>\n",
       "      <td>Y</td>\n",
       "      <td>SBrkr</td>\n",
       "      <td>920</td>\n",
       "      <td>866</td>\n",
       "      <td>0</td>\n",
       "      <td>1786</td>\n",
       "      <td>1</td>\n",
       "      <td>0</td>\n",
       "      <td>2</td>\n",
       "      <td>1</td>\n",
       "      <td>3</td>\n",
       "      <td>1</td>\n",
       "      <td>Gd</td>\n",
       "      <td>6</td>\n",
       "      <td>Typ</td>\n",
       "      <td>1</td>\n",
       "      <td>TA</td>\n",
       "      <td>Attchd</td>\n",
       "      <td>2001.0</td>\n",
       "      <td>RFn</td>\n",
       "      <td>2</td>\n",
       "      <td>608</td>\n",
       "      <td>TA</td>\n",
       "      <td>TA</td>\n",
       "      <td>Y</td>\n",
       "      <td>0</td>\n",
       "      <td>42</td>\n",
       "      <td>0</td>\n",
       "      <td>0</td>\n",
       "      <td>0</td>\n",
       "      <td>0</td>\n",
       "      <td>NaN</td>\n",
       "      <td>NaN</td>\n",
       "      <td>NaN</td>\n",
       "      <td>0</td>\n",
       "      <td>9</td>\n",
       "      <td>2008</td>\n",
       "      <td>WD</td>\n",
       "      <td>Normal</td>\n",
       "      <td>223500</td>\n",
       "    </tr>\n",
       "    <tr>\n",
       "      <th>3</th>\n",
       "      <td>4</td>\n",
       "      <td>70</td>\n",
       "      <td>RL</td>\n",
       "      <td>60.0</td>\n",
       "      <td>9550</td>\n",
       "      <td>Pave</td>\n",
       "      <td>NaN</td>\n",
       "      <td>IR1</td>\n",
       "      <td>Lvl</td>\n",
       "      <td>AllPub</td>\n",
       "      <td>Corner</td>\n",
       "      <td>Gtl</td>\n",
       "      <td>Crawfor</td>\n",
       "      <td>Norm</td>\n",
       "      <td>Norm</td>\n",
       "      <td>1Fam</td>\n",
       "      <td>2Story</td>\n",
       "      <td>7</td>\n",
       "      <td>5</td>\n",
       "      <td>1915</td>\n",
       "      <td>1970</td>\n",
       "      <td>Gable</td>\n",
       "      <td>CompShg</td>\n",
       "      <td>Wd Sdng</td>\n",
       "      <td>Wd Shng</td>\n",
       "      <td>None</td>\n",
       "      <td>0.0</td>\n",
       "      <td>TA</td>\n",
       "      <td>TA</td>\n",
       "      <td>BrkTil</td>\n",
       "      <td>TA</td>\n",
       "      <td>Gd</td>\n",
       "      <td>No</td>\n",
       "      <td>ALQ</td>\n",
       "      <td>216</td>\n",
       "      <td>Unf</td>\n",
       "      <td>0</td>\n",
       "      <td>540</td>\n",
       "      <td>756</td>\n",
       "      <td>GasA</td>\n",
       "      <td>Gd</td>\n",
       "      <td>Y</td>\n",
       "      <td>SBrkr</td>\n",
       "      <td>961</td>\n",
       "      <td>756</td>\n",
       "      <td>0</td>\n",
       "      <td>1717</td>\n",
       "      <td>1</td>\n",
       "      <td>0</td>\n",
       "      <td>1</td>\n",
       "      <td>0</td>\n",
       "      <td>3</td>\n",
       "      <td>1</td>\n",
       "      <td>Gd</td>\n",
       "      <td>7</td>\n",
       "      <td>Typ</td>\n",
       "      <td>1</td>\n",
       "      <td>Gd</td>\n",
       "      <td>Detchd</td>\n",
       "      <td>1998.0</td>\n",
       "      <td>Unf</td>\n",
       "      <td>3</td>\n",
       "      <td>642</td>\n",
       "      <td>TA</td>\n",
       "      <td>TA</td>\n",
       "      <td>Y</td>\n",
       "      <td>0</td>\n",
       "      <td>35</td>\n",
       "      <td>272</td>\n",
       "      <td>0</td>\n",
       "      <td>0</td>\n",
       "      <td>0</td>\n",
       "      <td>NaN</td>\n",
       "      <td>NaN</td>\n",
       "      <td>NaN</td>\n",
       "      <td>0</td>\n",
       "      <td>2</td>\n",
       "      <td>2006</td>\n",
       "      <td>WD</td>\n",
       "      <td>Abnorml</td>\n",
       "      <td>140000</td>\n",
       "    </tr>\n",
       "    <tr>\n",
       "      <th>4</th>\n",
       "      <td>5</td>\n",
       "      <td>60</td>\n",
       "      <td>RL</td>\n",
       "      <td>84.0</td>\n",
       "      <td>14260</td>\n",
       "      <td>Pave</td>\n",
       "      <td>NaN</td>\n",
       "      <td>IR1</td>\n",
       "      <td>Lvl</td>\n",
       "      <td>AllPub</td>\n",
       "      <td>FR2</td>\n",
       "      <td>Gtl</td>\n",
       "      <td>NoRidge</td>\n",
       "      <td>Norm</td>\n",
       "      <td>Norm</td>\n",
       "      <td>1Fam</td>\n",
       "      <td>2Story</td>\n",
       "      <td>8</td>\n",
       "      <td>5</td>\n",
       "      <td>2000</td>\n",
       "      <td>2000</td>\n",
       "      <td>Gable</td>\n",
       "      <td>CompShg</td>\n",
       "      <td>VinylSd</td>\n",
       "      <td>VinylSd</td>\n",
       "      <td>BrkFace</td>\n",
       "      <td>350.0</td>\n",
       "      <td>Gd</td>\n",
       "      <td>TA</td>\n",
       "      <td>PConc</td>\n",
       "      <td>Gd</td>\n",
       "      <td>TA</td>\n",
       "      <td>Av</td>\n",
       "      <td>GLQ</td>\n",
       "      <td>655</td>\n",
       "      <td>Unf</td>\n",
       "      <td>0</td>\n",
       "      <td>490</td>\n",
       "      <td>1145</td>\n",
       "      <td>GasA</td>\n",
       "      <td>Ex</td>\n",
       "      <td>Y</td>\n",
       "      <td>SBrkr</td>\n",
       "      <td>1145</td>\n",
       "      <td>1053</td>\n",
       "      <td>0</td>\n",
       "      <td>2198</td>\n",
       "      <td>1</td>\n",
       "      <td>0</td>\n",
       "      <td>2</td>\n",
       "      <td>1</td>\n",
       "      <td>4</td>\n",
       "      <td>1</td>\n",
       "      <td>Gd</td>\n",
       "      <td>9</td>\n",
       "      <td>Typ</td>\n",
       "      <td>1</td>\n",
       "      <td>TA</td>\n",
       "      <td>Attchd</td>\n",
       "      <td>2000.0</td>\n",
       "      <td>RFn</td>\n",
       "      <td>3</td>\n",
       "      <td>836</td>\n",
       "      <td>TA</td>\n",
       "      <td>TA</td>\n",
       "      <td>Y</td>\n",
       "      <td>192</td>\n",
       "      <td>84</td>\n",
       "      <td>0</td>\n",
       "      <td>0</td>\n",
       "      <td>0</td>\n",
       "      <td>0</td>\n",
       "      <td>NaN</td>\n",
       "      <td>NaN</td>\n",
       "      <td>NaN</td>\n",
       "      <td>0</td>\n",
       "      <td>12</td>\n",
       "      <td>2008</td>\n",
       "      <td>WD</td>\n",
       "      <td>Normal</td>\n",
       "      <td>250000</td>\n",
       "    </tr>\n",
       "  </tbody>\n",
       "</table>\n",
       "</div>"
      ],
      "text/plain": [
       "   Id  MSSubClass MSZoning  LotFrontage  LotArea Street Alley LotShape  \\\n",
       "0   1          60       RL         65.0     8450   Pave   NaN      Reg   \n",
       "1   2          20       RL         80.0     9600   Pave   NaN      Reg   \n",
       "2   3          60       RL         68.0    11250   Pave   NaN      IR1   \n",
       "3   4          70       RL         60.0     9550   Pave   NaN      IR1   \n",
       "4   5          60       RL         84.0    14260   Pave   NaN      IR1   \n",
       "\n",
       "  LandContour Utilities LotConfig LandSlope Neighborhood Condition1  \\\n",
       "0         Lvl    AllPub    Inside       Gtl      CollgCr       Norm   \n",
       "1         Lvl    AllPub       FR2       Gtl      Veenker      Feedr   \n",
       "2         Lvl    AllPub    Inside       Gtl      CollgCr       Norm   \n",
       "3         Lvl    AllPub    Corner       Gtl      Crawfor       Norm   \n",
       "4         Lvl    AllPub       FR2       Gtl      NoRidge       Norm   \n",
       "\n",
       "  Condition2 BldgType HouseStyle  OverallQual  OverallCond  YearBuilt  \\\n",
       "0       Norm     1Fam     2Story            7            5       2003   \n",
       "1       Norm     1Fam     1Story            6            8       1976   \n",
       "2       Norm     1Fam     2Story            7            5       2001   \n",
       "3       Norm     1Fam     2Story            7            5       1915   \n",
       "4       Norm     1Fam     2Story            8            5       2000   \n",
       "\n",
       "   YearRemodAdd RoofStyle RoofMatl Exterior1st Exterior2nd MasVnrType  \\\n",
       "0          2003     Gable  CompShg     VinylSd     VinylSd    BrkFace   \n",
       "1          1976     Gable  CompShg     MetalSd     MetalSd       None   \n",
       "2          2002     Gable  CompShg     VinylSd     VinylSd    BrkFace   \n",
       "3          1970     Gable  CompShg     Wd Sdng     Wd Shng       None   \n",
       "4          2000     Gable  CompShg     VinylSd     VinylSd    BrkFace   \n",
       "\n",
       "   MasVnrArea ExterQual ExterCond Foundation BsmtQual BsmtCond BsmtExposure  \\\n",
       "0       196.0        Gd        TA      PConc       Gd       TA           No   \n",
       "1         0.0        TA        TA     CBlock       Gd       TA           Gd   \n",
       "2       162.0        Gd        TA      PConc       Gd       TA           Mn   \n",
       "3         0.0        TA        TA     BrkTil       TA       Gd           No   \n",
       "4       350.0        Gd        TA      PConc       Gd       TA           Av   \n",
       "\n",
       "  BsmtFinType1  BsmtFinSF1 BsmtFinType2  BsmtFinSF2  BsmtUnfSF  TotalBsmtSF  \\\n",
       "0          GLQ         706          Unf           0        150          856   \n",
       "1          ALQ         978          Unf           0        284         1262   \n",
       "2          GLQ         486          Unf           0        434          920   \n",
       "3          ALQ         216          Unf           0        540          756   \n",
       "4          GLQ         655          Unf           0        490         1145   \n",
       "\n",
       "  Heating HeatingQC CentralAir Electrical  1stFlrSF  2ndFlrSF  LowQualFinSF  \\\n",
       "0    GasA        Ex          Y      SBrkr       856       854             0   \n",
       "1    GasA        Ex          Y      SBrkr      1262         0             0   \n",
       "2    GasA        Ex          Y      SBrkr       920       866             0   \n",
       "3    GasA        Gd          Y      SBrkr       961       756             0   \n",
       "4    GasA        Ex          Y      SBrkr      1145      1053             0   \n",
       "\n",
       "   GrLivArea  BsmtFullBath  BsmtHalfBath  FullBath  HalfBath  BedroomAbvGr  \\\n",
       "0       1710             1             0         2         1             3   \n",
       "1       1262             0             1         2         0             3   \n",
       "2       1786             1             0         2         1             3   \n",
       "3       1717             1             0         1         0             3   \n",
       "4       2198             1             0         2         1             4   \n",
       "\n",
       "   KitchenAbvGr KitchenQual  TotRmsAbvGrd Functional  Fireplaces FireplaceQu  \\\n",
       "0             1          Gd             8        Typ           0         NaN   \n",
       "1             1          TA             6        Typ           1          TA   \n",
       "2             1          Gd             6        Typ           1          TA   \n",
       "3             1          Gd             7        Typ           1          Gd   \n",
       "4             1          Gd             9        Typ           1          TA   \n",
       "\n",
       "  GarageType  GarageYrBlt GarageFinish  GarageCars  GarageArea GarageQual  \\\n",
       "0     Attchd       2003.0          RFn           2         548         TA   \n",
       "1     Attchd       1976.0          RFn           2         460         TA   \n",
       "2     Attchd       2001.0          RFn           2         608         TA   \n",
       "3     Detchd       1998.0          Unf           3         642         TA   \n",
       "4     Attchd       2000.0          RFn           3         836         TA   \n",
       "\n",
       "  GarageCond PavedDrive  WoodDeckSF  OpenPorchSF  EnclosedPorch  3SsnPorch  \\\n",
       "0         TA          Y           0           61              0          0   \n",
       "1         TA          Y         298            0              0          0   \n",
       "2         TA          Y           0           42              0          0   \n",
       "3         TA          Y           0           35            272          0   \n",
       "4         TA          Y         192           84              0          0   \n",
       "\n",
       "   ScreenPorch  PoolArea PoolQC Fence MiscFeature  MiscVal  MoSold  YrSold  \\\n",
       "0            0         0    NaN   NaN         NaN        0       2    2008   \n",
       "1            0         0    NaN   NaN         NaN        0       5    2007   \n",
       "2            0         0    NaN   NaN         NaN        0       9    2008   \n",
       "3            0         0    NaN   NaN         NaN        0       2    2006   \n",
       "4            0         0    NaN   NaN         NaN        0      12    2008   \n",
       "\n",
       "  SaleType SaleCondition  SalePrice  \n",
       "0       WD        Normal     208500  \n",
       "1       WD        Normal     181500  \n",
       "2       WD        Normal     223500  \n",
       "3       WD       Abnorml     140000  \n",
       "4       WD        Normal     250000  "
      ]
     },
     "execution_count": 3,
     "metadata": {},
     "output_type": "execute_result"
    }
   ],
   "source": [
    "data.head()"
   ]
  },
  {
   "cell_type": "markdown",
   "metadata": {},
   "source": [
    "### Types of variables\n",
    "\n"
   ]
  },
  {
   "cell_type": "code",
   "execution_count": 4,
   "metadata": {
    "ExecuteTime": {
     "end_time": "2020-03-09T07:32:51.725905Z",
     "start_time": "2020-03-09T07:32:51.719889Z"
    }
   },
   "outputs": [
    {
     "name": "stdout",
     "output_type": "stream",
     "text": [
      "Number of House Id labels:  1460\n",
      "Number of Houses in the Dataset:  1460\n"
     ]
    }
   ],
   "source": [
    "# we have an Id variable, that we should not use for predictions:\n",
    "\n",
    "print('Number of House Id labels: ', len(data.Id.unique()))\n",
    "print('Number of Houses in the Dataset: ', len(data))"
   ]
  },
  {
   "cell_type": "markdown",
   "metadata": {},
   "source": [
    "#### Find categorical variables"
   ]
  },
  {
   "cell_type": "code",
   "execution_count": 5,
   "metadata": {
    "ExecuteTime": {
     "end_time": "2020-03-09T07:32:53.140553Z",
     "start_time": "2020-03-09T07:32:53.135036Z"
    },
    "scrolled": true
   },
   "outputs": [
    {
     "name": "stdout",
     "output_type": "stream",
     "text": [
      "There are 43 categorical variables\n"
     ]
    },
    {
     "data": {
      "text/plain": [
       "['MSZoning',\n",
       " 'Street',\n",
       " 'Alley',\n",
       " 'LotShape',\n",
       " 'LandContour',\n",
       " 'Utilities',\n",
       " 'LotConfig',\n",
       " 'LandSlope',\n",
       " 'Neighborhood',\n",
       " 'Condition1',\n",
       " 'Condition2',\n",
       " 'BldgType',\n",
       " 'HouseStyle',\n",
       " 'RoofStyle',\n",
       " 'RoofMatl',\n",
       " 'Exterior1st',\n",
       " 'Exterior2nd',\n",
       " 'MasVnrType',\n",
       " 'ExterQual',\n",
       " 'ExterCond',\n",
       " 'Foundation',\n",
       " 'BsmtQual',\n",
       " 'BsmtCond',\n",
       " 'BsmtExposure',\n",
       " 'BsmtFinType1',\n",
       " 'BsmtFinType2',\n",
       " 'Heating',\n",
       " 'HeatingQC',\n",
       " 'CentralAir',\n",
       " 'Electrical',\n",
       " 'KitchenQual',\n",
       " 'Functional',\n",
       " 'FireplaceQu',\n",
       " 'GarageType',\n",
       " 'GarageFinish',\n",
       " 'GarageQual',\n",
       " 'GarageCond',\n",
       " 'PavedDrive',\n",
       " 'PoolQC',\n",
       " 'Fence',\n",
       " 'MiscFeature',\n",
       " 'SaleType',\n",
       " 'SaleCondition']"
      ]
     },
     "execution_count": 5,
     "metadata": {},
     "output_type": "execute_result"
    }
   ],
   "source": [
    "# find categorical variables- hint data type = 'O'\n",
    "\n",
    "categorical = [var for var in data.columns if data[var].dtype=='O']\n",
    "\n",
    "print(f'There are {len(categorical)} categorical variables')\n",
    "categorical"
   ]
  },
  {
   "cell_type": "markdown",
   "metadata": {},
   "source": [
    "#### Find temporal variables"
   ]
  },
  {
   "cell_type": "code",
   "execution_count": 6,
   "metadata": {
    "ExecuteTime": {
     "end_time": "2020-03-09T07:32:54.328164Z",
     "start_time": "2020-03-09T07:32:54.321146Z"
    }
   },
   "outputs": [
    {
     "data": {
      "text/plain": [
       "['YearBuilt', 'YearRemodAdd', 'GarageYrBlt', 'YrSold']"
      ]
     },
     "execution_count": 6,
     "metadata": {},
     "output_type": "execute_result"
    }
   ],
   "source": [
    "# make a list of the numerical variables first= Hint data type != O\n",
    "numerical = [var for var in data.columns if data[var].dtype!='O']\n",
    "\n",
    "# list of variables that contain year information= Hint variable namme has Yr or \n",
    "year_vars = [var for var in numerical if 'Yr' in var or 'Year' in var]\n",
    "\n",
    "year_vars"
   ]
  },
  {
   "cell_type": "code",
   "execution_count": 7,
   "metadata": {
    "scrolled": true
   },
   "outputs": [
    {
     "data": {
      "text/plain": [
       "['Id',\n",
       " 'MSSubClass',\n",
       " 'LotFrontage',\n",
       " 'LotArea',\n",
       " 'OverallQual',\n",
       " 'OverallCond',\n",
       " 'YearBuilt',\n",
       " 'YearRemodAdd',\n",
       " 'MasVnrArea',\n",
       " 'BsmtFinSF1',\n",
       " 'BsmtFinSF2',\n",
       " 'BsmtUnfSF',\n",
       " 'TotalBsmtSF',\n",
       " '1stFlrSF',\n",
       " '2ndFlrSF',\n",
       " 'LowQualFinSF',\n",
       " 'GrLivArea',\n",
       " 'BsmtFullBath',\n",
       " 'BsmtHalfBath',\n",
       " 'FullBath',\n",
       " 'HalfBath',\n",
       " 'BedroomAbvGr',\n",
       " 'KitchenAbvGr',\n",
       " 'TotRmsAbvGrd',\n",
       " 'Fireplaces',\n",
       " 'GarageYrBlt',\n",
       " 'GarageCars',\n",
       " 'GarageArea',\n",
       " 'WoodDeckSF',\n",
       " 'OpenPorchSF',\n",
       " 'EnclosedPorch',\n",
       " '3SsnPorch',\n",
       " 'ScreenPorch',\n",
       " 'PoolArea',\n",
       " 'MiscVal',\n",
       " 'MoSold',\n",
       " 'YrSold',\n",
       " 'SalePrice']"
      ]
     },
     "execution_count": 7,
     "metadata": {},
     "output_type": "execute_result"
    }
   ],
   "source": [
    "numerical"
   ]
  },
  {
   "cell_type": "markdown",
   "metadata": {},
   "source": [
    "#### Find discrete variables\n",
    "\n",
    "To identify discrete variables- numerical variables with less than 20 unique values "
   ]
  },
  {
   "cell_type": "code",
   "execution_count": 8,
   "metadata": {
    "ExecuteTime": {
     "end_time": "2020-03-09T07:32:55.849304Z",
     "start_time": "2020-03-09T07:32:55.835765Z"
    }
   },
   "outputs": [
    {
     "name": "stdout",
     "output_type": "stream",
     "text": [
      "There are 14 discrete variables\n"
     ]
    },
    {
     "data": {
      "text/plain": [
       "['MSSubClass',\n",
       " 'OverallQual',\n",
       " 'OverallCond',\n",
       " 'BsmtFullBath',\n",
       " 'BsmtHalfBath',\n",
       " 'FullBath',\n",
       " 'HalfBath',\n",
       " 'BedroomAbvGr',\n",
       " 'KitchenAbvGr',\n",
       " 'TotRmsAbvGrd',\n",
       " 'Fireplaces',\n",
       " 'GarageCars',\n",
       " 'PoolArea',\n",
       " 'MoSold']"
      ]
     },
     "execution_count": 8,
     "metadata": {},
     "output_type": "execute_result"
    }
   ],
   "source": [
    "# let's visualise the values of the discrete variables\n",
    "discrete = [var for var in numerical if len(data[var].unique()) < 20 and var not in year_vars]\n",
    "\n",
    "print(f'There are {len(discrete)} discrete variables')\n",
    "discrete"
   ]
  },
  {
   "cell_type": "markdown",
   "metadata": {},
   "source": [
    "#### Continuous variables"
   ]
  },
  {
   "cell_type": "code",
   "execution_count": 9,
   "metadata": {
    "ExecuteTime": {
     "end_time": "2020-03-09T07:32:57.274949Z",
     "start_time": "2020-03-09T07:32:57.268932Z"
    },
    "scrolled": true
   },
   "outputs": [
    {
     "name": "stdout",
     "output_type": "stream",
     "text": [
      "There are 38 numerical and continuous variables\n"
     ]
    },
    {
     "data": {
      "text/plain": [
       "['LotFrontage',\n",
       " 'LotArea',\n",
       " 'MasVnrArea',\n",
       " 'BsmtFinSF1',\n",
       " 'BsmtFinSF2',\n",
       " 'BsmtUnfSF',\n",
       " 'TotalBsmtSF',\n",
       " '1stFlrSF',\n",
       " '2ndFlrSF',\n",
       " 'LowQualFinSF',\n",
       " 'GrLivArea',\n",
       " 'GarageArea',\n",
       " 'WoodDeckSF',\n",
       " 'OpenPorchSF',\n",
       " 'EnclosedPorch',\n",
       " '3SsnPorch',\n",
       " 'ScreenPorch',\n",
       " 'MiscVal']"
      ]
     },
     "execution_count": 9,
     "metadata": {},
     "output_type": "execute_result"
    }
   ],
   "source": [
    "# find continuous variables- hint numerical variables not in discrete and  year_years \n",
    "# Also remove the Id variable and the target variable SalePrice\n",
    "# which are both also numerical\n",
    "\n",
    "continuous = [var for var in numerical if var not in discrete and var not in [\n",
    "    'Id', 'SalePrice'] and var not in year_vars]\n",
    "\n",
    "print('There are {} numerical and continuous variables'.format(len(numerical)))\n",
    "continuous"
   ]
  },
  {
   "cell_type": "markdown",
   "metadata": {},
   "source": [
    "### Separate train and test set"
   ]
  },
  {
   "cell_type": "code",
   "execution_count": 10,
   "metadata": {
    "ExecuteTime": {
     "end_time": "2020-03-09T07:32:58.666697Z",
     "start_time": "2020-03-09T07:32:58.651653Z"
    }
   },
   "outputs": [
    {
     "data": {
      "text/plain": [
       "((1314, 79), (146, 79))"
      ]
     },
     "execution_count": 10,
     "metadata": {},
     "output_type": "execute_result"
    }
   ],
   "source": [
    "# Let's separate into train and test set\n",
    "from sklearn.model_selection import train_test_split\n",
    "X_train, X_test, y_train, y_test = train_test_split(data.drop(['Id', 'SalePrice'], axis=1),\n",
    "                                                    data['SalePrice'],\n",
    "                                                    test_size=0.1,\n",
    "                                                    random_state=0)\n",
    "\n",
    "X_train.shape, X_test.shape"
   ]
  },
  {
   "cell_type": "markdown",
   "metadata": {},
   "source": [
    "**Now we will move on and engineer the features of this dataset. The most important part for this course.**"
   ]
  },
  {
   "cell_type": "markdown",
   "metadata": {},
   "source": [
    "### Craete New Variables\n",
    "\n",
    "Replace 'YearBuilt', 'YearRemodAdd', 'GarageYrBlt  with time elapsed since YrSold\n",
    "So YearBuilt = YrSold-YearBuilt. \n",
    "\n",
    "Similarly transform 'YearRemodAdd', 'GarageYrBlt.\n",
    "After making transformation drop YrSold"
   ]
  },
  {
   "cell_type": "code",
   "execution_count": 11,
   "metadata": {},
   "outputs": [
    {
     "data": {
      "text/html": [
       "<div>\n",
       "<style scoped>\n",
       "    .dataframe tbody tr th:only-of-type {\n",
       "        vertical-align: middle;\n",
       "    }\n",
       "\n",
       "    .dataframe tbody tr th {\n",
       "        vertical-align: top;\n",
       "    }\n",
       "\n",
       "    .dataframe thead th {\n",
       "        text-align: right;\n",
       "    }\n",
       "</style>\n",
       "<table border=\"1\" class=\"dataframe\">\n",
       "  <thead>\n",
       "    <tr style=\"text-align: right;\">\n",
       "      <th></th>\n",
       "      <th>MSSubClass</th>\n",
       "      <th>MSZoning</th>\n",
       "      <th>LotFrontage</th>\n",
       "      <th>LotArea</th>\n",
       "      <th>Street</th>\n",
       "      <th>Alley</th>\n",
       "      <th>LotShape</th>\n",
       "      <th>LandContour</th>\n",
       "      <th>Utilities</th>\n",
       "      <th>LotConfig</th>\n",
       "      <th>LandSlope</th>\n",
       "      <th>Neighborhood</th>\n",
       "      <th>Condition1</th>\n",
       "      <th>Condition2</th>\n",
       "      <th>BldgType</th>\n",
       "      <th>HouseStyle</th>\n",
       "      <th>OverallQual</th>\n",
       "      <th>OverallCond</th>\n",
       "      <th>YearBuilt</th>\n",
       "      <th>YearRemodAdd</th>\n",
       "      <th>RoofStyle</th>\n",
       "      <th>RoofMatl</th>\n",
       "      <th>Exterior1st</th>\n",
       "      <th>Exterior2nd</th>\n",
       "      <th>MasVnrType</th>\n",
       "      <th>MasVnrArea</th>\n",
       "      <th>ExterQual</th>\n",
       "      <th>ExterCond</th>\n",
       "      <th>Foundation</th>\n",
       "      <th>BsmtQual</th>\n",
       "      <th>BsmtCond</th>\n",
       "      <th>BsmtExposure</th>\n",
       "      <th>BsmtFinType1</th>\n",
       "      <th>BsmtFinSF1</th>\n",
       "      <th>BsmtFinType2</th>\n",
       "      <th>BsmtFinSF2</th>\n",
       "      <th>BsmtUnfSF</th>\n",
       "      <th>TotalBsmtSF</th>\n",
       "      <th>Heating</th>\n",
       "      <th>HeatingQC</th>\n",
       "      <th>CentralAir</th>\n",
       "      <th>Electrical</th>\n",
       "      <th>1stFlrSF</th>\n",
       "      <th>2ndFlrSF</th>\n",
       "      <th>LowQualFinSF</th>\n",
       "      <th>GrLivArea</th>\n",
       "      <th>BsmtFullBath</th>\n",
       "      <th>BsmtHalfBath</th>\n",
       "      <th>FullBath</th>\n",
       "      <th>HalfBath</th>\n",
       "      <th>BedroomAbvGr</th>\n",
       "      <th>KitchenAbvGr</th>\n",
       "      <th>KitchenQual</th>\n",
       "      <th>TotRmsAbvGrd</th>\n",
       "      <th>Functional</th>\n",
       "      <th>Fireplaces</th>\n",
       "      <th>FireplaceQu</th>\n",
       "      <th>GarageType</th>\n",
       "      <th>GarageYrBlt</th>\n",
       "      <th>GarageFinish</th>\n",
       "      <th>GarageCars</th>\n",
       "      <th>GarageArea</th>\n",
       "      <th>GarageQual</th>\n",
       "      <th>GarageCond</th>\n",
       "      <th>PavedDrive</th>\n",
       "      <th>WoodDeckSF</th>\n",
       "      <th>OpenPorchSF</th>\n",
       "      <th>EnclosedPorch</th>\n",
       "      <th>3SsnPorch</th>\n",
       "      <th>ScreenPorch</th>\n",
       "      <th>PoolArea</th>\n",
       "      <th>PoolQC</th>\n",
       "      <th>Fence</th>\n",
       "      <th>MiscFeature</th>\n",
       "      <th>MiscVal</th>\n",
       "      <th>MoSold</th>\n",
       "      <th>YrSold</th>\n",
       "      <th>SaleType</th>\n",
       "      <th>SaleCondition</th>\n",
       "    </tr>\n",
       "  </thead>\n",
       "  <tbody>\n",
       "    <tr>\n",
       "      <th>930</th>\n",
       "      <td>20</td>\n",
       "      <td>RL</td>\n",
       "      <td>73.0</td>\n",
       "      <td>8925</td>\n",
       "      <td>Pave</td>\n",
       "      <td>NaN</td>\n",
       "      <td>IR1</td>\n",
       "      <td>HLS</td>\n",
       "      <td>AllPub</td>\n",
       "      <td>Inside</td>\n",
       "      <td>Gtl</td>\n",
       "      <td>Timber</td>\n",
       "      <td>Norm</td>\n",
       "      <td>Norm</td>\n",
       "      <td>1Fam</td>\n",
       "      <td>1Story</td>\n",
       "      <td>8</td>\n",
       "      <td>5</td>\n",
       "      <td>2007</td>\n",
       "      <td>2007</td>\n",
       "      <td>Gable</td>\n",
       "      <td>CompShg</td>\n",
       "      <td>VinylSd</td>\n",
       "      <td>VinylSd</td>\n",
       "      <td>None</td>\n",
       "      <td>0.0</td>\n",
       "      <td>Gd</td>\n",
       "      <td>TA</td>\n",
       "      <td>PConc</td>\n",
       "      <td>Gd</td>\n",
       "      <td>TA</td>\n",
       "      <td>Av</td>\n",
       "      <td>GLQ</td>\n",
       "      <td>16</td>\n",
       "      <td>Unf</td>\n",
       "      <td>0</td>\n",
       "      <td>1450</td>\n",
       "      <td>1466</td>\n",
       "      <td>GasA</td>\n",
       "      <td>Ex</td>\n",
       "      <td>Y</td>\n",
       "      <td>SBrkr</td>\n",
       "      <td>1466</td>\n",
       "      <td>0</td>\n",
       "      <td>0</td>\n",
       "      <td>1466</td>\n",
       "      <td>0</td>\n",
       "      <td>0</td>\n",
       "      <td>2</td>\n",
       "      <td>0</td>\n",
       "      <td>3</td>\n",
       "      <td>1</td>\n",
       "      <td>Gd</td>\n",
       "      <td>7</td>\n",
       "      <td>Typ</td>\n",
       "      <td>0</td>\n",
       "      <td>NaN</td>\n",
       "      <td>Attchd</td>\n",
       "      <td>2007.0</td>\n",
       "      <td>Fin</td>\n",
       "      <td>3</td>\n",
       "      <td>610</td>\n",
       "      <td>TA</td>\n",
       "      <td>TA</td>\n",
       "      <td>Y</td>\n",
       "      <td>100</td>\n",
       "      <td>18</td>\n",
       "      <td>0</td>\n",
       "      <td>0</td>\n",
       "      <td>0</td>\n",
       "      <td>0</td>\n",
       "      <td>NaN</td>\n",
       "      <td>NaN</td>\n",
       "      <td>NaN</td>\n",
       "      <td>0</td>\n",
       "      <td>7</td>\n",
       "      <td>2009</td>\n",
       "      <td>WD</td>\n",
       "      <td>Normal</td>\n",
       "    </tr>\n",
       "    <tr>\n",
       "      <th>656</th>\n",
       "      <td>20</td>\n",
       "      <td>RL</td>\n",
       "      <td>72.0</td>\n",
       "      <td>10007</td>\n",
       "      <td>Pave</td>\n",
       "      <td>NaN</td>\n",
       "      <td>IR1</td>\n",
       "      <td>Lvl</td>\n",
       "      <td>AllPub</td>\n",
       "      <td>Inside</td>\n",
       "      <td>Gtl</td>\n",
       "      <td>NAmes</td>\n",
       "      <td>Norm</td>\n",
       "      <td>Norm</td>\n",
       "      <td>1Fam</td>\n",
       "      <td>1Story</td>\n",
       "      <td>5</td>\n",
       "      <td>7</td>\n",
       "      <td>1959</td>\n",
       "      <td>2006</td>\n",
       "      <td>Gable</td>\n",
       "      <td>CompShg</td>\n",
       "      <td>HdBoard</td>\n",
       "      <td>HdBoard</td>\n",
       "      <td>BrkFace</td>\n",
       "      <td>54.0</td>\n",
       "      <td>Gd</td>\n",
       "      <td>TA</td>\n",
       "      <td>CBlock</td>\n",
       "      <td>TA</td>\n",
       "      <td>TA</td>\n",
       "      <td>No</td>\n",
       "      <td>ALQ</td>\n",
       "      <td>806</td>\n",
       "      <td>Unf</td>\n",
       "      <td>0</td>\n",
       "      <td>247</td>\n",
       "      <td>1053</td>\n",
       "      <td>GasA</td>\n",
       "      <td>Ex</td>\n",
       "      <td>Y</td>\n",
       "      <td>SBrkr</td>\n",
       "      <td>1053</td>\n",
       "      <td>0</td>\n",
       "      <td>0</td>\n",
       "      <td>1053</td>\n",
       "      <td>1</td>\n",
       "      <td>0</td>\n",
       "      <td>1</td>\n",
       "      <td>1</td>\n",
       "      <td>3</td>\n",
       "      <td>1</td>\n",
       "      <td>Gd</td>\n",
       "      <td>5</td>\n",
       "      <td>Typ</td>\n",
       "      <td>0</td>\n",
       "      <td>NaN</td>\n",
       "      <td>Attchd</td>\n",
       "      <td>1959.0</td>\n",
       "      <td>RFn</td>\n",
       "      <td>1</td>\n",
       "      <td>312</td>\n",
       "      <td>TA</td>\n",
       "      <td>TA</td>\n",
       "      <td>Y</td>\n",
       "      <td>0</td>\n",
       "      <td>0</td>\n",
       "      <td>0</td>\n",
       "      <td>0</td>\n",
       "      <td>0</td>\n",
       "      <td>0</td>\n",
       "      <td>NaN</td>\n",
       "      <td>MnPrv</td>\n",
       "      <td>NaN</td>\n",
       "      <td>0</td>\n",
       "      <td>8</td>\n",
       "      <td>2008</td>\n",
       "      <td>WD</td>\n",
       "      <td>Normal</td>\n",
       "    </tr>\n",
       "    <tr>\n",
       "      <th>45</th>\n",
       "      <td>120</td>\n",
       "      <td>RL</td>\n",
       "      <td>61.0</td>\n",
       "      <td>7658</td>\n",
       "      <td>Pave</td>\n",
       "      <td>NaN</td>\n",
       "      <td>Reg</td>\n",
       "      <td>Lvl</td>\n",
       "      <td>AllPub</td>\n",
       "      <td>Inside</td>\n",
       "      <td>Gtl</td>\n",
       "      <td>NridgHt</td>\n",
       "      <td>Norm</td>\n",
       "      <td>Norm</td>\n",
       "      <td>TwnhsE</td>\n",
       "      <td>1Story</td>\n",
       "      <td>9</td>\n",
       "      <td>5</td>\n",
       "      <td>2005</td>\n",
       "      <td>2005</td>\n",
       "      <td>Hip</td>\n",
       "      <td>CompShg</td>\n",
       "      <td>MetalSd</td>\n",
       "      <td>MetalSd</td>\n",
       "      <td>BrkFace</td>\n",
       "      <td>412.0</td>\n",
       "      <td>Ex</td>\n",
       "      <td>TA</td>\n",
       "      <td>PConc</td>\n",
       "      <td>Ex</td>\n",
       "      <td>TA</td>\n",
       "      <td>No</td>\n",
       "      <td>GLQ</td>\n",
       "      <td>456</td>\n",
       "      <td>Unf</td>\n",
       "      <td>0</td>\n",
       "      <td>1296</td>\n",
       "      <td>1752</td>\n",
       "      <td>GasA</td>\n",
       "      <td>Ex</td>\n",
       "      <td>Y</td>\n",
       "      <td>SBrkr</td>\n",
       "      <td>1752</td>\n",
       "      <td>0</td>\n",
       "      <td>0</td>\n",
       "      <td>1752</td>\n",
       "      <td>1</td>\n",
       "      <td>0</td>\n",
       "      <td>2</td>\n",
       "      <td>0</td>\n",
       "      <td>2</td>\n",
       "      <td>1</td>\n",
       "      <td>Ex</td>\n",
       "      <td>6</td>\n",
       "      <td>Typ</td>\n",
       "      <td>1</td>\n",
       "      <td>Gd</td>\n",
       "      <td>Attchd</td>\n",
       "      <td>2005.0</td>\n",
       "      <td>RFn</td>\n",
       "      <td>2</td>\n",
       "      <td>576</td>\n",
       "      <td>TA</td>\n",
       "      <td>TA</td>\n",
       "      <td>Y</td>\n",
       "      <td>196</td>\n",
       "      <td>82</td>\n",
       "      <td>0</td>\n",
       "      <td>0</td>\n",
       "      <td>0</td>\n",
       "      <td>0</td>\n",
       "      <td>NaN</td>\n",
       "      <td>NaN</td>\n",
       "      <td>NaN</td>\n",
       "      <td>0</td>\n",
       "      <td>2</td>\n",
       "      <td>2010</td>\n",
       "      <td>WD</td>\n",
       "      <td>Normal</td>\n",
       "    </tr>\n",
       "    <tr>\n",
       "      <th>1348</th>\n",
       "      <td>20</td>\n",
       "      <td>RL</td>\n",
       "      <td>NaN</td>\n",
       "      <td>16196</td>\n",
       "      <td>Pave</td>\n",
       "      <td>NaN</td>\n",
       "      <td>IR3</td>\n",
       "      <td>Low</td>\n",
       "      <td>AllPub</td>\n",
       "      <td>Inside</td>\n",
       "      <td>Gtl</td>\n",
       "      <td>SawyerW</td>\n",
       "      <td>Norm</td>\n",
       "      <td>Norm</td>\n",
       "      <td>1Fam</td>\n",
       "      <td>1Story</td>\n",
       "      <td>7</td>\n",
       "      <td>5</td>\n",
       "      <td>1998</td>\n",
       "      <td>1998</td>\n",
       "      <td>Gable</td>\n",
       "      <td>CompShg</td>\n",
       "      <td>VinylSd</td>\n",
       "      <td>VinylSd</td>\n",
       "      <td>None</td>\n",
       "      <td>0.0</td>\n",
       "      <td>Gd</td>\n",
       "      <td>TA</td>\n",
       "      <td>PConc</td>\n",
       "      <td>Gd</td>\n",
       "      <td>TA</td>\n",
       "      <td>Gd</td>\n",
       "      <td>GLQ</td>\n",
       "      <td>1443</td>\n",
       "      <td>Unf</td>\n",
       "      <td>0</td>\n",
       "      <td>39</td>\n",
       "      <td>1482</td>\n",
       "      <td>GasA</td>\n",
       "      <td>Ex</td>\n",
       "      <td>Y</td>\n",
       "      <td>SBrkr</td>\n",
       "      <td>1494</td>\n",
       "      <td>0</td>\n",
       "      <td>0</td>\n",
       "      <td>1494</td>\n",
       "      <td>1</td>\n",
       "      <td>0</td>\n",
       "      <td>2</td>\n",
       "      <td>0</td>\n",
       "      <td>3</td>\n",
       "      <td>1</td>\n",
       "      <td>Gd</td>\n",
       "      <td>5</td>\n",
       "      <td>Typ</td>\n",
       "      <td>1</td>\n",
       "      <td>Fa</td>\n",
       "      <td>Attchd</td>\n",
       "      <td>1998.0</td>\n",
       "      <td>RFn</td>\n",
       "      <td>2</td>\n",
       "      <td>514</td>\n",
       "      <td>TA</td>\n",
       "      <td>TA</td>\n",
       "      <td>Y</td>\n",
       "      <td>402</td>\n",
       "      <td>25</td>\n",
       "      <td>0</td>\n",
       "      <td>0</td>\n",
       "      <td>0</td>\n",
       "      <td>0</td>\n",
       "      <td>NaN</td>\n",
       "      <td>NaN</td>\n",
       "      <td>NaN</td>\n",
       "      <td>0</td>\n",
       "      <td>8</td>\n",
       "      <td>2007</td>\n",
       "      <td>WD</td>\n",
       "      <td>Normal</td>\n",
       "    </tr>\n",
       "    <tr>\n",
       "      <th>55</th>\n",
       "      <td>20</td>\n",
       "      <td>RL</td>\n",
       "      <td>100.0</td>\n",
       "      <td>10175</td>\n",
       "      <td>Pave</td>\n",
       "      <td>NaN</td>\n",
       "      <td>IR1</td>\n",
       "      <td>Lvl</td>\n",
       "      <td>AllPub</td>\n",
       "      <td>Inside</td>\n",
       "      <td>Gtl</td>\n",
       "      <td>NAmes</td>\n",
       "      <td>Norm</td>\n",
       "      <td>Norm</td>\n",
       "      <td>1Fam</td>\n",
       "      <td>1Story</td>\n",
       "      <td>6</td>\n",
       "      <td>5</td>\n",
       "      <td>1964</td>\n",
       "      <td>1964</td>\n",
       "      <td>Gable</td>\n",
       "      <td>CompShg</td>\n",
       "      <td>HdBoard</td>\n",
       "      <td>Plywood</td>\n",
       "      <td>BrkFace</td>\n",
       "      <td>272.0</td>\n",
       "      <td>TA</td>\n",
       "      <td>TA</td>\n",
       "      <td>CBlock</td>\n",
       "      <td>TA</td>\n",
       "      <td>TA</td>\n",
       "      <td>No</td>\n",
       "      <td>BLQ</td>\n",
       "      <td>490</td>\n",
       "      <td>Unf</td>\n",
       "      <td>0</td>\n",
       "      <td>935</td>\n",
       "      <td>1425</td>\n",
       "      <td>GasA</td>\n",
       "      <td>Gd</td>\n",
       "      <td>Y</td>\n",
       "      <td>SBrkr</td>\n",
       "      <td>1425</td>\n",
       "      <td>0</td>\n",
       "      <td>0</td>\n",
       "      <td>1425</td>\n",
       "      <td>0</td>\n",
       "      <td>0</td>\n",
       "      <td>2</td>\n",
       "      <td>0</td>\n",
       "      <td>3</td>\n",
       "      <td>1</td>\n",
       "      <td>TA</td>\n",
       "      <td>7</td>\n",
       "      <td>Typ</td>\n",
       "      <td>1</td>\n",
       "      <td>Gd</td>\n",
       "      <td>Attchd</td>\n",
       "      <td>1964.0</td>\n",
       "      <td>RFn</td>\n",
       "      <td>2</td>\n",
       "      <td>576</td>\n",
       "      <td>TA</td>\n",
       "      <td>TA</td>\n",
       "      <td>Y</td>\n",
       "      <td>0</td>\n",
       "      <td>0</td>\n",
       "      <td>0</td>\n",
       "      <td>407</td>\n",
       "      <td>0</td>\n",
       "      <td>0</td>\n",
       "      <td>NaN</td>\n",
       "      <td>NaN</td>\n",
       "      <td>NaN</td>\n",
       "      <td>0</td>\n",
       "      <td>7</td>\n",
       "      <td>2008</td>\n",
       "      <td>WD</td>\n",
       "      <td>Normal</td>\n",
       "    </tr>\n",
       "  </tbody>\n",
       "</table>\n",
       "</div>"
      ],
      "text/plain": [
       "      MSSubClass MSZoning  LotFrontage  LotArea Street Alley LotShape  \\\n",
       "930           20       RL         73.0     8925   Pave   NaN      IR1   \n",
       "656           20       RL         72.0    10007   Pave   NaN      IR1   \n",
       "45           120       RL         61.0     7658   Pave   NaN      Reg   \n",
       "1348          20       RL          NaN    16196   Pave   NaN      IR3   \n",
       "55            20       RL        100.0    10175   Pave   NaN      IR1   \n",
       "\n",
       "     LandContour Utilities LotConfig LandSlope Neighborhood Condition1  \\\n",
       "930          HLS    AllPub    Inside       Gtl       Timber       Norm   \n",
       "656          Lvl    AllPub    Inside       Gtl        NAmes       Norm   \n",
       "45           Lvl    AllPub    Inside       Gtl      NridgHt       Norm   \n",
       "1348         Low    AllPub    Inside       Gtl      SawyerW       Norm   \n",
       "55           Lvl    AllPub    Inside       Gtl        NAmes       Norm   \n",
       "\n",
       "     Condition2 BldgType HouseStyle  OverallQual  OverallCond  YearBuilt  \\\n",
       "930        Norm     1Fam     1Story            8            5       2007   \n",
       "656        Norm     1Fam     1Story            5            7       1959   \n",
       "45         Norm   TwnhsE     1Story            9            5       2005   \n",
       "1348       Norm     1Fam     1Story            7            5       1998   \n",
       "55         Norm     1Fam     1Story            6            5       1964   \n",
       "\n",
       "      YearRemodAdd RoofStyle RoofMatl Exterior1st Exterior2nd MasVnrType  \\\n",
       "930           2007     Gable  CompShg     VinylSd     VinylSd       None   \n",
       "656           2006     Gable  CompShg     HdBoard     HdBoard    BrkFace   \n",
       "45            2005       Hip  CompShg     MetalSd     MetalSd    BrkFace   \n",
       "1348          1998     Gable  CompShg     VinylSd     VinylSd       None   \n",
       "55            1964     Gable  CompShg     HdBoard     Plywood    BrkFace   \n",
       "\n",
       "      MasVnrArea ExterQual ExterCond Foundation BsmtQual BsmtCond  \\\n",
       "930          0.0        Gd        TA      PConc       Gd       TA   \n",
       "656         54.0        Gd        TA     CBlock       TA       TA   \n",
       "45         412.0        Ex        TA      PConc       Ex       TA   \n",
       "1348         0.0        Gd        TA      PConc       Gd       TA   \n",
       "55         272.0        TA        TA     CBlock       TA       TA   \n",
       "\n",
       "     BsmtExposure BsmtFinType1  BsmtFinSF1 BsmtFinType2  BsmtFinSF2  \\\n",
       "930            Av          GLQ          16          Unf           0   \n",
       "656            No          ALQ         806          Unf           0   \n",
       "45             No          GLQ         456          Unf           0   \n",
       "1348           Gd          GLQ        1443          Unf           0   \n",
       "55             No          BLQ         490          Unf           0   \n",
       "\n",
       "      BsmtUnfSF  TotalBsmtSF Heating HeatingQC CentralAir Electrical  \\\n",
       "930        1450         1466    GasA        Ex          Y      SBrkr   \n",
       "656         247         1053    GasA        Ex          Y      SBrkr   \n",
       "45         1296         1752    GasA        Ex          Y      SBrkr   \n",
       "1348         39         1482    GasA        Ex          Y      SBrkr   \n",
       "55          935         1425    GasA        Gd          Y      SBrkr   \n",
       "\n",
       "      1stFlrSF  2ndFlrSF  LowQualFinSF  GrLivArea  BsmtFullBath  BsmtHalfBath  \\\n",
       "930       1466         0             0       1466             0             0   \n",
       "656       1053         0             0       1053             1             0   \n",
       "45        1752         0             0       1752             1             0   \n",
       "1348      1494         0             0       1494             1             0   \n",
       "55        1425         0             0       1425             0             0   \n",
       "\n",
       "      FullBath  HalfBath  BedroomAbvGr  KitchenAbvGr KitchenQual  \\\n",
       "930          2         0             3             1          Gd   \n",
       "656          1         1             3             1          Gd   \n",
       "45           2         0             2             1          Ex   \n",
       "1348         2         0             3             1          Gd   \n",
       "55           2         0             3             1          TA   \n",
       "\n",
       "      TotRmsAbvGrd Functional  Fireplaces FireplaceQu GarageType  GarageYrBlt  \\\n",
       "930              7        Typ           0         NaN     Attchd       2007.0   \n",
       "656              5        Typ           0         NaN     Attchd       1959.0   \n",
       "45               6        Typ           1          Gd     Attchd       2005.0   \n",
       "1348             5        Typ           1          Fa     Attchd       1998.0   \n",
       "55               7        Typ           1          Gd     Attchd       1964.0   \n",
       "\n",
       "     GarageFinish  GarageCars  GarageArea GarageQual GarageCond PavedDrive  \\\n",
       "930           Fin           3         610         TA         TA          Y   \n",
       "656           RFn           1         312         TA         TA          Y   \n",
       "45            RFn           2         576         TA         TA          Y   \n",
       "1348          RFn           2         514         TA         TA          Y   \n",
       "55            RFn           2         576         TA         TA          Y   \n",
       "\n",
       "      WoodDeckSF  OpenPorchSF  EnclosedPorch  3SsnPorch  ScreenPorch  \\\n",
       "930          100           18              0          0            0   \n",
       "656            0            0              0          0            0   \n",
       "45           196           82              0          0            0   \n",
       "1348         402           25              0          0            0   \n",
       "55             0            0              0        407            0   \n",
       "\n",
       "      PoolArea PoolQC  Fence MiscFeature  MiscVal  MoSold  YrSold SaleType  \\\n",
       "930          0    NaN    NaN         NaN        0       7    2009       WD   \n",
       "656          0    NaN  MnPrv         NaN        0       8    2008       WD   \n",
       "45           0    NaN    NaN         NaN        0       2    2010       WD   \n",
       "1348         0    NaN    NaN         NaN        0       8    2007       WD   \n",
       "55           0    NaN    NaN         NaN        0       7    2008       WD   \n",
       "\n",
       "     SaleCondition  \n",
       "930         Normal  \n",
       "656         Normal  \n",
       "45          Normal  \n",
       "1348        Normal  \n",
       "55          Normal  "
      ]
     },
     "execution_count": 11,
     "metadata": {},
     "output_type": "execute_result"
    }
   ],
   "source": [
    "X_train.head()"
   ]
  },
  {
   "cell_type": "code",
   "execution_count": 12,
   "metadata": {
    "ExecuteTime": {
     "end_time": "2020-03-09T07:33:00.776674Z",
     "start_time": "2020-03-09T07:33:00.771663Z"
    }
   },
   "outputs": [],
   "source": [
    "# function to calculate elapsed time\n",
    "\n",
    "def elapsed_years(df, var):\n",
    "    # capture difference between year variable and\n",
    "    # year the house was sold\n",
    "    \n",
    "    df[var] = df['YrSold'] - df[var]\n",
    "    return df"
   ]
  },
  {
   "cell_type": "code",
   "execution_count": 13,
   "metadata": {
    "ExecuteTime": {
     "end_time": "2020-03-09T07:33:02.547542Z",
     "start_time": "2020-03-09T07:33:02.540522Z"
    }
   },
   "outputs": [],
   "source": [
    "for var in ['YearBuilt', 'YearRemodAdd', 'GarageYrBlt']:\n",
    "    X_train = elapsed_years(X_train, var)\n",
    "    X_test = elapsed_years(X_test, var)"
   ]
  },
  {
   "cell_type": "code",
   "execution_count": 14,
   "metadata": {
    "ExecuteTime": {
     "end_time": "2020-03-09T07:33:03.567722Z",
     "start_time": "2020-03-09T07:33:03.559698Z"
    }
   },
   "outputs": [],
   "source": [
    "# drop YrSold\n",
    "X_train.drop('YrSold', axis=1, inplace=True)\n",
    "X_test.drop('YrSold', axis=1, inplace=True)"
   ]
  },
  {
   "cell_type": "code",
   "execution_count": 15,
   "metadata": {
    "ExecuteTime": {
     "end_time": "2020-03-09T07:33:04.982369Z",
     "start_time": "2020-03-09T07:33:04.978849Z"
    }
   },
   "outputs": [],
   "source": [
    "year_vars.remove('YrSold')"
   ]
  },
  {
   "cell_type": "code",
   "execution_count": 16,
   "metadata": {
    "ExecuteTime": {
     "end_time": "2020-03-09T07:33:05.869066Z",
     "start_time": "2020-03-09T07:33:05.863050Z"
    }
   },
   "outputs": [
    {
     "data": {
      "text/plain": [
       "Index(['MSSubClass', 'MSZoning', 'LotFrontage', 'LotArea', 'Street', 'Alley',\n",
       "       'LotShape', 'LandContour', 'Utilities', 'LotConfig', 'LandSlope',\n",
       "       'Neighborhood', 'Condition1', 'Condition2', 'BldgType', 'HouseStyle',\n",
       "       'OverallQual', 'OverallCond', 'YearBuilt', 'YearRemodAdd', 'RoofStyle',\n",
       "       'RoofMatl', 'Exterior1st', 'Exterior2nd', 'MasVnrType', 'MasVnrArea',\n",
       "       'ExterQual', 'ExterCond', 'Foundation', 'BsmtQual', 'BsmtCond',\n",
       "       'BsmtExposure', 'BsmtFinType1', 'BsmtFinSF1', 'BsmtFinType2',\n",
       "       'BsmtFinSF2', 'BsmtUnfSF', 'TotalBsmtSF', 'Heating', 'HeatingQC',\n",
       "       'CentralAir', 'Electrical', '1stFlrSF', '2ndFlrSF', 'LowQualFinSF',\n",
       "       'GrLivArea', 'BsmtFullBath', 'BsmtHalfBath', 'FullBath', 'HalfBath',\n",
       "       'BedroomAbvGr', 'KitchenAbvGr', 'KitchenQual', 'TotRmsAbvGrd',\n",
       "       'Functional', 'Fireplaces', 'FireplaceQu', 'GarageType', 'GarageYrBlt',\n",
       "       'GarageFinish', 'GarageCars', 'GarageArea', 'GarageQual', 'GarageCond',\n",
       "       'PavedDrive', 'WoodDeckSF', 'OpenPorchSF', 'EnclosedPorch', '3SsnPorch',\n",
       "       'ScreenPorch', 'PoolArea', 'PoolQC', 'Fence', 'MiscFeature', 'MiscVal',\n",
       "       'MoSold', 'SaleType', 'SaleCondition'],\n",
       "      dtype='object')"
      ]
     },
     "execution_count": 16,
     "metadata": {},
     "output_type": "execute_result"
    }
   ],
   "source": [
    "# capture the column names for use later in the notebook\n",
    "final_columns = X_train.columns\n",
    "final_columns"
   ]
  },
  {
   "cell_type": "markdown",
   "metadata": {},
   "source": [
    "### Feature Engineering Pipeline"
   ]
  },
  {
   "cell_type": "code",
   "execution_count": 17,
   "metadata": {
    "ExecuteTime": {
     "end_time": "2020-03-09T07:33:07.930697Z",
     "start_time": "2020-03-09T07:33:07.909638Z"
    }
   },
   "outputs": [],
   "source": [
    "# I will treat discrete variables as if they were categorical\n",
    "# to treat discrete as categorical using Feature-engine\n",
    "# we need to re-cast them as object\n",
    "\n",
    "X_train[discrete] = X_train[discrete].astype('O')\n",
    "X_test[discrete] = X_test[discrete].astype('O')"
   ]
  },
  {
   "cell_type": "code",
   "execution_count": 18,
   "metadata": {
    "ExecuteTime": {
     "end_time": "2020-03-09T07:33:10.023580Z",
     "start_time": "2020-03-09T07:33:10.018569Z"
    }
   },
   "outputs": [],
   "source": [
    "# import relevant modules for feature engineering\n",
    "from sklearn.pipeline import Pipeline\n",
    "from sklearn.preprocessing import StandardScaler\n",
    "from feature_engine import missing_data_imputers as mdi\n",
    "from feature_engine import categorical_encoders as ce\n",
    "from feature_engine.variable_transformers import YeoJohnsonTransformer\n",
    "from sklearn.preprocessing import StandardScaler\n",
    "from feature_engine.discretisers import DecisionTreeDiscretiser"
   ]
  },
  {
   "cell_type": "code",
   "execution_count": 19,
   "metadata": {
    "ExecuteTime": {
     "end_time": "2020-03-09T07:33:11.578215Z",
     "start_time": "2020-03-09T07:33:11.570194Z"
    }
   },
   "outputs": [],
   "source": [
    "house_preprocess = Pipeline([\n",
    "    \n",
    "    # missing data imputation \n",
    "    ('missing_ind', mdi.AddNaNBinaryImputer(\n",
    "       variables=['LotFrontage', 'MasVnrArea',  'GarageYrBlt'])),\n",
    "    ('imputer_num', mdi.MeanMedianImputer(imputation_method='mean',\n",
    "                                          variables=['LotFrontage', 'MasVnrArea',  'GarageYrBlt'])),\n",
    "    ('imputer_cat', mdi.CategoricalVariableImputer(variables=categorical)),\n",
    "\n",
    "    # categorical encoding \n",
    "     ('rare_label_enc', ce.RareLabelCategoricalEncoder(\n",
    "         tol=0.01,n_categories=6, variables=categorical+discrete)),\n",
    "    ('categorical_enc', ce.MeanCategoricalEncoder(variables = categorical + discrete)),\n",
    "     \n",
    "    # Transforming Numerical Variables\n",
    "    ('yjt', YeoJohnsonTransformer(variables = ['LotFrontage','MasVnrArea', 'GarageYrBlt'])),\n",
    "\n",
    "    \n",
    "    # discretisation and encoding\n",
    "    ('treeDisc',  DecisionTreeDiscretiser(cv=2, scoring='neg_mean_squared_error',\n",
    "                                   regression=True,\n",
    "                                   param_grid={'max_depth': [1,2,3,4,5,6]})),\n",
    "\n",
    "    # feature Scaling\n",
    "    ('scaler', StandardScaler()),\n",
    "    \n",
    "    \n",
    "\n",
    "])"
   ]
  },
  {
   "cell_type": "code",
   "execution_count": 20,
   "metadata": {
    "ExecuteTime": {
     "end_time": "2020-03-09T07:33:18.934597Z",
     "start_time": "2020-03-09T07:33:15.096006Z"
    }
   },
   "outputs": [
    {
     "data": {
      "text/plain": [
       "Pipeline(memory=None,\n",
       "         steps=[('missing_ind',\n",
       "                 AddNaNBinaryImputer(variables=['LotFrontage', 'MasVnrArea',\n",
       "                                                'GarageYrBlt'])),\n",
       "                ('imputer_num',\n",
       "                 MeanMedianImputer(imputation_method='mean',\n",
       "                                   variables=['LotFrontage', 'MasVnrArea',\n",
       "                                              'GarageYrBlt'])),\n",
       "                ('imputer_cat',\n",
       "                 CategoricalVariableImputer(variables=['MSZoning', 'Street',\n",
       "                                                       'Alley', 'LotShape',\n",
       "                                                       'LandContour',\n",
       "                                                       'Utilities', '...\n",
       "                                                    'Utilities', 'LotConfig',\n",
       "                                                    'LandSlope', 'Neighborhood',\n",
       "                                                    'Condition1', 'Condition2',\n",
       "                                                    'BldgType', 'HouseStyle',\n",
       "                                                    'OverallQual',\n",
       "                                                    'OverallCond', 'YearBuilt',\n",
       "                                                    'YearRemodAdd', 'RoofStyle',\n",
       "                                                    'RoofMatl', 'Exterior1st',\n",
       "                                                    'Exterior2nd', 'MasVnrType',\n",
       "                                                    'MasVnrArea', 'ExterQual',\n",
       "                                                    'ExterCond', 'Foundation',\n",
       "                                                    'BsmtQual', ...])),\n",
       "                ('scaler',\n",
       "                 StandardScaler(copy=True, with_mean=True, with_std=True))],\n",
       "         verbose=False)"
      ]
     },
     "execution_count": 20,
     "metadata": {},
     "output_type": "execute_result"
    }
   ],
   "source": [
    "house_preprocess.fit(X_train,y_train)"
   ]
  },
  {
   "cell_type": "code",
   "execution_count": 21,
   "metadata": {
    "ExecuteTime": {
     "end_time": "2020-03-09T07:33:21.351997Z",
     "start_time": "2020-03-09T07:33:20.885744Z"
    }
   },
   "outputs": [],
   "source": [
    "# Apply Transformations\n",
    "X_train=house_preprocess.transform(X_train)\n",
    "X_test=house_preprocess.transform(X_test)"
   ]
  },
  {
   "cell_type": "markdown",
   "metadata": {},
   "source": [
    "## <span class=\"mark\">DO NOT CHANGE STEPS BEFORE THIS POINT</span>"
   ]
  },
  {
   "cell_type": "markdown",
   "metadata": {},
   "source": [
    "## Simple Models"
   ]
  },
  {
   "cell_type": "markdown",
   "metadata": {},
   "source": [
    "### Linear Regression"
   ]
  },
  {
   "cell_type": "code",
   "execution_count": 22,
   "metadata": {
    "ExecuteTime": {
     "end_time": "2020-03-09T07:33:23.368390Z",
     "start_time": "2020-03-09T07:33:23.292686Z"
    },
    "scrolled": true
   },
   "outputs": [],
   "source": [
    "# Train a linear regression model, report the coefficients and model performance \n",
    "\n",
    "from sklearn.linear_model import LinearRegression\n",
    "from sklearn.model_selection import cross_val_score\n",
    "\n",
    "lr = LinearRegression().fit(X_train, y_train)\n",
    "cv_scores = cross_val_score(lr, X_train, y_train)"
   ]
  },
  {
   "cell_type": "markdown",
   "metadata": {},
   "source": [
    "#### Results"
   ]
  },
  {
   "cell_type": "code",
   "execution_count": 23,
   "metadata": {},
   "outputs": [
    {
     "name": "stdout",
     "output_type": "stream",
     "text": [
      "train mse: 552937051.405446\n",
      "train rmse: 23514.61357125492\n",
      "train r2: 0.9114426745730106\n",
      "\n",
      "test mse: 861097775.8563162\n",
      "test rmse: 29344.467551078793\n",
      "test r2: 0.8746968378820517\n",
      "Mean Cross-validation scores: [ 8.68312903e-01 -6.26561684e+21  8.76203279e-01  8.98626806e-01\n",
      "  8.92290590e-01]\n",
      "Train score: 0.9114\n",
      "Test score: 0.8747\n"
     ]
    }
   ],
   "source": [
    "x_lrtrain= lr.predict(X_train)\n",
    "x_lrtest = lr.predict(X_test)\n",
    "\n",
    "# check model performance:\n",
    "\n",
    "print('train mse: {}'.format(mean_squared_error(y_train, x_lrtrain)))\n",
    "print('train rmse: {}'.format(sqrt(mean_squared_error(y_train, x_lrtrain))))\n",
    "print('train r2: {}'.format(r2_score(y_train, x_lrtrain)))\n",
    "print()\n",
    "print('test mse: {}'.format(mean_squared_error(y_test, x_lrtest)))\n",
    "print('test rmse: {}'.format(sqrt(mean_squared_error(y_test, x_lrtest))))\n",
    "print('test r2: {}'.format(r2_score(y_test, x_lrtest)))\n",
    "\n",
    "#print(\"Best parameters: {}\".format(lr.best_params_))\n",
    "print(\"Mean Cross-validation scores: {}\".format(cv_scores))\n",
    "print('Train score: {:.4f}'.format(lr.score(X_train, y_train)))\n",
    "print('Test score: {:.4f}'.format(lr.score(X_test, y_test)))"
   ]
  },
  {
   "cell_type": "markdown",
   "metadata": {},
   "source": [
    "### Ridge Regression"
   ]
  },
  {
   "cell_type": "code",
   "execution_count": 24,
   "metadata": {
    "ExecuteTime": {
     "end_time": "2020-03-09T07:33:32.923175Z",
     "start_time": "2020-03-09T07:33:32.720114Z"
    },
    "scrolled": true
   },
   "outputs": [
    {
     "data": {
      "text/plain": [
       "GridSearchCV(cv=10, error_score=nan,\n",
       "             estimator=Ridge(alpha=1.0, copy_X=True, fit_intercept=True,\n",
       "                             max_iter=None, normalize=False, random_state=None,\n",
       "                             solver='auto', tol=0.001),\n",
       "             iid='deprecated', n_jobs=None,\n",
       "             param_grid={'alpha': [1, 1000.0, 10000.0]},\n",
       "             pre_dispatch='2*n_jobs', refit=True, return_train_score=True,\n",
       "             scoring='r2', verbose=0)"
      ]
     },
     "execution_count": 24,
     "metadata": {},
     "output_type": "execute_result"
    }
   ],
   "source": [
    "# Train a Ridge regression model, report the coefficients, the best parameters, and model performance \n",
    "from sklearn.model_selection import GridSearchCV\n",
    "from sklearn.linear_model import Ridge\n",
    "ridge = Ridge()\n",
    "\n",
    "#define a list of parameters\n",
    "#param_ridge = {'alpha':[0.001, 0.01, 0.1, 1, 10, 100] }\n",
    "param_ridge = {'alpha':[1, 1e3, 1e4] }\n",
    "grid_ridge = GridSearchCV(ridge, param_ridge, cv=10, return_train_score = True,scoring='r2')\n",
    "grid_ridge.fit(X_train, y_train)"
   ]
  },
  {
   "cell_type": "markdown",
   "metadata": {},
   "source": [
    "#### Results"
   ]
  },
  {
   "cell_type": "code",
   "execution_count": 25,
   "metadata": {},
   "outputs": [
    {
     "name": "stdout",
     "output_type": "stream",
     "text": [
      "train mse: 552540520.7585117\n",
      "train rmse: 23506.1804800038\n",
      "train r2: 0.911506182152134\n",
      "\n",
      "test mse: 858035459.791463\n",
      "test rmse: 29292.242314159957\n",
      "test r2: 0.8751424526508844\n",
      "Best parameters: {'alpha': 1}\n",
      "Cross-validation scores: 0.8843424460850325\n",
      "Train score: 0.9115\n",
      "Test score: 0.8751\n"
     ]
    }
   ],
   "source": [
    "x_gridtrain= grid_ridge.predict(X_train)\n",
    "x_gridtest = grid_ridge.predict(X_test)\n",
    "\n",
    "# check model performance:\n",
    "\n",
    "print('train mse: {}'.format(mean_squared_error(y_train, x_gridtrain)))\n",
    "print('train rmse: {}'.format(sqrt(mean_squared_error(y_train, x_gridtrain))))\n",
    "print('train r2: {}'.format(r2_score(y_train, x_gridtrain)))\n",
    "print()\n",
    "print('test mse: {}'.format(mean_squared_error(y_test, x_gridtest)))\n",
    "print('test rmse: {}'.format(sqrt(mean_squared_error(y_test, x_gridtest))))\n",
    "print('test r2: {}'.format(r2_score(y_test, x_gridtest)))\n",
    "\n",
    "print(\"Best parameters: {}\".format(grid_ridge.best_params_))\n",
    "print(\"Cross-validation scores: {}\".format(grid_ridge.best_score_))\n",
    "print('Train score: {:.4f}'.format(grid_ridge.score(X_train, y_train)))\n",
    "print('Test score: {:.4f}'.format(grid_ridge.score(X_test, y_test)))"
   ]
  },
  {
   "cell_type": "markdown",
   "metadata": {},
   "source": [
    "### Lasso"
   ]
  },
  {
   "cell_type": "code",
   "execution_count": 26,
   "metadata": {
    "ExecuteTime": {
     "end_time": "2020-03-09T07:33:38.130469Z",
     "start_time": "2020-03-09T07:33:37.468173Z"
    },
    "scrolled": true
   },
   "outputs": [
    {
     "data": {
      "text/plain": [
       "GridSearchCV(cv=10, error_score=nan,\n",
       "             estimator=Lasso(alpha=1.0, copy_X=True, fit_intercept=True,\n",
       "                             max_iter=1000, normalize=False, positive=False,\n",
       "                             precompute=False, random_state=0,\n",
       "                             selection='cyclic', tol=0.0001, warm_start=False),\n",
       "             iid='deprecated', n_jobs=None,\n",
       "             param_grid={'alpha': [1, 10000.0, 100000.0]},\n",
       "             pre_dispatch='2*n_jobs', refit=True, return_train_score=True,\n",
       "             scoring='r2', verbose=0)"
      ]
     },
     "execution_count": 26,
     "metadata": {},
     "output_type": "execute_result"
    }
   ],
   "source": [
    "# Train a Lasso regression model, report the coefficients, the best parameters, and model performance \n",
    "\n",
    "# YOUR CODE HERE\n",
    "\n",
    "from sklearn.linear_model import Lasso\n",
    "lasso = Lasso(random_state=0)\n",
    "\n",
    "#define a list of parameters\n",
    "#param_lasso = {'alpha':[0.001, 0.01, 0.1, 1, 10, 100] }\n",
    "param_lasso = {'alpha':[1, 1e4, 1e5] }\n",
    "\n",
    "grid_lasso = GridSearchCV(lasso, param_lasso, cv=10, return_train_score = True,scoring='r2')\n",
    "grid_lasso.fit(X_train, y_train)"
   ]
  },
  {
   "cell_type": "markdown",
   "metadata": {},
   "source": [
    "#### Results"
   ]
  },
  {
   "cell_type": "code",
   "execution_count": 27,
   "metadata": {},
   "outputs": [
    {
     "name": "stdout",
     "output_type": "stream",
     "text": [
      "train mse: 552539222.3512008\n",
      "train rmse: 23506.152861563733\n",
      "train r2: 0.9115063901025299\n",
      "\n",
      "test mse: 857849072.1153543\n",
      "test rmse: 29289.060621934503\n",
      "test r2: 0.87516957496597\n",
      "Best parameters: {'alpha': 1}\n",
      "Cross-validation scores: 0.8843049751400216\n",
      "Train score: 0.9115\n",
      "Test score: 0.8752\n"
     ]
    }
   ],
   "source": [
    "x_lassotrain= grid_lasso.predict(X_train)\n",
    "x_lassotest = grid_lasso.predict(X_test)\n",
    "\n",
    "# check model performance:\n",
    "\n",
    "print('train mse: {}'.format(mean_squared_error(y_train, x_lassotrain)))\n",
    "print('train rmse: {}'.format(sqrt(mean_squared_error(y_train, x_lassotrain))))\n",
    "print('train r2: {}'.format(r2_score(y_train, x_lassotrain)))\n",
    "print()\n",
    "print('test mse: {}'.format(mean_squared_error(y_test, x_lassotest)))\n",
    "print('test rmse: {}'.format(sqrt(mean_squared_error(y_test, x_lassotest))))\n",
    "print('test r2: {}'.format(r2_score(y_test, x_lassotest)))\n",
    "\n",
    "print(\"Best parameters: {}\".format(grid_lasso.best_params_))\n",
    "print(\"Cross-validation scores: {}\".format(grid_lasso.best_score_))\n",
    "print('Train score: {:.4f}'.format(grid_lasso.score(X_train, y_train)))\n",
    "print('Test score: {:.4f}'.format(grid_lasso.score(X_test, y_test)))"
   ]
  },
  {
   "cell_type": "markdown",
   "metadata": {},
   "source": [
    "## Linear Regression with SGD"
   ]
  },
  {
   "cell_type": "code",
   "execution_count": 28,
   "metadata": {},
   "outputs": [],
   "source": [
    "from sklearn.linear_model import SGDRegressor"
   ]
  },
  {
   "cell_type": "code",
   "execution_count": 29,
   "metadata": {},
   "outputs": [],
   "source": [
    "# create pipeline\n",
    "reg_sgd_pipe = Pipeline([\n",
    "\n",
    "    # feature Scaling\n",
    "    ('scaler', MinMaxScaler()),\n",
    "    # regression\n",
    "    ('sgd_reg', SGDRegressor(max_iter=1000, tol = 1e-6))\n",
    "])\n",
    "\n",
    "param_sgd = {'sgd_reg__eta0':[0.01, 0.05, 0.1 ,0.5], \n",
    "             'sgd_reg__penalty' :['l1','l2'],#lasso,ridge\n",
    "             'sgd_reg__alpha' :[0.1,0.01,0.001] }\n",
    "\n",
    "grid_linearsgd = GridSearchCV(reg_sgd_pipe, \n",
    "                              param_sgd,cv=5, \n",
    "                              n_jobs=-1, \n",
    "                              return_train_score = True,\n",
    "                              scoring='r2')\n",
    "\n",
    "# let's fit the pipeline\n",
    "grid_linearsgd.fit(X_train, y_train)\n",
    "\n",
    "# let's get the predictions\n",
    "X_train_preds = grid_linearsgd.predict(X_train)\n",
    "X_test_preds = grid_linearsgd.predict(X_test)"
   ]
  },
  {
   "cell_type": "markdown",
   "metadata": {},
   "source": [
    "### Results"
   ]
  },
  {
   "cell_type": "code",
   "execution_count": 30,
   "metadata": {},
   "outputs": [
    {
     "name": "stdout",
     "output_type": "stream",
     "text": [
      "train mse: 594505167.346368\n",
      "train rmse: 24382.476645049166\n",
      "train r2: 0.9047852057681796\n",
      "\n",
      "test mse: 957543094.9385668\n",
      "test rmse: 30944.19323457257\n",
      "test r2: 0.8606625391167776\n",
      "Best parameters: {'sgd_reg__alpha': 0.01, 'sgd_reg__eta0': 0.05, 'sgd_reg__penalty': 'l1'}\n",
      "Train score: 0.9048\n",
      "Test score: 0.8607\n"
     ]
    }
   ],
   "source": [
    "# check model performance:\n",
    "\n",
    "print('train mse: {}'.format(mean_squared_error(y_train, X_train_preds)))\n",
    "print('train rmse: {}'.format(sqrt(mean_squared_error(y_train, X_train_preds))))\n",
    "print('train r2: {}'.format(r2_score(y_train, X_train_preds)))\n",
    "print()\n",
    "print('test mse: {}'.format(mean_squared_error(y_test, X_test_preds)))\n",
    "print('test rmse: {}'.format(sqrt(mean_squared_error(y_test, X_test_preds))))\n",
    "print('test r2: {}'.format(r2_score(y_test, X_test_preds)))\n",
    "\n",
    "print(\"Best parameters: {}\".format(grid_linearsgd.best_params_))\n",
    "print('Train score: {:.4f}'.format(grid_linearsgd.score(X_train, y_train)))\n",
    "print('Test score: {:.4f}'.format(grid_linearsgd.score(X_test, y_test)))"
   ]
  },
  {
   "cell_type": "markdown",
   "metadata": {},
   "source": [
    "## Polynomial Regression"
   ]
  },
  {
   "cell_type": "code",
   "execution_count": 31,
   "metadata": {},
   "outputs": [],
   "source": [
    "#apply polynomial regression in pipeline\n",
    "#pipe_poly = make_pipeline(PolynomialFeatures(),MinMaxScaler(), LinearRegression())\n",
    "pipe_poly=Pipeline([ \n",
    "    ('polynomialfeatures', PolynomialFeatures()),\n",
    "    ('scaler',MinMaxScaler()),\n",
    "    ('norm_reg', LinearRegression())\n",
    "    \n",
    "])\n",
    "#define a list of parameters\n",
    "param_poly = {'polynomialfeatures__degree':range(1,3)}\n",
    "\n",
    "grid_poly = GridSearchCV(pipe_poly, param_poly,cv=5, n_jobs=-1, return_train_score = True,scoring='r2')\n",
    "\n",
    "\n",
    "grid_poly.fit(X_train, y_train)\n",
    "\n",
    "# let's get the predictions\n",
    "X_train_preds = grid_poly.predict(X_train)\n",
    "X_test_preds = grid_poly.predict(X_test)\n"
   ]
  },
  {
   "cell_type": "markdown",
   "metadata": {},
   "source": [
    "### Results"
   ]
  },
  {
   "cell_type": "code",
   "execution_count": 32,
   "metadata": {},
   "outputs": [
    {
     "name": "stdout",
     "output_type": "stream",
     "text": [
      "train mse: 552539222.3512008\n",
      "train rmse: 23506.152861563733\n",
      "train r2: 0.9115063901025299\n",
      "\n",
      "test mse: 857849072.1153543\n",
      "test rmse: 29289.060621934503\n",
      "test r2: 0.87516957496597\n",
      "Best parameters: {'polynomialfeatures__degree': 2}\n",
      "Cross-validation scores: -9.790048692779738e+22\n",
      "Train score: 1.0000\n",
      "Test score: -312603571663290826752.0000\n"
     ]
    }
   ],
   "source": [
    "x_polytrain= grid_lasso.predict(X_train)\n",
    "x_polytest = grid_lasso.predict(X_test)\n",
    "\n",
    "# check model performance:\n",
    "\n",
    "print('train mse: {}'.format(mean_squared_error(y_train, x_polytrain)))\n",
    "print('train rmse: {}'.format(sqrt(mean_squared_error(y_train, x_polytrain))))\n",
    "print('train r2: {}'.format(r2_score(y_train, x_polytrain)))\n",
    "print()\n",
    "print('test mse: {}'.format(mean_squared_error(y_test, x_polytest)))\n",
    "print('test rmse: {}'.format(sqrt(mean_squared_error(y_test, x_polytest))))\n",
    "print('test r2: {}'.format(r2_score(y_test, x_polytest)))\n",
    "\n",
    "print(\"Best parameters: {}\".format(grid_poly.best_params_))\n",
    "print(\"Cross-validation scores: {}\".format(grid_poly.best_score_))\n",
    "print('Train score: {:.4f}'.format(grid_poly.score(X_train, y_train)))\n",
    "print('Test score: {:.4f}'.format(grid_poly.score(X_test, y_test)))"
   ]
  },
  {
   "cell_type": "code",
   "execution_count": 33,
   "metadata": {},
   "outputs": [
    {
     "name": "stdout",
     "output_type": "stream",
     "text": [
      "train mse: 27597.318873668188\n",
      "train rmse: 166.12440782036873\n",
      "train r2: 0.9999955800669494\n",
      "\n",
      "test mse: 2.1482477834886397e+30\n",
      "test rmse: 1465690207202272.2\n",
      "test r2: -3.126035716632908e+20\n"
     ]
    }
   ],
   "source": [
    "print('train mse: {}'.format(mean_squared_error(y_train, X_train_preds)))\n",
    "print('train rmse: {}'.format(sqrt(mean_squared_error(y_train, X_train_preds))))\n",
    "print('train r2: {}'.format(r2_score(y_train, X_train_preds)))\n",
    "print()\n",
    "print('test mse: {}'.format(mean_squared_error(y_test, X_test_preds)))\n",
    "print('test rmse: {}'.format(sqrt(mean_squared_error(y_test, X_test_preds))))\n",
    "print('test r2: {}'.format(r2_score(y_test, X_test_preds)))"
   ]
  },
  {
   "cell_type": "markdown",
   "metadata": {},
   "source": [
    "## ElasticNet "
   ]
  },
  {
   "cell_type": "code",
   "execution_count": 34,
   "metadata": {},
   "outputs": [],
   "source": [
    "from sklearn.linear_model import ElasticNet\n",
    "\n",
    "elasticnet = ElasticNet().fit(X_train, y_train)\n",
    "\n",
    "#define a list of parameters\n",
    "param_elasticnet = {'alpha':[1, 1e4, 1e5], \n",
    "                    'l1_ratio' :[0.2,0.4,0.6,0.8]}\n",
    "\n",
    "grid_elasticnet = GridSearchCV(elasticnet , param_elasticnet, cv=5, return_train_score = True,scoring='r2')\n",
    "grid_elasticnet.fit(X_train, y_train)\n",
    "\n",
    "x_elastictrain_predict = grid_elasticnet.predict(X_train)\n",
    "x_elastictest_predict = grid_elasticnet.predict(X_test)\n"
   ]
  },
  {
   "cell_type": "markdown",
   "metadata": {},
   "source": [
    "### Results"
   ]
  },
  {
   "cell_type": "code",
   "execution_count": 35,
   "metadata": {},
   "outputs": [
    {
     "name": "stdout",
     "output_type": "stream",
     "text": [
      "train mse: 580812656.1496782\n",
      "train rmse: 24100.055106776796\n",
      "train r2: 0.9069781717972707\n",
      "\n",
      "test mse: 908630644.7418916\n",
      "test rmse: 30143.500870699998\n",
      "test r2: 0.8677800638026185\n",
      "\n",
      "Best parameters:  {'alpha': 1, 'l1_ratio': 0.8}\n",
      "Best cross-validation score: 0.8677800638026185\n",
      "Training set score: 0.91\n",
      "Test set score: 0.87\n"
     ]
    }
   ],
   "source": [
    "print('train mse: {}'.format(mean_squared_error(y_train, x_elastictrain_predict)))\n",
    "print('train rmse: {}'.format(sqrt(mean_squared_error(y_train, x_elastictrain_predict))))\n",
    "print('train r2: {}'.format(r2_score(y_train, x_elastictrain_predict)))\n",
    "print()\n",
    "print('test mse: {}'.format(mean_squared_error(y_test, x_elastictest_predict)))\n",
    "print('test rmse: {}'.format(sqrt(mean_squared_error(y_test, x_elastictest_predict))))\n",
    "print('test r2: {}'.format(r2_score(y_test, x_elastictest_predict)))\n",
    "print()\n",
    "print('Best parameters: ', grid_elasticnet.best_params_)\n",
    "print('Best cross-validation score:', grid_elasticnet.score(X_test, y_test))\n",
    "print(\"Training set score: {:.2f}\".format(grid_elasticnet.score(X_train, y_train)))\n",
    "print(\"Test set score: {:.2f}\".format(grid_elasticnet.score(X_test, y_test)))\n"
   ]
  },
  {
   "cell_type": "markdown",
   "metadata": {
    "ExecuteTime": {
     "end_time": "2020-03-09T03:59:33.754940Z",
     "start_time": "2020-03-09T03:59:33.751933Z"
    }
   },
   "source": [
    "## Tune Multiple Models with one GridSearch"
   ]
  },
  {
   "cell_type": "markdown",
   "metadata": {},
   "source": [
    "### Model - Linear Regression with Model Parameter - Ridge *GridSearch"
   ]
  },
  {
   "cell_type": "code",
   "execution_count": 36,
   "metadata": {},
   "outputs": [],
   "source": [
    "model_linear = Pipeline([(\"regressor\", LinearRegression())] )"
   ]
  },
  {
   "cell_type": "code",
   "execution_count": 37,
   "metadata": {},
   "outputs": [],
   "source": [
    "model_parm_gd1 = [{ 'regressor': [Ridge()]}]"
   ]
  },
  {
   "cell_type": "code",
   "execution_count": 38,
   "metadata": {},
   "outputs": [],
   "source": [
    "from sklearn import svm\n",
    "grid_search_linear = GridSearchCV(svm.SVC(gamma='auto'),{\n",
    "    'C':[30],\n",
    "    'kernel':['linear']\n",
    "    \n",
    "},cv=5,return_train_score=False,scoring='r2')"
   ]
  },
  {
   "cell_type": "code",
   "execution_count": 39,
   "metadata": {},
   "outputs": [],
   "source": [
    "grid_search_linear = GridSearchCV(model_linear,model_parm_gd1,scoring='r2')"
   ]
  },
  {
   "cell_type": "code",
   "execution_count": 40,
   "metadata": {
    "scrolled": true
   },
   "outputs": [
    {
     "data": {
      "text/plain": [
       "GridSearchCV(cv=None, error_score=nan,\n",
       "             estimator=Pipeline(memory=None,\n",
       "                                steps=[('regressor',\n",
       "                                        LinearRegression(copy_X=True,\n",
       "                                                         fit_intercept=True,\n",
       "                                                         n_jobs=None,\n",
       "                                                         normalize=False))],\n",
       "                                verbose=False),\n",
       "             iid='deprecated', n_jobs=None,\n",
       "             param_grid=[{'regressor': [Ridge(alpha=1.0, copy_X=True,\n",
       "                                              fit_intercept=True, max_iter=None,\n",
       "                                              normalize=False,\n",
       "                                              random_state=None, solver='auto',\n",
       "                                              tol=0.001)]}],\n",
       "             pre_dispatch='2*n_jobs', refit=True, return_train_score=False,\n",
       "             scoring='r2', verbose=0)"
      ]
     },
     "execution_count": 40,
     "metadata": {},
     "output_type": "execute_result"
    }
   ],
   "source": [
    "grid_search_linear.fit(X_train,y_train)"
   ]
  },
  {
   "cell_type": "markdown",
   "metadata": {},
   "source": [
    "#### Results"
   ]
  },
  {
   "cell_type": "code",
   "execution_count": 41,
   "metadata": {},
   "outputs": [
    {
     "name": "stdout",
     "output_type": "stream",
     "text": [
      "train mse: 552540520.7585117\n",
      "train rmse: 23506.1804800038\n",
      "train r2: 0.911506182152134\n",
      "\n",
      "test mse: 858035459.791463\n",
      "test rmse: 29292.242314159957\n",
      "test r2: 0.8751424526508844\n",
      "\n",
      "Best parameters: {'regressor': Ridge(alpha=1.0, copy_X=True, fit_intercept=True, max_iter=None,\n",
      "      normalize=False, random_state=None, solver='auto', tol=0.001)}\n",
      "Cross-validation scores: 0.8818969790895617\n",
      "Train score: 0.9115\n",
      "Test score: 0.8751\n"
     ]
    }
   ],
   "source": [
    "x_lrtrain= grid_search_linear.predict(X_train)\n",
    "x_lrtest = grid_search_linear.predict(X_test)\n",
    "\n",
    "# check model performance:\n",
    "\n",
    "print('train mse: {}'.format(mean_squared_error(y_train, x_lrtrain)))\n",
    "print('train rmse: {}'.format(sqrt(mean_squared_error(y_train, x_lrtrain))))\n",
    "print('train r2: {}'.format(r2_score(y_train, x_lrtrain)))\n",
    "print()\n",
    "print('test mse: {}'.format(mean_squared_error(y_test, x_lrtest)))\n",
    "print('test rmse: {}'.format(sqrt(mean_squared_error(y_test, x_lrtest))))\n",
    "print('test r2: {}'.format(r2_score(y_test, x_lrtest)))\n",
    "print()\n",
    "\n",
    "print(\"Best parameters: {}\".format(grid_search_linear.best_params_))\n",
    "print(\"Cross-validation scores: {}\".format(grid_search_linear.best_score_))\n",
    "print('Train score: {:.4f}'.format(grid_search_linear.score(X_train, y_train)))\n",
    "print('Test score: {:.4f}'.format(grid_search_linear.score(X_test, y_test)))"
   ]
  },
  {
   "cell_type": "markdown",
   "metadata": {},
   "source": [
    "## Linear Regression with Model Parameter - Lasso *GridSearchCV"
   ]
  },
  {
   "cell_type": "code",
   "execution_count": 42,
   "metadata": {},
   "outputs": [],
   "source": [
    "model_linear2 = Pipeline([(\"regressor\", LinearRegression())] )"
   ]
  },
  {
   "cell_type": "code",
   "execution_count": 43,
   "metadata": {},
   "outputs": [],
   "source": [
    "model_parm_gd2 = [{ 'regressor': [Lasso(random_state=0)]}]"
   ]
  },
  {
   "cell_type": "code",
   "execution_count": 44,
   "metadata": {},
   "outputs": [],
   "source": [
    "grid_search_linear2 = GridSearchCV(svm.SVC(gamma='auto'),{\n",
    "    'C':[1,10,20,30],\n",
    "    'kernel':['polynomial']\n",
    "    \n",
    "},cv=5,return_train_score=False,scoring='r2')"
   ]
  },
  {
   "cell_type": "code",
   "execution_count": 45,
   "metadata": {},
   "outputs": [],
   "source": [
    "grid_search_linear2 = GridSearchCV(model_linear2,model_parm_gd2,scoring='r2')"
   ]
  },
  {
   "cell_type": "code",
   "execution_count": 46,
   "metadata": {
    "scrolled": true
   },
   "outputs": [
    {
     "data": {
      "text/plain": [
       "GridSearchCV(cv=None, error_score=nan,\n",
       "             estimator=Pipeline(memory=None,\n",
       "                                steps=[('regressor',\n",
       "                                        LinearRegression(copy_X=True,\n",
       "                                                         fit_intercept=True,\n",
       "                                                         n_jobs=None,\n",
       "                                                         normalize=False))],\n",
       "                                verbose=False),\n",
       "             iid='deprecated', n_jobs=None,\n",
       "             param_grid=[{'regressor': [Lasso(alpha=1.0, copy_X=True,\n",
       "                                              fit_intercept=True, max_iter=1000,\n",
       "                                              normalize=False, positive=False,\n",
       "                                              precompute=False, random_state=0,\n",
       "                                              selection='cyclic', tol=0.0001,\n",
       "                                              warm_start=False)]}],\n",
       "             pre_dispatch='2*n_jobs', refit=True, return_train_score=False,\n",
       "             scoring='r2', verbose=0)"
      ]
     },
     "execution_count": 46,
     "metadata": {},
     "output_type": "execute_result"
    }
   ],
   "source": [
    "grid_search_linear2.fit(X_train,y_train)"
   ]
  },
  {
   "cell_type": "markdown",
   "metadata": {},
   "source": [
    "#### Results"
   ]
  },
  {
   "cell_type": "code",
   "execution_count": 47,
   "metadata": {},
   "outputs": [
    {
     "name": "stdout",
     "output_type": "stream",
     "text": [
      "train mse: 552539222.3512008\n",
      "train rmse: 23506.152861563733\n",
      "train r2: 0.9115063901025299\n",
      "\n",
      "test mse: 857849072.1153543\n",
      "test rmse: 29289.060621934503\n",
      "test r2: 0.87516957496597\n",
      "\n",
      "Best parameters: {'regressor': Lasso(alpha=1.0, copy_X=True, fit_intercept=True, max_iter=1000,\n",
      "      normalize=False, positive=False, precompute=False, random_state=0,\n",
      "      selection='cyclic', tol=0.0001, warm_start=False)}\n",
      "Cross-validation scores: 0.881849542095595\n",
      "Train score: 0.9115\n",
      "Test score: 0.8752\n"
     ]
    }
   ],
   "source": [
    "x_lrtrain= grid_search_linear2.predict(X_train)\n",
    "x_lrtest = grid_search_linear2.predict(X_test)\n",
    "\n",
    "# check model performance:\n",
    "\n",
    "print('train mse: {}'.format(mean_squared_error(y_train, x_lrtrain)))\n",
    "print('train rmse: {}'.format(sqrt(mean_squared_error(y_train, x_lrtrain))))\n",
    "print('train r2: {}'.format(r2_score(y_train, x_lrtrain)))\n",
    "print()\n",
    "print('test mse: {}'.format(mean_squared_error(y_test, x_lrtest)))\n",
    "print('test rmse: {}'.format(sqrt(mean_squared_error(y_test, x_lrtest))))\n",
    "print('test r2: {}'.format(r2_score(y_test, x_lrtest)))\n",
    "print()\n",
    "print(\"Best parameters: {}\".format(grid_search_linear2.best_params_))\n",
    "print(\"Cross-validation scores: {}\".format(grid_search_linear2.best_score_))\n",
    "print('Train score: {:.4f}'.format(grid_search_linear2.score(X_train, y_train)))\n",
    "print('Test score: {:.4f}'.format(grid_search_linear2.score(X_test, y_test)))"
   ]
  },
  {
   "cell_type": "markdown",
   "metadata": {},
   "source": [
    "## Pipeline - RandomForest Regressor with Model Parameter - Linear Regression *GridSearchCV"
   ]
  },
  {
   "cell_type": "code",
   "execution_count": 48,
   "metadata": {},
   "outputs": [],
   "source": [
    "from sklearn.ensemble import RandomForestRegressor"
   ]
  },
  {
   "cell_type": "code",
   "execution_count": 49,
   "metadata": {
    "ExecuteTime": {
     "end_time": "2020-03-09T07:33:43.119468Z",
     "start_time": "2020-03-09T07:33:43.115457Z"
    }
   },
   "outputs": [],
   "source": [
    "model_rf = Pipeline([('regressor', RandomForestRegressor(random_state = 42))])"
   ]
  },
  {
   "cell_type": "code",
   "execution_count": 50,
   "metadata": {
    "ExecuteTime": {
     "end_time": "2020-03-09T07:33:44.906746Z",
     "start_time": "2020-03-09T07:33:44.900729Z"
    }
   },
   "outputs": [],
   "source": [
    "model_parm_rf = [{ 'regressor': [LinearRegression()]}]"
   ]
  },
  {
   "cell_type": "code",
   "execution_count": 51,
   "metadata": {},
   "outputs": [],
   "source": [
    "from sklearn import svm"
   ]
  },
  {
   "cell_type": "code",
   "execution_count": 52,
   "metadata": {},
   "outputs": [],
   "source": [
    "grid_rf = GridSearchCV(svm.SVC(gamma='auto'),{\n",
    "    'C':[30],\n",
    "    'kernel':['linear']\n",
    "    \n",
    "},cv=5,return_train_score=False,scoring='r2')"
   ]
  },
  {
   "cell_type": "code",
   "execution_count": 53,
   "metadata": {
    "ExecuteTime": {
     "end_time": "2020-03-09T07:33:46.478370Z",
     "start_time": "2020-03-09T07:33:46.475362Z"
    }
   },
   "outputs": [],
   "source": [
    "grid_rf = GridSearchCV(model_rf, model_parm_rf)"
   ]
  },
  {
   "cell_type": "code",
   "execution_count": 54,
   "metadata": {
    "ExecuteTime": {
     "end_time": "2020-03-09T07:33:48.862449Z",
     "start_time": "2020-03-09T07:33:47.915915Z"
    },
    "scrolled": true
   },
   "outputs": [
    {
     "data": {
      "text/plain": [
       "GridSearchCV(cv=None, error_score=nan,\n",
       "             estimator=Pipeline(memory=None,\n",
       "                                steps=[('regressor',\n",
       "                                        RandomForestRegressor(bootstrap=True,\n",
       "                                                              ccp_alpha=0.0,\n",
       "                                                              criterion='mse',\n",
       "                                                              max_depth=None,\n",
       "                                                              max_features='auto',\n",
       "                                                              max_leaf_nodes=None,\n",
       "                                                              max_samples=None,\n",
       "                                                              min_impurity_decrease=0.0,\n",
       "                                                              min_impurity_split=None,\n",
       "                                                              min_samples_leaf=1,\n",
       "                                                              min_samples_split=2,\n",
       "                                                              min_weight_fraction_leaf=0.0,\n",
       "                                                              n_estimators=100,\n",
       "                                                              n_jobs=None,\n",
       "                                                              oob_score=False,\n",
       "                                                              random_state=42,\n",
       "                                                              verbose=0,\n",
       "                                                              warm_start=False))],\n",
       "                                verbose=False),\n",
       "             iid='deprecated', n_jobs=None,\n",
       "             param_grid=[{'regressor': [LinearRegression(copy_X=True,\n",
       "                                                         fit_intercept=True,\n",
       "                                                         n_jobs=None,\n",
       "                                                         normalize=False)]}],\n",
       "             pre_dispatch='2*n_jobs', refit=True, return_train_score=False,\n",
       "             scoring=None, verbose=0)"
      ]
     },
     "execution_count": 54,
     "metadata": {},
     "output_type": "execute_result"
    }
   ],
   "source": [
    "grid_rf.fit(X_train,y_train)"
   ]
  },
  {
   "cell_type": "markdown",
   "metadata": {},
   "source": [
    "### Results"
   ]
  },
  {
   "cell_type": "code",
   "execution_count": 55,
   "metadata": {},
   "outputs": [
    {
     "name": "stdout",
     "output_type": "stream",
     "text": [
      "train mse: 552937051.405446\n",
      "train rmse: 23514.61357125492\n",
      "train r2: 0.9114426745730106\n",
      "\n",
      "test mse: 861097775.8563162\n",
      "test rmse: 29344.467551078793\n",
      "test r2: 0.8746968378820517\n",
      "Best parameters: {'regressor': LinearRegression(copy_X=True, fit_intercept=True, n_jobs=None, normalize=False)}\n",
      "Cross-validation scores: -1.2531233677405604e+21\n",
      "Train score: 0.9114\n",
      "Test score: 0.8747\n"
     ]
    }
   ],
   "source": [
    "x_rftrain= grid_rf.predict(X_train)\n",
    "x_rftest = grid_rf.predict(X_test)\n",
    "\n",
    "# check model performance:\n",
    "\n",
    "print('train mse: {}'.format(mean_squared_error(y_train, x_rftrain)))\n",
    "print('train rmse: {}'.format(sqrt(mean_squared_error(y_train, x_rftrain))))\n",
    "print('train r2: {}'.format(r2_score(y_train, x_rftrain)))\n",
    "print()\n",
    "print('test mse: {}'.format(mean_squared_error(y_test, x_rftest)))\n",
    "print('test rmse: {}'.format(sqrt(mean_squared_error(y_test, x_rftest))))\n",
    "print('test r2: {}'.format(r2_score(y_test, x_rftest)))\n",
    "\n",
    "print(\"Best parameters: {}\".format(grid_rf.best_params_))\n",
    "print(\"Cross-validation scores: {}\".format(grid_rf.best_score_))\n",
    "print('Train score: {:.4f}'.format(grid_rf.score(X_train, y_train)))\n",
    "print('Test score: {:.4f}'.format(grid_rf.score(X_test, y_test)))"
   ]
  },
  {
   "cell_type": "markdown",
   "metadata": {},
   "source": [
    "## KNN Regressor"
   ]
  },
  {
   "cell_type": "code",
   "execution_count": 56,
   "metadata": {},
   "outputs": [
    {
     "name": "stdout",
     "output_type": "stream",
     "text": [
      "Training set score: 0.88\n",
      "Test set score: 0.59\n"
     ]
    }
   ],
   "source": [
    "from sklearn.neighbors import KNeighborsRegressor\n",
    "from sklearn.pipeline import make_pipeline\n",
    "from sklearn.preprocessing import MinMaxScaler\n",
    "knnreg = KNeighborsRegressor().fit(X_train, y_train)\n",
    "print(\"Training set score: {:.2f}\".format(knnreg.score(X_train, y_train)))\n",
    "print(\"Test set score: {:.2f}\".format(knnreg.score(X_test, y_test)))"
   ]
  },
  {
   "cell_type": "code",
   "execution_count": 57,
   "metadata": {},
   "outputs": [
    {
     "name": "stdout",
     "output_type": "stream",
     "text": [
      "Training set score: 0.86\n",
      "Test set score: 0.71\n"
     ]
    }
   ],
   "source": [
    "pipe_knn = make_pipeline(MinMaxScaler(), KNeighborsRegressor())\n",
    "knnreg = pipe_knn.fit(X_train, y_train)\n",
    "print(\"Training set score: {:.2f}\".format(knnreg.score(X_train, y_train)))\n",
    "print(\"Test set score: {:.2f}\".format(knnreg.score(X_test, y_test)))"
   ]
  },
  {
   "cell_type": "code",
   "execution_count": 58,
   "metadata": {
    "scrolled": true
   },
   "outputs": [
    {
     "data": {
      "text/plain": [
       "GridSearchCV(cv=5, error_score=nan,\n",
       "             estimator=Pipeline(memory=None,\n",
       "                                steps=[('scaler',\n",
       "                                        MinMaxScaler(copy=True,\n",
       "                                                     feature_range=(0, 1))),\n",
       "                                       ('knnreg',\n",
       "                                        KNeighborsRegressor(algorithm='auto',\n",
       "                                                            leaf_size=30,\n",
       "                                                            metric='minkowski',\n",
       "                                                            metric_params=None,\n",
       "                                                            n_jobs=None,\n",
       "                                                            n_neighbors=5, p=2,\n",
       "                                                            weights='uniform'))],\n",
       "                                verbose=False),\n",
       "             iid='deprecated', n_jobs=None,\n",
       "             param_grid={'knnreg__n_neighbors': range(1, 25)},\n",
       "             pre_dispatch='2*n_jobs', refit=True, return_train_score=True,\n",
       "             scoring='r2', verbose=0)"
      ]
     },
     "execution_count": 58,
     "metadata": {},
     "output_type": "execute_result"
    }
   ],
   "source": [
    "    from sklearn.model_selection import GridSearchCV\n",
    "\n",
    "    pipe_knn=Pipeline([ \n",
    "        ('scaler',MinMaxScaler()),\n",
    "        ('knnreg', KNeighborsRegressor())\n",
    "\n",
    "    ])\n",
    "    # define a list of parameters\n",
    "    #param_knn = {'n_neighbors': [5, 10, 15, 20, 25, 30]}\n",
    "    param_knn = {'knnreg__n_neighbors': range(1,25)}\n",
    "\n",
    "    #apply grid search\n",
    "    grid_knn = GridSearchCV(pipe_knn, param_knn, cv=5, return_train_score=True,scoring='r2')\n",
    "    grid_knn.fit(X_train, y_train)\n"
   ]
  },
  {
   "cell_type": "markdown",
   "metadata": {},
   "source": [
    "### Results"
   ]
  },
  {
   "cell_type": "code",
   "execution_count": 59,
   "metadata": {},
   "outputs": [
    {
     "name": "stdout",
     "output_type": "stream",
     "text": [
      "train mse: 926540858.0310757\n",
      "train rmse: 30439.13366098115\n",
      "train r2: 0.8516070137143069\n",
      "\n",
      "test mse: 1657648286.6700912\n",
      "test rmse: 40714.227079364915\n",
      "test r2: 0.7587863099604379\n",
      "\n",
      "train score:  0.8516070137143069\n",
      "test score:  0.7587863099604379\n",
      "Best parameters:  {'knnreg__n_neighbors': 6}\n",
      "Best cross-validation score: 0.78587417331835\n"
     ]
    }
   ],
   "source": [
    "x_knntrain= grid_knn.predict(X_train)\n",
    "x_knntest = grid_knn.predict(X_test)\n",
    "\n",
    "# check model performance:\n",
    "\n",
    "print('train mse: {}'.format(mean_squared_error(y_train, x_knntrain)))\n",
    "print('train rmse: {}'.format(sqrt(mean_squared_error(y_train, x_knntrain))))\n",
    "print('train r2: {}'.format(r2_score(y_train, x_knntrain)))\n",
    "print()\n",
    "print('test mse: {}'.format(mean_squared_error(y_test, x_knntest)))\n",
    "print('test rmse: {}'.format(sqrt(mean_squared_error(y_test, x_knntest))))\n",
    "print('test r2: {}'.format(r2_score(y_test, x_knntest)))\n",
    "print()\n",
    "print('train score: ', grid_knn.score(X_train, y_train))\n",
    "print('test score: ', grid_knn.score(X_test, y_test))\n",
    "\n",
    "#find best parameters\n",
    "print('Best parameters: ', grid_knn.best_params_)\n",
    "print('Best cross-validation score:', grid_knn.best_score_)"
   ]
  },
  {
   "cell_type": "markdown",
   "metadata": {},
   "source": [
    "## ElasticNet with GridSearch"
   ]
  },
  {
   "cell_type": "code",
   "execution_count": 60,
   "metadata": {},
   "outputs": [
    {
     "name": "stderr",
     "output_type": "stream",
     "text": [
      "C:\\Users\\nabhs\\Anaconda3\\envs\\buan6341_2020\\lib\\site-packages\\sklearn\\linear_model\\_coordinate_descent.py:476: ConvergenceWarning: Objective did not converge. You might want to increase the number of iterations. Duality gap: 275261918430.7595, tolerance: 657118734.8147435\n",
      "  positive)\n",
      "C:\\Users\\nabhs\\Anaconda3\\envs\\buan6341_2020\\lib\\site-packages\\sklearn\\linear_model\\_coordinate_descent.py:476: ConvergenceWarning: Objective did not converge. You might want to increase the number of iterations. Duality gap: 270472843507.742, tolerance: 655974723.0327224\n",
      "  positive)\n",
      "C:\\Users\\nabhs\\Anaconda3\\envs\\buan6341_2020\\lib\\site-packages\\sklearn\\linear_model\\_coordinate_descent.py:476: ConvergenceWarning: Objective did not converge. You might want to increase the number of iterations. Duality gap: 269415475236.1935, tolerance: 635955900.9288123\n",
      "  positive)\n",
      "C:\\Users\\nabhs\\Anaconda3\\envs\\buan6341_2020\\lib\\site-packages\\sklearn\\linear_model\\_coordinate_descent.py:476: ConvergenceWarning: Objective did not converge. You might want to increase the number of iterations. Duality gap: 293367949607.249, tolerance: 642749145.1567798\n",
      "  positive)\n",
      "C:\\Users\\nabhs\\Anaconda3\\envs\\buan6341_2020\\lib\\site-packages\\sklearn\\linear_model\\_coordinate_descent.py:476: ConvergenceWarning: Objective did not converge. You might want to increase the number of iterations. Duality gap: 299702168310.0032, tolerance: 689033704.679551\n",
      "  positive)\n",
      "C:\\Users\\nabhs\\Anaconda3\\envs\\buan6341_2020\\lib\\site-packages\\sklearn\\linear_model\\_coordinate_descent.py:476: ConvergenceWarning: Objective did not converge. You might want to increase the number of iterations. Duality gap: 275132322643.92615, tolerance: 657118734.8147435\n",
      "  positive)\n",
      "C:\\Users\\nabhs\\Anaconda3\\envs\\buan6341_2020\\lib\\site-packages\\sklearn\\linear_model\\_coordinate_descent.py:476: ConvergenceWarning: Objective did not converge. You might want to increase the number of iterations. Duality gap: 270265546612.78378, tolerance: 655974723.0327224\n",
      "  positive)\n",
      "C:\\Users\\nabhs\\Anaconda3\\envs\\buan6341_2020\\lib\\site-packages\\sklearn\\linear_model\\_coordinate_descent.py:476: ConvergenceWarning: Objective did not converge. You might want to increase the number of iterations. Duality gap: 269359988115.02875, tolerance: 635955900.9288123\n",
      "  positive)\n",
      "C:\\Users\\nabhs\\Anaconda3\\envs\\buan6341_2020\\lib\\site-packages\\sklearn\\linear_model\\_coordinate_descent.py:476: ConvergenceWarning: Objective did not converge. You might want to increase the number of iterations. Duality gap: 293114639456.2878, tolerance: 642749145.1567798\n",
      "  positive)\n",
      "C:\\Users\\nabhs\\Anaconda3\\envs\\buan6341_2020\\lib\\site-packages\\sklearn\\linear_model\\_coordinate_descent.py:476: ConvergenceWarning: Objective did not converge. You might want to increase the number of iterations. Duality gap: 299461621874.3815, tolerance: 689033704.679551\n",
      "  positive)\n",
      "C:\\Users\\nabhs\\Anaconda3\\envs\\buan6341_2020\\lib\\site-packages\\sklearn\\linear_model\\_coordinate_descent.py:476: ConvergenceWarning: Objective did not converge. You might want to increase the number of iterations. Duality gap: 274876218400.22867, tolerance: 657118734.8147435\n",
      "  positive)\n",
      "C:\\Users\\nabhs\\Anaconda3\\envs\\buan6341_2020\\lib\\site-packages\\sklearn\\linear_model\\_coordinate_descent.py:476: ConvergenceWarning: Objective did not converge. You might want to increase the number of iterations. Duality gap: 269853488069.79288, tolerance: 655974723.0327224\n",
      "  positive)\n",
      "C:\\Users\\nabhs\\Anaconda3\\envs\\buan6341_2020\\lib\\site-packages\\sklearn\\linear_model\\_coordinate_descent.py:476: ConvergenceWarning: Objective did not converge. You might want to increase the number of iterations. Duality gap: 269250900786.1243, tolerance: 635955900.9288123\n",
      "  positive)\n",
      "C:\\Users\\nabhs\\Anaconda3\\envs\\buan6341_2020\\lib\\site-packages\\sklearn\\linear_model\\_coordinate_descent.py:476: ConvergenceWarning: Objective did not converge. You might want to increase the number of iterations. Duality gap: 292610782725.36975, tolerance: 642749145.1567798\n",
      "  positive)\n",
      "C:\\Users\\nabhs\\Anaconda3\\envs\\buan6341_2020\\lib\\site-packages\\sklearn\\linear_model\\_coordinate_descent.py:476: ConvergenceWarning: Objective did not converge. You might want to increase the number of iterations. Duality gap: 298983659623.677, tolerance: 689033704.679551\n",
      "  positive)\n",
      "C:\\Users\\nabhs\\Anaconda3\\envs\\buan6341_2020\\lib\\site-packages\\sklearn\\linear_model\\_coordinate_descent.py:476: ConvergenceWarning: Objective did not converge. You might want to increase the number of iterations. Duality gap: 274113520713.21634, tolerance: 657118734.8147435\n",
      "  positive)\n",
      "C:\\Users\\nabhs\\Anaconda3\\envs\\buan6341_2020\\lib\\site-packages\\sklearn\\linear_model\\_coordinate_descent.py:476: ConvergenceWarning: Objective did not converge. You might want to increase the number of iterations. Duality gap: 268620977582.17148, tolerance: 655974723.0327224\n",
      "  positive)\n",
      "C:\\Users\\nabhs\\Anaconda3\\envs\\buan6341_2020\\lib\\site-packages\\sklearn\\linear_model\\_coordinate_descent.py:476: ConvergenceWarning: Objective did not converge. You might want to increase the number of iterations. Duality gap: 268927308309.11826, tolerance: 635955900.9288123\n",
      "  positive)\n",
      "C:\\Users\\nabhs\\Anaconda3\\envs\\buan6341_2020\\lib\\site-packages\\sklearn\\linear_model\\_coordinate_descent.py:476: ConvergenceWarning: Objective did not converge. You might want to increase the number of iterations. Duality gap: 291102803101.93744, tolerance: 642749145.1567798\n",
      "  positive)\n",
      "C:\\Users\\nabhs\\Anaconda3\\envs\\buan6341_2020\\lib\\site-packages\\sklearn\\linear_model\\_coordinate_descent.py:476: ConvergenceWarning: Objective did not converge. You might want to increase the number of iterations. Duality gap: 297554322499.26166, tolerance: 689033704.679551\n",
      "  positive)\n",
      "C:\\Users\\nabhs\\Anaconda3\\envs\\buan6341_2020\\lib\\site-packages\\sklearn\\linear_model\\_coordinate_descent.py:476: ConvergenceWarning: Objective did not converge. You might want to increase the number of iterations. Duality gap: 275285371342.0834, tolerance: 657118734.8147435\n",
      "  positive)\n",
      "C:\\Users\\nabhs\\Anaconda3\\envs\\buan6341_2020\\lib\\site-packages\\sklearn\\linear_model\\_coordinate_descent.py:476: ConvergenceWarning: Objective did not converge. You might want to increase the number of iterations. Duality gap: 270500219669.26224, tolerance: 655974723.0327224\n",
      "  positive)\n",
      "C:\\Users\\nabhs\\Anaconda3\\envs\\buan6341_2020\\lib\\site-packages\\sklearn\\linear_model\\_coordinate_descent.py:476: ConvergenceWarning: Objective did not converge. You might want to increase the number of iterations. Duality gap: 269455263299.4938, tolerance: 635955900.9288123\n",
      "  positive)\n",
      "C:\\Users\\nabhs\\Anaconda3\\envs\\buan6341_2020\\lib\\site-packages\\sklearn\\linear_model\\_coordinate_descent.py:476: ConvergenceWarning: Objective did not converge. You might want to increase the number of iterations. Duality gap: 293390700602.9906, tolerance: 642749145.1567798\n",
      "  positive)\n",
      "C:\\Users\\nabhs\\Anaconda3\\envs\\buan6341_2020\\lib\\site-packages\\sklearn\\linear_model\\_coordinate_descent.py:476: ConvergenceWarning: Objective did not converge. You might want to increase the number of iterations. Duality gap: 299724423882.7319, tolerance: 689033704.679551\n",
      "  positive)\n",
      "C:\\Users\\nabhs\\Anaconda3\\envs\\buan6341_2020\\lib\\site-packages\\sklearn\\linear_model\\_coordinate_descent.py:476: ConvergenceWarning: Objective did not converge. You might want to increase the number of iterations. Duality gap: 275126170208.67175, tolerance: 657118734.8147435\n",
      "  positive)\n",
      "C:\\Users\\nabhs\\Anaconda3\\envs\\buan6341_2020\\lib\\site-packages\\sklearn\\linear_model\\_coordinate_descent.py:476: ConvergenceWarning: Objective did not converge. You might want to increase the number of iterations. Duality gap: 270267583340.30392, tolerance: 655974723.0327224\n",
      "  positive)\n",
      "C:\\Users\\nabhs\\Anaconda3\\envs\\buan6341_2020\\lib\\site-packages\\sklearn\\linear_model\\_coordinate_descent.py:476: ConvergenceWarning: Objective did not converge. You might want to increase the number of iterations. Duality gap: 269382447458.56412, tolerance: 635955900.9288123\n",
      "  positive)\n",
      "C:\\Users\\nabhs\\Anaconda3\\envs\\buan6341_2020\\lib\\site-packages\\sklearn\\linear_model\\_coordinate_descent.py:476: ConvergenceWarning: Objective did not converge. You might want to increase the number of iterations. Duality gap: 293109101936.22723, tolerance: 642749145.1567798\n",
      "  positive)\n",
      "C:\\Users\\nabhs\\Anaconda3\\envs\\buan6341_2020\\lib\\site-packages\\sklearn\\linear_model\\_coordinate_descent.py:476: ConvergenceWarning: Objective did not converge. You might want to increase the number of iterations. Duality gap: 299452447939.0266, tolerance: 689033704.679551\n",
      "  positive)\n"
     ]
    },
    {
     "name": "stderr",
     "output_type": "stream",
     "text": [
      "C:\\Users\\nabhs\\Anaconda3\\envs\\buan6341_2020\\lib\\site-packages\\sklearn\\linear_model\\_coordinate_descent.py:476: ConvergenceWarning: Objective did not converge. You might want to increase the number of iterations. Duality gap: 274841772404.84204, tolerance: 657118734.8147435\n",
      "  positive)\n",
      "C:\\Users\\nabhs\\Anaconda3\\envs\\buan6341_2020\\lib\\site-packages\\sklearn\\linear_model\\_coordinate_descent.py:476: ConvergenceWarning: Objective did not converge. You might want to increase the number of iterations. Duality gap: 269830678356.61826, tolerance: 655974723.0327224\n",
      "  positive)\n",
      "C:\\Users\\nabhs\\Anaconda3\\envs\\buan6341_2020\\lib\\site-packages\\sklearn\\linear_model\\_coordinate_descent.py:476: ConvergenceWarning: Objective did not converge. You might want to increase the number of iterations. Duality gap: 269256329279.5095, tolerance: 635955900.9288123\n",
      "  positive)\n",
      "C:\\Users\\nabhs\\Anaconda3\\envs\\buan6341_2020\\lib\\site-packages\\sklearn\\linear_model\\_coordinate_descent.py:476: ConvergenceWarning: Objective did not converge. You might want to increase the number of iterations. Duality gap: 292577554374.5457, tolerance: 642749145.1567798\n",
      "  positive)\n",
      "C:\\Users\\nabhs\\Anaconda3\\envs\\buan6341_2020\\lib\\site-packages\\sklearn\\linear_model\\_coordinate_descent.py:476: ConvergenceWarning: Objective did not converge. You might want to increase the number of iterations. Duality gap: 298943887810.3167, tolerance: 689033704.679551\n",
      "  positive)\n",
      "C:\\Users\\nabhs\\Anaconda3\\envs\\buan6341_2020\\lib\\site-packages\\sklearn\\linear_model\\_coordinate_descent.py:476: ConvergenceWarning: Objective did not converge. You might want to increase the number of iterations. Duality gap: 274051946790.85733, tolerance: 657118734.8147435\n",
      "  positive)\n",
      "C:\\Users\\nabhs\\Anaconda3\\envs\\buan6341_2020\\lib\\site-packages\\sklearn\\linear_model\\_coordinate_descent.py:476: ConvergenceWarning: Objective did not converge. You might want to increase the number of iterations. Duality gap: 268573717281.67993, tolerance: 655974723.0327224\n",
      "  positive)\n",
      "C:\\Users\\nabhs\\Anaconda3\\envs\\buan6341_2020\\lib\\site-packages\\sklearn\\linear_model\\_coordinate_descent.py:476: ConvergenceWarning: Objective did not converge. You might want to increase the number of iterations. Duality gap: 268915978578.34824, tolerance: 635955900.9288123\n",
      "  positive)\n",
      "C:\\Users\\nabhs\\Anaconda3\\envs\\buan6341_2020\\lib\\site-packages\\sklearn\\linear_model\\_coordinate_descent.py:476: ConvergenceWarning: Objective did not converge. You might want to increase the number of iterations. Duality gap: 291042350452.3709, tolerance: 642749145.1567798\n",
      "  positive)\n",
      "C:\\Users\\nabhs\\Anaconda3\\envs\\buan6341_2020\\lib\\site-packages\\sklearn\\linear_model\\_coordinate_descent.py:476: ConvergenceWarning: Objective did not converge. You might want to increase the number of iterations. Duality gap: 297484634292.5844, tolerance: 689033704.679551\n",
      "  positive)\n",
      "C:\\Users\\nabhs\\Anaconda3\\envs\\buan6341_2020\\lib\\site-packages\\sklearn\\linear_model\\_coordinate_descent.py:476: ConvergenceWarning: Objective did not converge. You might want to increase the number of iterations. Duality gap: 274840164312.18774, tolerance: 657118734.8147435\n",
      "  positive)\n",
      "C:\\Users\\nabhs\\Anaconda3\\envs\\buan6341_2020\\lib\\site-packages\\sklearn\\linear_model\\_coordinate_descent.py:476: ConvergenceWarning: Objective did not converge. You might want to increase the number of iterations. Duality gap: 270621725492.51758, tolerance: 655974723.0327224\n",
      "  positive)\n",
      "C:\\Users\\nabhs\\Anaconda3\\envs\\buan6341_2020\\lib\\site-packages\\sklearn\\linear_model\\_coordinate_descent.py:476: ConvergenceWarning: Objective did not converge. You might want to increase the number of iterations. Duality gap: 269731153808.08066, tolerance: 635955900.9288123\n",
      "  positive)\n",
      "C:\\Users\\nabhs\\Anaconda3\\envs\\buan6341_2020\\lib\\site-packages\\sklearn\\linear_model\\_coordinate_descent.py:476: ConvergenceWarning: Objective did not converge. You might want to increase the number of iterations. Duality gap: 293432778873.37506, tolerance: 642749145.1567798\n",
      "  positive)\n",
      "C:\\Users\\nabhs\\Anaconda3\\envs\\buan6341_2020\\lib\\site-packages\\sklearn\\linear_model\\_coordinate_descent.py:476: ConvergenceWarning: Objective did not converge. You might want to increase the number of iterations. Duality gap: 299665315171.12964, tolerance: 689033704.679551\n",
      "  positive)\n",
      "C:\\Users\\nabhs\\Anaconda3\\envs\\buan6341_2020\\lib\\site-packages\\sklearn\\linear_model\\_coordinate_descent.py:476: ConvergenceWarning: Objective did not converge. You might want to increase the number of iterations. Duality gap: 274320207459.15918, tolerance: 657118734.8147435\n",
      "  positive)\n",
      "C:\\Users\\nabhs\\Anaconda3\\envs\\buan6341_2020\\lib\\site-packages\\sklearn\\linear_model\\_coordinate_descent.py:476: ConvergenceWarning: Objective did not converge. You might want to increase the number of iterations. Duality gap: 270089455409.16162, tolerance: 655974723.0327224\n",
      "  positive)\n",
      "C:\\Users\\nabhs\\Anaconda3\\envs\\buan6341_2020\\lib\\site-packages\\sklearn\\linear_model\\_coordinate_descent.py:476: ConvergenceWarning: Objective did not converge. You might want to increase the number of iterations. Duality gap: 269461868093.74542, tolerance: 635955900.9288123\n",
      "  positive)\n",
      "C:\\Users\\nabhs\\Anaconda3\\envs\\buan6341_2020\\lib\\site-packages\\sklearn\\linear_model\\_coordinate_descent.py:476: ConvergenceWarning: Objective did not converge. You might want to increase the number of iterations. Duality gap: 292811730158.3288, tolerance: 642749145.1567798\n",
      "  positive)\n",
      "C:\\Users\\nabhs\\Anaconda3\\envs\\buan6341_2020\\lib\\site-packages\\sklearn\\linear_model\\_coordinate_descent.py:476: ConvergenceWarning: Objective did not converge. You might want to increase the number of iterations. Duality gap: 299004317909.24976, tolerance: 689033704.679551\n",
      "  positive)\n",
      "C:\\Users\\nabhs\\Anaconda3\\envs\\buan6341_2020\\lib\\site-packages\\sklearn\\linear_model\\_coordinate_descent.py:476: ConvergenceWarning: Objective did not converge. You might want to increase the number of iterations. Duality gap: 273940590197.94852, tolerance: 657118734.8147435\n",
      "  positive)\n",
      "C:\\Users\\nabhs\\Anaconda3\\envs\\buan6341_2020\\lib\\site-packages\\sklearn\\linear_model\\_coordinate_descent.py:476: ConvergenceWarning: Objective did not converge. You might want to increase the number of iterations. Duality gap: 269428587209.82605, tolerance: 655974723.0327224\n",
      "  positive)\n",
      "C:\\Users\\nabhs\\Anaconda3\\envs\\buan6341_2020\\lib\\site-packages\\sklearn\\linear_model\\_coordinate_descent.py:476: ConvergenceWarning: Objective did not converge. You might want to increase the number of iterations. Duality gap: 269193156672.4067, tolerance: 635955900.9288123\n",
      "  positive)\n",
      "C:\\Users\\nabhs\\Anaconda3\\envs\\buan6341_2020\\lib\\site-packages\\sklearn\\linear_model\\_coordinate_descent.py:476: ConvergenceWarning: Objective did not converge. You might want to increase the number of iterations. Duality gap: 292033002979.416, tolerance: 642749145.1567798\n",
      "  positive)\n",
      "C:\\Users\\nabhs\\Anaconda3\\envs\\buan6341_2020\\lib\\site-packages\\sklearn\\linear_model\\_coordinate_descent.py:476: ConvergenceWarning: Objective did not converge. You might want to increase the number of iterations. Duality gap: 298242533193.7177, tolerance: 689033704.679551\n",
      "  positive)\n",
      "C:\\Users\\nabhs\\Anaconda3\\envs\\buan6341_2020\\lib\\site-packages\\sklearn\\linear_model\\_coordinate_descent.py:476: ConvergenceWarning: Objective did not converge. You might want to increase the number of iterations. Duality gap: 273151756027.88977, tolerance: 657118734.8147435\n",
      "  positive)\n",
      "C:\\Users\\nabhs\\Anaconda3\\envs\\buan6341_2020\\lib\\site-packages\\sklearn\\linear_model\\_coordinate_descent.py:476: ConvergenceWarning: Objective did not converge. You might want to increase the number of iterations. Duality gap: 267998525106.42767, tolerance: 655974723.0327224\n",
      "  positive)\n",
      "C:\\Users\\nabhs\\Anaconda3\\envs\\buan6341_2020\\lib\\site-packages\\sklearn\\linear_model\\_coordinate_descent.py:476: ConvergenceWarning: Objective did not converge. You might want to increase the number of iterations. Duality gap: 268738473819.79742, tolerance: 635955900.9288123\n",
      "  positive)\n",
      "C:\\Users\\nabhs\\Anaconda3\\envs\\buan6341_2020\\lib\\site-packages\\sklearn\\linear_model\\_coordinate_descent.py:476: ConvergenceWarning: Objective did not converge. You might want to increase the number of iterations. Duality gap: 290312550120.06335, tolerance: 642749145.1567798\n",
      "  positive)\n",
      "C:\\Users\\nabhs\\Anaconda3\\envs\\buan6341_2020\\lib\\site-packages\\sklearn\\linear_model\\_coordinate_descent.py:476: ConvergenceWarning: Objective did not converge. You might want to increase the number of iterations. Duality gap: 296613343354.8944, tolerance: 689033704.679551\n",
      "  positive)\n"
     ]
    },
    {
     "name": "stderr",
     "output_type": "stream",
     "text": [
      "C:\\Users\\nabhs\\Anaconda3\\envs\\buan6341_2020\\lib\\site-packages\\sklearn\\linear_model\\_coordinate_descent.py:476: ConvergenceWarning: Objective did not converge. You might want to increase the number of iterations. Duality gap: 221086170647.84283, tolerance: 655974723.0327224\n",
      "  positive)\n",
      "C:\\Users\\nabhs\\Anaconda3\\envs\\buan6341_2020\\lib\\site-packages\\sklearn\\linear_model\\_coordinate_descent.py:476: ConvergenceWarning: Objective did not converge. You might want to increase the number of iterations. Duality gap: 204650042677.63684, tolerance: 635955900.9288123\n",
      "  positive)\n",
      "C:\\Users\\nabhs\\Anaconda3\\envs\\buan6341_2020\\lib\\site-packages\\sklearn\\linear_model\\_coordinate_descent.py:476: ConvergenceWarning: Objective did not converge. You might want to increase the number of iterations. Duality gap: 232586340970.15808, tolerance: 642749145.1567798\n",
      "  positive)\n",
      "C:\\Users\\nabhs\\Anaconda3\\envs\\buan6341_2020\\lib\\site-packages\\sklearn\\linear_model\\_coordinate_descent.py:476: ConvergenceWarning: Objective did not converge. You might want to increase the number of iterations. Duality gap: 186705495812.65787, tolerance: 689033704.679551\n",
      "  positive)\n"
     ]
    }
   ],
   "source": [
    "elasticnet = ElasticNet()\n",
    "\n",
    "#define a list of parameters\n",
    "param_elasticnet = {'alpha':[0.00001, 0.0001, 0.001, 0.01, 0.1, 1, 10], 'l1_ratio' :[0.2,0.4,0.6,0.8]}\n",
    "\n",
    "grid_elasticnet = GridSearchCV(elasticnet , param_elasticnet, cv=5, return_train_score = True,scoring='r2')\n",
    "grid_elasticnet.fit(X_train, y_train)\n",
    "\n",
    "grid_elasticnet_train_score = grid_elasticnet.score(X_train, y_train)\n",
    "grid_elasticnet_test_score = grid_elasticnet.score(X_test, y_test)"
   ]
  },
  {
   "cell_type": "markdown",
   "metadata": {},
   "source": [
    "### Results"
   ]
  },
  {
   "cell_type": "code",
   "execution_count": 61,
   "metadata": {},
   "outputs": [
    {
     "name": "stdout",
     "output_type": "stream",
     "text": [
      "train mse: 560460520.2398213\n",
      "train rmse: 23674.04739878294\n",
      "train r2: 0.9102377304004107\n",
      "\n",
      "test mse: 872749277.5992303\n",
      "test rmse: 29542.33026691074\n",
      "test r2: 0.8730013625797748\n",
      "Training set score:  0.9102377304004107\n",
      "Test score:  0.8730013625797748\n",
      "Best parameters:  {'alpha': 0.1, 'l1_ratio': 0.2}\n",
      "Best cross-validation score: 0.8840700291378194\n"
     ]
    }
   ],
   "source": [
    "# let's get the predictions\n",
    "x_elastictrain= grid_elasticnet.predict(X_train)\n",
    "x_elastictest = grid_elasticnet.predict(X_test)\n",
    "\n",
    "# check model performance:\n",
    "\n",
    "print('train mse: {}'.format(mean_squared_error(y_train, x_elastictrain)))\n",
    "print('train rmse: {}'.format(sqrt(mean_squared_error(y_train, x_elastictrain))))\n",
    "print('train r2: {}'.format(r2_score(y_train, x_elastictrain)))\n",
    "print()\n",
    "print('test mse: {}'.format(mean_squared_error(y_test, x_elastictest)))\n",
    "print('test rmse: {}'.format(sqrt(mean_squared_error(y_test, x_elastictest))))\n",
    "print('test r2: {}'.format(r2_score(y_test, x_elastictest)))\n",
    "\n",
    "print('Training set score: ', grid_elasticnet_train_score)\n",
    "print('Test score: ', grid_elasticnet_test_score)\n",
    "\n",
    "#find best parameters\n",
    "print('Best parameters: ', grid_elasticnet.best_params_)\n",
    "print('Best cross-validation score:', grid_elasticnet.best_score_)"
   ]
  },
  {
   "cell_type": "markdown",
   "metadata": {},
   "source": [
    "## Decision Tree Regression"
   ]
  },
  {
   "cell_type": "code",
   "execution_count": 62,
   "metadata": {},
   "outputs": [
    {
     "data": {
      "text/plain": [
       "GridSearchCV(cv=5, error_score=nan,\n",
       "             estimator=DecisionTreeRegressor(ccp_alpha=0.0, criterion='mse',\n",
       "                                             max_depth=None, max_features=None,\n",
       "                                             max_leaf_nodes=None,\n",
       "                                             min_impurity_decrease=0.0,\n",
       "                                             min_impurity_split=None,\n",
       "                                             min_samples_leaf=1,\n",
       "                                             min_samples_split=2,\n",
       "                                             min_weight_fraction_leaf=0.0,\n",
       "                                             presort='deprecated',\n",
       "                                             random_state=0, splitter='best'),\n",
       "             iid='deprecated', n_jobs=None,\n",
       "             param_grid={'max_depth': range(1, 30),\n",
       "                         'max_leaf_nodes': range(2, 20),\n",
       "                         'min_samples_split': range(2, 30)},\n",
       "             pre_dispatch='2*n_jobs', refit=True, return_train_score=False,\n",
       "             scoring='r2', verbose=0)"
      ]
     },
     "execution_count": 62,
     "metadata": {},
     "output_type": "execute_result"
    }
   ],
   "source": [
    "from sklearn.tree import DecisionTreeRegressor\n",
    "from sklearn.model_selection import GridSearchCV\n",
    "decisiontree = DecisionTreeRegressor(random_state = 0)\n",
    "\n",
    "\n",
    "param_DTree = {\"max_depth\": range(1,30),\n",
    "               \"max_leaf_nodes\": range(2,20),\n",
    "              \"min_samples_split\":range(2,30)}\n",
    "\n",
    "grid_dtree = GridSearchCV(decisiontree,param_DTree,cv=5,scoring='r2')\n",
    "grid_dtree.fit(X_train,y_train)\n"
   ]
  },
  {
   "cell_type": "markdown",
   "metadata": {},
   "source": [
    "### Results"
   ]
  },
  {
   "cell_type": "code",
   "execution_count": 63,
   "metadata": {},
   "outputs": [
    {
     "name": "stdout",
     "output_type": "stream",
     "text": [
      "train mse: 1105977258.816959\n",
      "train rmse: 33256.23638984061\n",
      "train r2: 0.8228688278802175\n",
      "\n",
      "test mse: 1548654925.2624905\n",
      "test rmse: 39352.953196202325\n",
      "test r2: 0.7746465446714791\n",
      "\n",
      "Best parameters:  {'max_depth': 6, 'max_leaf_nodes': 19, 'min_samples_split': 29}\n",
      "Accuracy on training set: 0.8229\n",
      "Accuracy on test set: 0.775\n"
     ]
    }
   ],
   "source": [
    "# let's get the predictions\n",
    "x_dtreetrain= grid_dtree.predict(X_train)\n",
    "x_dtreetest = grid_dtree.predict(X_test)\n",
    "\n",
    "print('train mse: {}'.format(mean_squared_error(y_train, x_dtreetrain)))\n",
    "print('train rmse: {}'.format(sqrt(mean_squared_error(y_train, x_dtreetrain))))\n",
    "print('train r2: {}'.format(r2_score(y_train, x_dtreetrain)))\n",
    "print()\n",
    "print('test mse: {}'.format(mean_squared_error(y_test, x_dtreetest)))\n",
    "print('test rmse: {}'.format(sqrt(mean_squared_error(y_test, x_dtreetest))))\n",
    "print('test r2: {}'.format(r2_score(y_test, x_dtreetest)))\n",
    "print()\n",
    "print('Best parameters: ', grid_dtree.best_params_)\n",
    "print(\"Accuracy on training set: {:.4f}\".format(grid_dtree.score(X_train, y_train)))\n",
    "print(\"Accuracy on test set: {:.3f}\".format(grid_dtree.score(X_test, y_test)))"
   ]
  },
  {
   "cell_type": "markdown",
   "metadata": {},
   "source": [
    "## SVM "
   ]
  },
  {
   "cell_type": "code",
   "execution_count": 64,
   "metadata": {},
   "outputs": [
    {
     "name": "stderr",
     "output_type": "stream",
     "text": [
      "C:\\Users\\nabhs\\Anaconda3\\envs\\buan6341_2020\\lib\\site-packages\\sklearn\\model_selection\\_split.py:667: UserWarning: The least populated class in y has only 1 members, which is less than n_splits=5.\n",
      "  % (min_groups, self.n_splits)), UserWarning)\n"
     ]
    },
    {
     "data": {
      "text/plain": [
       "GridSearchCV(cv=5, error_score=nan,\n",
       "             estimator=SVC(C=1.0, break_ties=False, cache_size=200,\n",
       "                           class_weight=None, coef0=0.0,\n",
       "                           decision_function_shape='ovr', degree=3,\n",
       "                           gamma='scale', kernel='rbf', max_iter=-1,\n",
       "                           probability=False, random_state=None, shrinking=True,\n",
       "                           tol=0.001, verbose=False),\n",
       "             iid='deprecated', n_jobs=2,\n",
       "             param_grid=[{'C': [1, 10, 100, 1000, 10000], 'gamma': ['auto'],\n",
       "                          'kernel': ['rbf']},\n",
       "                         {'C': [1, 10, 100, 1000, 10000], 'gamma': ['auto'],\n",
       "                          'kernel': ['poly']},\n",
       "                         {'C': [1, 10, 100, 1000, 10000], 'gamma': ['auto'],\n",
       "                          'kernel': ['sigmoid']}],\n",
       "             pre_dispatch='2*n_jobs', refit=True, return_train_score=False,\n",
       "             scoring='r2', verbose=0)"
      ]
     },
     "execution_count": 64,
     "metadata": {},
     "output_type": "execute_result"
    }
   ],
   "source": [
    "from sklearn.svm import SVC\n",
    "svc_kernel = SVC()\n",
    "\n",
    "#define a list of parameters\n",
    "param_svc_kernel = [{'C': [1,10,100,1000,10000],\n",
    "                    'gamma':['auto'],\n",
    "                   'kernel':['rbf']},\n",
    "                    {'C': [1,10,100,1000,10000],\n",
    "                    'gamma':['auto'],\n",
    "                   'kernel':['poly']},\n",
    "                    {'C': [1,10,100,1000,10000],\n",
    "                    'gamma':['auto'],\n",
    "                   'kernel':['sigmoid',]}]\n",
    "\n",
    "\n",
    "#apply grid search\n",
    "grid_svc_kernel = GridSearchCV(svc_kernel, param_svc_kernel, cv=5, n_jobs=2,scoring='r2')\n",
    "grid_svc_kernel.fit(X_train, y_train)\n"
   ]
  },
  {
   "cell_type": "markdown",
   "metadata": {},
   "source": [
    "### Results"
   ]
  },
  {
   "cell_type": "code",
   "execution_count": 65,
   "metadata": {},
   "outputs": [
    {
     "name": "stdout",
     "output_type": "stream",
     "text": [
      "train mse: 61834.09436834094\n",
      "train rmse: 248.66462226931466\n",
      "train r2: 0.9999900967714073\n",
      "\n",
      "test mse: 1296973682.7054794\n",
      "test rmse: 36013.520831841466\n",
      "test r2: 0.8112700924524573\n",
      "\n",
      "Best parameters:  {'C': 100, 'gamma': 'auto', 'kernel': 'poly'}\n",
      "train score:  0.9999900967714073\n",
      "test score:  0.9999900967714073\n"
     ]
    }
   ],
   "source": [
    "# let's get the predictions\n",
    "x_svctrain= grid_svc_kernel.predict(X_train)\n",
    "x_svctest = grid_svc_kernel.predict(X_test)\n",
    "\n",
    "print('train mse: {}'.format(mean_squared_error(y_train, x_svctrain)))\n",
    "print('train rmse: {}'.format(sqrt(mean_squared_error(y_train, x_svctrain))))\n",
    "print('train r2: {}'.format(r2_score(y_train, x_svctrain)))\n",
    "print()\n",
    "print('test mse: {}'.format(mean_squared_error(y_test, x_svctest)))\n",
    "print('test rmse: {}'.format(sqrt(mean_squared_error(y_test, x_svctest))))\n",
    "print('test r2: {}'.format(r2_score(y_test, x_svctest)))\n",
    "print()\n",
    "print('Best parameters: ', grid_svc_kernel.best_params_)\n",
    "print('train score: ', grid_svc_kernel.score(X_train, y_train))\n",
    "print('test score: ', grid_svc_kernel.score(X_train, y_train))"
   ]
  },
  {
   "cell_type": "markdown",
   "metadata": {},
   "source": [
    "# Ensemble"
   ]
  },
  {
   "cell_type": "markdown",
   "metadata": {
    "ExecuteTime": {
     "end_time": "2020-04-12T22:12:32.102849Z",
     "start_time": "2020-04-12T22:12:32.098843Z"
    }
   },
   "source": [
    "## Bagging"
   ]
  },
  {
   "cell_type": "markdown",
   "metadata": {},
   "source": [
    "### With Descision Tree Regressor"
   ]
  },
  {
   "cell_type": "code",
   "execution_count": 66,
   "metadata": {
    "ExecuteTime": {
     "end_time": "2020-04-13T05:37:46.593855Z",
     "start_time": "2020-04-13T05:37:46.588868Z"
    }
   },
   "outputs": [],
   "source": [
    "from sklearn.linear_model import LogisticRegression\n",
    "from sklearn.tree import DecisionTreeRegressor\n",
    "from sklearn.ensemble import BaggingRegressor"
   ]
  },
  {
   "cell_type": "code",
   "execution_count": 67,
   "metadata": {
    "ExecuteTime": {
     "end_time": "2020-04-13T05:38:15.050470Z",
     "start_time": "2020-04-13T05:37:46.706549Z"
    },
    "scrolled": true
   },
   "outputs": [
    {
     "name": "stderr",
     "output_type": "stream",
     "text": [
      "C:\\Users\\nabhs\\Anaconda3\\envs\\buan6341_2020\\lib\\site-packages\\sklearn\\ensemble\\_bagging.py:1056: UserWarning: Some inputs do not have OOB scores. This probably means too few estimators were used to compute any reliable oob estimates.\n",
      "  warn(\"Some inputs do not have OOB scores. \"\n",
      "C:\\Users\\nabhs\\Anaconda3\\envs\\buan6341_2020\\lib\\site-packages\\sklearn\\ensemble\\_bagging.py:1056: UserWarning: Some inputs do not have OOB scores. This probably means too few estimators were used to compute any reliable oob estimates.\n",
      "  warn(\"Some inputs do not have OOB scores. \"\n",
      "C:\\Users\\nabhs\\Anaconda3\\envs\\buan6341_2020\\lib\\site-packages\\sklearn\\ensemble\\_bagging.py:1056: UserWarning: Some inputs do not have OOB scores. This probably means too few estimators were used to compute any reliable oob estimates.\n",
      "  warn(\"Some inputs do not have OOB scores. \"\n",
      "C:\\Users\\nabhs\\Anaconda3\\envs\\buan6341_2020\\lib\\site-packages\\sklearn\\ensemble\\_bagging.py:1056: UserWarning: Some inputs do not have OOB scores. This probably means too few estimators were used to compute any reliable oob estimates.\n",
      "  warn(\"Some inputs do not have OOB scores. \"\n",
      "C:\\Users\\nabhs\\Anaconda3\\envs\\buan6341_2020\\lib\\site-packages\\sklearn\\ensemble\\_bagging.py:1056: UserWarning: Some inputs do not have OOB scores. This probably means too few estimators were used to compute any reliable oob estimates.\n",
      "  warn(\"Some inputs do not have OOB scores. \"\n",
      "C:\\Users\\nabhs\\Anaconda3\\envs\\buan6341_2020\\lib\\site-packages\\sklearn\\ensemble\\_bagging.py:1056: UserWarning: Some inputs do not have OOB scores. This probably means too few estimators were used to compute any reliable oob estimates.\n",
      "  warn(\"Some inputs do not have OOB scores. \"\n",
      "C:\\Users\\nabhs\\Anaconda3\\envs\\buan6341_2020\\lib\\site-packages\\sklearn\\ensemble\\_bagging.py:1056: UserWarning: Some inputs do not have OOB scores. This probably means too few estimators were used to compute any reliable oob estimates.\n",
      "  warn(\"Some inputs do not have OOB scores. \"\n",
      "C:\\Users\\nabhs\\Anaconda3\\envs\\buan6341_2020\\lib\\site-packages\\sklearn\\ensemble\\_bagging.py:1056: UserWarning: Some inputs do not have OOB scores. This probably means too few estimators were used to compute any reliable oob estimates.\n",
      "  warn(\"Some inputs do not have OOB scores. \"\n",
      "C:\\Users\\nabhs\\Anaconda3\\envs\\buan6341_2020\\lib\\site-packages\\sklearn\\ensemble\\_bagging.py:1056: UserWarning: Some inputs do not have OOB scores. This probably means too few estimators were used to compute any reliable oob estimates.\n",
      "  warn(\"Some inputs do not have OOB scores. \"\n",
      "C:\\Users\\nabhs\\Anaconda3\\envs\\buan6341_2020\\lib\\site-packages\\sklearn\\ensemble\\_bagging.py:1056: UserWarning: Some inputs do not have OOB scores. This probably means too few estimators were used to compute any reliable oob estimates.\n",
      "  warn(\"Some inputs do not have OOB scores. \"\n",
      "C:\\Users\\nabhs\\Anaconda3\\envs\\buan6341_2020\\lib\\site-packages\\sklearn\\ensemble\\_bagging.py:1056: UserWarning: Some inputs do not have OOB scores. This probably means too few estimators were used to compute any reliable oob estimates.\n",
      "  warn(\"Some inputs do not have OOB scores. \"\n",
      "C:\\Users\\nabhs\\Anaconda3\\envs\\buan6341_2020\\lib\\site-packages\\sklearn\\ensemble\\_bagging.py:1056: UserWarning: Some inputs do not have OOB scores. This probably means too few estimators were used to compute any reliable oob estimates.\n",
      "  warn(\"Some inputs do not have OOB scores. \"\n",
      "C:\\Users\\nabhs\\Anaconda3\\envs\\buan6341_2020\\lib\\site-packages\\sklearn\\ensemble\\_bagging.py:1056: UserWarning: Some inputs do not have OOB scores. This probably means too few estimators were used to compute any reliable oob estimates.\n",
      "  warn(\"Some inputs do not have OOB scores. \"\n",
      "C:\\Users\\nabhs\\Anaconda3\\envs\\buan6341_2020\\lib\\site-packages\\sklearn\\ensemble\\_bagging.py:1056: UserWarning: Some inputs do not have OOB scores. This probably means too few estimators were used to compute any reliable oob estimates.\n",
      "  warn(\"Some inputs do not have OOB scores. \"\n",
      "C:\\Users\\nabhs\\Anaconda3\\envs\\buan6341_2020\\lib\\site-packages\\sklearn\\ensemble\\_bagging.py:1056: UserWarning: Some inputs do not have OOB scores. This probably means too few estimators were used to compute any reliable oob estimates.\n",
      "  warn(\"Some inputs do not have OOB scores. \"\n",
      "C:\\Users\\nabhs\\Anaconda3\\envs\\buan6341_2020\\lib\\site-packages\\sklearn\\ensemble\\_bagging.py:1056: UserWarning: Some inputs do not have OOB scores. This probably means too few estimators were used to compute any reliable oob estimates.\n",
      "  warn(\"Some inputs do not have OOB scores. \"\n",
      "C:\\Users\\nabhs\\Anaconda3\\envs\\buan6341_2020\\lib\\site-packages\\sklearn\\ensemble\\_bagging.py:1056: UserWarning: Some inputs do not have OOB scores. This probably means too few estimators were used to compute any reliable oob estimates.\n",
      "  warn(\"Some inputs do not have OOB scores. \"\n",
      "C:\\Users\\nabhs\\Anaconda3\\envs\\buan6341_2020\\lib\\site-packages\\sklearn\\ensemble\\_bagging.py:1056: UserWarning: Some inputs do not have OOB scores. This probably means too few estimators were used to compute any reliable oob estimates.\n",
      "  warn(\"Some inputs do not have OOB scores. \"\n",
      "C:\\Users\\nabhs\\Anaconda3\\envs\\buan6341_2020\\lib\\site-packages\\sklearn\\ensemble\\_bagging.py:1056: UserWarning: Some inputs do not have OOB scores. This probably means too few estimators were used to compute any reliable oob estimates.\n",
      "  warn(\"Some inputs do not have OOB scores. \"\n",
      "C:\\Users\\nabhs\\Anaconda3\\envs\\buan6341_2020\\lib\\site-packages\\sklearn\\ensemble\\_bagging.py:1056: UserWarning: Some inputs do not have OOB scores. This probably means too few estimators were used to compute any reliable oob estimates.\n",
      "  warn(\"Some inputs do not have OOB scores. \"\n",
      "C:\\Users\\nabhs\\Anaconda3\\envs\\buan6341_2020\\lib\\site-packages\\sklearn\\ensemble\\_bagging.py:1056: UserWarning: Some inputs do not have OOB scores. This probably means too few estimators were used to compute any reliable oob estimates.\n",
      "  warn(\"Some inputs do not have OOB scores. \"\n",
      "C:\\Users\\nabhs\\Anaconda3\\envs\\buan6341_2020\\lib\\site-packages\\sklearn\\ensemble\\_bagging.py:1056: UserWarning: Some inputs do not have OOB scores. This probably means too few estimators were used to compute any reliable oob estimates.\n",
      "  warn(\"Some inputs do not have OOB scores. \"\n",
      "C:\\Users\\nabhs\\Anaconda3\\envs\\buan6341_2020\\lib\\site-packages\\sklearn\\ensemble\\_bagging.py:1056: UserWarning: Some inputs do not have OOB scores. This probably means too few estimators were used to compute any reliable oob estimates.\n",
      "  warn(\"Some inputs do not have OOB scores. \"\n",
      "C:\\Users\\nabhs\\Anaconda3\\envs\\buan6341_2020\\lib\\site-packages\\sklearn\\ensemble\\_bagging.py:1056: UserWarning: Some inputs do not have OOB scores. This probably means too few estimators were used to compute any reliable oob estimates.\n",
      "  warn(\"Some inputs do not have OOB scores. \"\n",
      "C:\\Users\\nabhs\\Anaconda3\\envs\\buan6341_2020\\lib\\site-packages\\sklearn\\ensemble\\_bagging.py:1056: UserWarning: Some inputs do not have OOB scores. This probably means too few estimators were used to compute any reliable oob estimates.\n",
      "  warn(\"Some inputs do not have OOB scores. \"\n",
      "C:\\Users\\nabhs\\Anaconda3\\envs\\buan6341_2020\\lib\\site-packages\\sklearn\\ensemble\\_bagging.py:1056: UserWarning: Some inputs do not have OOB scores. This probably means too few estimators were used to compute any reliable oob estimates.\n",
      "  warn(\"Some inputs do not have OOB scores. \"\n",
      "C:\\Users\\nabhs\\Anaconda3\\envs\\buan6341_2020\\lib\\site-packages\\sklearn\\ensemble\\_bagging.py:1056: UserWarning: Some inputs do not have OOB scores. This probably means too few estimators were used to compute any reliable oob estimates.\n",
      "  warn(\"Some inputs do not have OOB scores. \"\n",
      "C:\\Users\\nabhs\\Anaconda3\\envs\\buan6341_2020\\lib\\site-packages\\sklearn\\ensemble\\_bagging.py:1056: UserWarning: Some inputs do not have OOB scores. This probably means too few estimators were used to compute any reliable oob estimates.\n",
      "  warn(\"Some inputs do not have OOB scores. \"\n",
      "C:\\Users\\nabhs\\Anaconda3\\envs\\buan6341_2020\\lib\\site-packages\\sklearn\\ensemble\\_bagging.py:1056: UserWarning: Some inputs do not have OOB scores. This probably means too few estimators were used to compute any reliable oob estimates.\n",
      "  warn(\"Some inputs do not have OOB scores. \"\n",
      "C:\\Users\\nabhs\\Anaconda3\\envs\\buan6341_2020\\lib\\site-packages\\sklearn\\ensemble\\_bagging.py:1056: UserWarning: Some inputs do not have OOB scores. This probably means too few estimators were used to compute any reliable oob estimates.\n",
      "  warn(\"Some inputs do not have OOB scores. \"\n",
      "C:\\Users\\nabhs\\Anaconda3\\envs\\buan6341_2020\\lib\\site-packages\\sklearn\\ensemble\\_bagging.py:1056: UserWarning: Some inputs do not have OOB scores. This probably means too few estimators were used to compute any reliable oob estimates.\n",
      "  warn(\"Some inputs do not have OOB scores. \"\n",
      "C:\\Users\\nabhs\\Anaconda3\\envs\\buan6341_2020\\lib\\site-packages\\sklearn\\ensemble\\_bagging.py:1056: UserWarning: Some inputs do not have OOB scores. This probably means too few estimators were used to compute any reliable oob estimates.\n",
      "  warn(\"Some inputs do not have OOB scores. \"\n"
     ]
    },
    {
     "name": "stderr",
     "output_type": "stream",
     "text": [
      "C:\\Users\\nabhs\\Anaconda3\\envs\\buan6341_2020\\lib\\site-packages\\sklearn\\ensemble\\_bagging.py:1056: UserWarning: Some inputs do not have OOB scores. This probably means too few estimators were used to compute any reliable oob estimates.\n",
      "  warn(\"Some inputs do not have OOB scores. \"\n",
      "C:\\Users\\nabhs\\Anaconda3\\envs\\buan6341_2020\\lib\\site-packages\\sklearn\\ensemble\\_bagging.py:1056: UserWarning: Some inputs do not have OOB scores. This probably means too few estimators were used to compute any reliable oob estimates.\n",
      "  warn(\"Some inputs do not have OOB scores. \"\n",
      "C:\\Users\\nabhs\\Anaconda3\\envs\\buan6341_2020\\lib\\site-packages\\sklearn\\ensemble\\_bagging.py:1056: UserWarning: Some inputs do not have OOB scores. This probably means too few estimators were used to compute any reliable oob estimates.\n",
      "  warn(\"Some inputs do not have OOB scores. \"\n",
      "C:\\Users\\nabhs\\Anaconda3\\envs\\buan6341_2020\\lib\\site-packages\\sklearn\\ensemble\\_bagging.py:1056: UserWarning: Some inputs do not have OOB scores. This probably means too few estimators were used to compute any reliable oob estimates.\n",
      "  warn(\"Some inputs do not have OOB scores. \"\n",
      "C:\\Users\\nabhs\\Anaconda3\\envs\\buan6341_2020\\lib\\site-packages\\sklearn\\ensemble\\_bagging.py:1056: UserWarning: Some inputs do not have OOB scores. This probably means too few estimators were used to compute any reliable oob estimates.\n",
      "  warn(\"Some inputs do not have OOB scores. \"\n",
      "C:\\Users\\nabhs\\Anaconda3\\envs\\buan6341_2020\\lib\\site-packages\\sklearn\\ensemble\\_bagging.py:1056: UserWarning: Some inputs do not have OOB scores. This probably means too few estimators were used to compute any reliable oob estimates.\n",
      "  warn(\"Some inputs do not have OOB scores. \"\n",
      "C:\\Users\\nabhs\\Anaconda3\\envs\\buan6341_2020\\lib\\site-packages\\sklearn\\ensemble\\_bagging.py:1056: UserWarning: Some inputs do not have OOB scores. This probably means too few estimators were used to compute any reliable oob estimates.\n",
      "  warn(\"Some inputs do not have OOB scores. \"\n",
      "C:\\Users\\nabhs\\Anaconda3\\envs\\buan6341_2020\\lib\\site-packages\\sklearn\\ensemble\\_bagging.py:1056: UserWarning: Some inputs do not have OOB scores. This probably means too few estimators were used to compute any reliable oob estimates.\n",
      "  warn(\"Some inputs do not have OOB scores. \"\n",
      "C:\\Users\\nabhs\\Anaconda3\\envs\\buan6341_2020\\lib\\site-packages\\sklearn\\ensemble\\_bagging.py:1056: UserWarning: Some inputs do not have OOB scores. This probably means too few estimators were used to compute any reliable oob estimates.\n",
      "  warn(\"Some inputs do not have OOB scores. \"\n",
      "C:\\Users\\nabhs\\Anaconda3\\envs\\buan6341_2020\\lib\\site-packages\\sklearn\\ensemble\\_bagging.py:1056: UserWarning: Some inputs do not have OOB scores. This probably means too few estimators were used to compute any reliable oob estimates.\n",
      "  warn(\"Some inputs do not have OOB scores. \"\n",
      "C:\\Users\\nabhs\\Anaconda3\\envs\\buan6341_2020\\lib\\site-packages\\sklearn\\ensemble\\_bagging.py:1056: UserWarning: Some inputs do not have OOB scores. This probably means too few estimators were used to compute any reliable oob estimates.\n",
      "  warn(\"Some inputs do not have OOB scores. \"\n",
      "C:\\Users\\nabhs\\Anaconda3\\envs\\buan6341_2020\\lib\\site-packages\\sklearn\\ensemble\\_bagging.py:1056: UserWarning: Some inputs do not have OOB scores. This probably means too few estimators were used to compute any reliable oob estimates.\n",
      "  warn(\"Some inputs do not have OOB scores. \"\n",
      "C:\\Users\\nabhs\\Anaconda3\\envs\\buan6341_2020\\lib\\site-packages\\sklearn\\ensemble\\_bagging.py:1056: UserWarning: Some inputs do not have OOB scores. This probably means too few estimators were used to compute any reliable oob estimates.\n",
      "  warn(\"Some inputs do not have OOB scores. \"\n",
      "C:\\Users\\nabhs\\Anaconda3\\envs\\buan6341_2020\\lib\\site-packages\\sklearn\\ensemble\\_bagging.py:1056: UserWarning: Some inputs do not have OOB scores. This probably means too few estimators were used to compute any reliable oob estimates.\n",
      "  warn(\"Some inputs do not have OOB scores. \"\n",
      "C:\\Users\\nabhs\\Anaconda3\\envs\\buan6341_2020\\lib\\site-packages\\sklearn\\ensemble\\_bagging.py:1056: UserWarning: Some inputs do not have OOB scores. This probably means too few estimators were used to compute any reliable oob estimates.\n",
      "  warn(\"Some inputs do not have OOB scores. \"\n",
      "C:\\Users\\nabhs\\Anaconda3\\envs\\buan6341_2020\\lib\\site-packages\\sklearn\\ensemble\\_bagging.py:1056: UserWarning: Some inputs do not have OOB scores. This probably means too few estimators were used to compute any reliable oob estimates.\n",
      "  warn(\"Some inputs do not have OOB scores. \"\n",
      "C:\\Users\\nabhs\\Anaconda3\\envs\\buan6341_2020\\lib\\site-packages\\sklearn\\ensemble\\_bagging.py:1056: UserWarning: Some inputs do not have OOB scores. This probably means too few estimators were used to compute any reliable oob estimates.\n",
      "  warn(\"Some inputs do not have OOB scores. \"\n",
      "C:\\Users\\nabhs\\Anaconda3\\envs\\buan6341_2020\\lib\\site-packages\\sklearn\\ensemble\\_bagging.py:1056: UserWarning: Some inputs do not have OOB scores. This probably means too few estimators were used to compute any reliable oob estimates.\n",
      "  warn(\"Some inputs do not have OOB scores. \"\n",
      "C:\\Users\\nabhs\\Anaconda3\\envs\\buan6341_2020\\lib\\site-packages\\sklearn\\ensemble\\_bagging.py:1056: UserWarning: Some inputs do not have OOB scores. This probably means too few estimators were used to compute any reliable oob estimates.\n",
      "  warn(\"Some inputs do not have OOB scores. \"\n",
      "C:\\Users\\nabhs\\Anaconda3\\envs\\buan6341_2020\\lib\\site-packages\\sklearn\\ensemble\\_bagging.py:1056: UserWarning: Some inputs do not have OOB scores. This probably means too few estimators were used to compute any reliable oob estimates.\n",
      "  warn(\"Some inputs do not have OOB scores. \"\n",
      "C:\\Users\\nabhs\\Anaconda3\\envs\\buan6341_2020\\lib\\site-packages\\sklearn\\ensemble\\_bagging.py:1056: UserWarning: Some inputs do not have OOB scores. This probably means too few estimators were used to compute any reliable oob estimates.\n",
      "  warn(\"Some inputs do not have OOB scores. \"\n",
      "C:\\Users\\nabhs\\Anaconda3\\envs\\buan6341_2020\\lib\\site-packages\\sklearn\\ensemble\\_bagging.py:1056: UserWarning: Some inputs do not have OOB scores. This probably means too few estimators were used to compute any reliable oob estimates.\n",
      "  warn(\"Some inputs do not have OOB scores. \"\n",
      "C:\\Users\\nabhs\\Anaconda3\\envs\\buan6341_2020\\lib\\site-packages\\sklearn\\ensemble\\_bagging.py:1056: UserWarning: Some inputs do not have OOB scores. This probably means too few estimators were used to compute any reliable oob estimates.\n",
      "  warn(\"Some inputs do not have OOB scores. \"\n",
      "C:\\Users\\nabhs\\Anaconda3\\envs\\buan6341_2020\\lib\\site-packages\\sklearn\\ensemble\\_bagging.py:1056: UserWarning: Some inputs do not have OOB scores. This probably means too few estimators were used to compute any reliable oob estimates.\n",
      "  warn(\"Some inputs do not have OOB scores. \"\n",
      "C:\\Users\\nabhs\\Anaconda3\\envs\\buan6341_2020\\lib\\site-packages\\sklearn\\ensemble\\_bagging.py:1056: UserWarning: Some inputs do not have OOB scores. This probably means too few estimators were used to compute any reliable oob estimates.\n",
      "  warn(\"Some inputs do not have OOB scores. \"\n",
      "C:\\Users\\nabhs\\Anaconda3\\envs\\buan6341_2020\\lib\\site-packages\\sklearn\\ensemble\\_bagging.py:1056: UserWarning: Some inputs do not have OOB scores. This probably means too few estimators were used to compute any reliable oob estimates.\n",
      "  warn(\"Some inputs do not have OOB scores. \"\n",
      "C:\\Users\\nabhs\\Anaconda3\\envs\\buan6341_2020\\lib\\site-packages\\sklearn\\ensemble\\_bagging.py:1056: UserWarning: Some inputs do not have OOB scores. This probably means too few estimators were used to compute any reliable oob estimates.\n",
      "  warn(\"Some inputs do not have OOB scores. \"\n",
      "C:\\Users\\nabhs\\Anaconda3\\envs\\buan6341_2020\\lib\\site-packages\\sklearn\\ensemble\\_bagging.py:1056: UserWarning: Some inputs do not have OOB scores. This probably means too few estimators were used to compute any reliable oob estimates.\n",
      "  warn(\"Some inputs do not have OOB scores. \"\n",
      "C:\\Users\\nabhs\\Anaconda3\\envs\\buan6341_2020\\lib\\site-packages\\sklearn\\ensemble\\_bagging.py:1056: UserWarning: Some inputs do not have OOB scores. This probably means too few estimators were used to compute any reliable oob estimates.\n",
      "  warn(\"Some inputs do not have OOB scores. \"\n",
      "C:\\Users\\nabhs\\Anaconda3\\envs\\buan6341_2020\\lib\\site-packages\\sklearn\\ensemble\\_bagging.py:1056: UserWarning: Some inputs do not have OOB scores. This probably means too few estimators were used to compute any reliable oob estimates.\n",
      "  warn(\"Some inputs do not have OOB scores. \"\n",
      "C:\\Users\\nabhs\\Anaconda3\\envs\\buan6341_2020\\lib\\site-packages\\sklearn\\ensemble\\_bagging.py:1056: UserWarning: Some inputs do not have OOB scores. This probably means too few estimators were used to compute any reliable oob estimates.\n",
      "  warn(\"Some inputs do not have OOB scores. \"\n",
      "C:\\Users\\nabhs\\Anaconda3\\envs\\buan6341_2020\\lib\\site-packages\\sklearn\\ensemble\\_bagging.py:1056: UserWarning: Some inputs do not have OOB scores. This probably means too few estimators were used to compute any reliable oob estimates.\n",
      "  warn(\"Some inputs do not have OOB scores. \"\n",
      "C:\\Users\\nabhs\\Anaconda3\\envs\\buan6341_2020\\lib\\site-packages\\sklearn\\ensemble\\_bagging.py:1056: UserWarning: Some inputs do not have OOB scores. This probably means too few estimators were used to compute any reliable oob estimates.\n",
      "  warn(\"Some inputs do not have OOB scores. \"\n",
      "C:\\Users\\nabhs\\Anaconda3\\envs\\buan6341_2020\\lib\\site-packages\\sklearn\\ensemble\\_bagging.py:1056: UserWarning: Some inputs do not have OOB scores. This probably means too few estimators were used to compute any reliable oob estimates.\n",
      "  warn(\"Some inputs do not have OOB scores. \"\n",
      "C:\\Users\\nabhs\\Anaconda3\\envs\\buan6341_2020\\lib\\site-packages\\sklearn\\ensemble\\_bagging.py:1056: UserWarning: Some inputs do not have OOB scores. This probably means too few estimators were used to compute any reliable oob estimates.\n",
      "  warn(\"Some inputs do not have OOB scores. \"\n",
      "C:\\Users\\nabhs\\Anaconda3\\envs\\buan6341_2020\\lib\\site-packages\\sklearn\\ensemble\\_bagging.py:1056: UserWarning: Some inputs do not have OOB scores. This probably means too few estimators were used to compute any reliable oob estimates.\n",
      "  warn(\"Some inputs do not have OOB scores. \"\n",
      "C:\\Users\\nabhs\\Anaconda3\\envs\\buan6341_2020\\lib\\site-packages\\sklearn\\ensemble\\_bagging.py:1056: UserWarning: Some inputs do not have OOB scores. This probably means too few estimators were used to compute any reliable oob estimates.\n",
      "  warn(\"Some inputs do not have OOB scores. \"\n"
     ]
    },
    {
     "name": "stderr",
     "output_type": "stream",
     "text": [
      "C:\\Users\\nabhs\\Anaconda3\\envs\\buan6341_2020\\lib\\site-packages\\sklearn\\ensemble\\_bagging.py:1056: UserWarning: Some inputs do not have OOB scores. This probably means too few estimators were used to compute any reliable oob estimates.\n",
      "  warn(\"Some inputs do not have OOB scores. \"\n",
      "C:\\Users\\nabhs\\Anaconda3\\envs\\buan6341_2020\\lib\\site-packages\\sklearn\\ensemble\\_bagging.py:1056: UserWarning: Some inputs do not have OOB scores. This probably means too few estimators were used to compute any reliable oob estimates.\n",
      "  warn(\"Some inputs do not have OOB scores. \"\n",
      "C:\\Users\\nabhs\\Anaconda3\\envs\\buan6341_2020\\lib\\site-packages\\sklearn\\ensemble\\_bagging.py:1056: UserWarning: Some inputs do not have OOB scores. This probably means too few estimators were used to compute any reliable oob estimates.\n",
      "  warn(\"Some inputs do not have OOB scores. \"\n",
      "C:\\Users\\nabhs\\Anaconda3\\envs\\buan6341_2020\\lib\\site-packages\\sklearn\\ensemble\\_bagging.py:1056: UserWarning: Some inputs do not have OOB scores. This probably means too few estimators were used to compute any reliable oob estimates.\n",
      "  warn(\"Some inputs do not have OOB scores. \"\n",
      "C:\\Users\\nabhs\\Anaconda3\\envs\\buan6341_2020\\lib\\site-packages\\sklearn\\ensemble\\_bagging.py:1056: UserWarning: Some inputs do not have OOB scores. This probably means too few estimators were used to compute any reliable oob estimates.\n",
      "  warn(\"Some inputs do not have OOB scores. \"\n",
      "C:\\Users\\nabhs\\Anaconda3\\envs\\buan6341_2020\\lib\\site-packages\\sklearn\\ensemble\\_bagging.py:1056: UserWarning: Some inputs do not have OOB scores. This probably means too few estimators were used to compute any reliable oob estimates.\n",
      "  warn(\"Some inputs do not have OOB scores. \"\n",
      "C:\\Users\\nabhs\\Anaconda3\\envs\\buan6341_2020\\lib\\site-packages\\sklearn\\ensemble\\_bagging.py:1056: UserWarning: Some inputs do not have OOB scores. This probably means too few estimators were used to compute any reliable oob estimates.\n",
      "  warn(\"Some inputs do not have OOB scores. \"\n",
      "C:\\Users\\nabhs\\Anaconda3\\envs\\buan6341_2020\\lib\\site-packages\\sklearn\\ensemble\\_bagging.py:1056: UserWarning: Some inputs do not have OOB scores. This probably means too few estimators were used to compute any reliable oob estimates.\n",
      "  warn(\"Some inputs do not have OOB scores. \"\n",
      "C:\\Users\\nabhs\\Anaconda3\\envs\\buan6341_2020\\lib\\site-packages\\sklearn\\ensemble\\_bagging.py:1056: UserWarning: Some inputs do not have OOB scores. This probably means too few estimators were used to compute any reliable oob estimates.\n",
      "  warn(\"Some inputs do not have OOB scores. \"\n",
      "C:\\Users\\nabhs\\Anaconda3\\envs\\buan6341_2020\\lib\\site-packages\\sklearn\\ensemble\\_bagging.py:1056: UserWarning: Some inputs do not have OOB scores. This probably means too few estimators were used to compute any reliable oob estimates.\n",
      "  warn(\"Some inputs do not have OOB scores. \"\n",
      "C:\\Users\\nabhs\\Anaconda3\\envs\\buan6341_2020\\lib\\site-packages\\sklearn\\ensemble\\_bagging.py:1056: UserWarning: Some inputs do not have OOB scores. This probably means too few estimators were used to compute any reliable oob estimates.\n",
      "  warn(\"Some inputs do not have OOB scores. \"\n",
      "C:\\Users\\nabhs\\Anaconda3\\envs\\buan6341_2020\\lib\\site-packages\\sklearn\\ensemble\\_bagging.py:1056: UserWarning: Some inputs do not have OOB scores. This probably means too few estimators were used to compute any reliable oob estimates.\n",
      "  warn(\"Some inputs do not have OOB scores. \"\n",
      "C:\\Users\\nabhs\\Anaconda3\\envs\\buan6341_2020\\lib\\site-packages\\sklearn\\ensemble\\_bagging.py:1056: UserWarning: Some inputs do not have OOB scores. This probably means too few estimators were used to compute any reliable oob estimates.\n",
      "  warn(\"Some inputs do not have OOB scores. \"\n",
      "C:\\Users\\nabhs\\Anaconda3\\envs\\buan6341_2020\\lib\\site-packages\\sklearn\\ensemble\\_bagging.py:1056: UserWarning: Some inputs do not have OOB scores. This probably means too few estimators were used to compute any reliable oob estimates.\n",
      "  warn(\"Some inputs do not have OOB scores. \"\n",
      "C:\\Users\\nabhs\\Anaconda3\\envs\\buan6341_2020\\lib\\site-packages\\sklearn\\ensemble\\_bagging.py:1056: UserWarning: Some inputs do not have OOB scores. This probably means too few estimators were used to compute any reliable oob estimates.\n",
      "  warn(\"Some inputs do not have OOB scores. \"\n",
      "C:\\Users\\nabhs\\Anaconda3\\envs\\buan6341_2020\\lib\\site-packages\\sklearn\\ensemble\\_bagging.py:1056: UserWarning: Some inputs do not have OOB scores. This probably means too few estimators were used to compute any reliable oob estimates.\n",
      "  warn(\"Some inputs do not have OOB scores. \"\n",
      "C:\\Users\\nabhs\\Anaconda3\\envs\\buan6341_2020\\lib\\site-packages\\sklearn\\ensemble\\_bagging.py:1056: UserWarning: Some inputs do not have OOB scores. This probably means too few estimators were used to compute any reliable oob estimates.\n",
      "  warn(\"Some inputs do not have OOB scores. \"\n",
      "C:\\Users\\nabhs\\Anaconda3\\envs\\buan6341_2020\\lib\\site-packages\\sklearn\\ensemble\\_bagging.py:1056: UserWarning: Some inputs do not have OOB scores. This probably means too few estimators were used to compute any reliable oob estimates.\n",
      "  warn(\"Some inputs do not have OOB scores. \"\n",
      "C:\\Users\\nabhs\\Anaconda3\\envs\\buan6341_2020\\lib\\site-packages\\sklearn\\ensemble\\_bagging.py:1056: UserWarning: Some inputs do not have OOB scores. This probably means too few estimators were used to compute any reliable oob estimates.\n",
      "  warn(\"Some inputs do not have OOB scores. \"\n",
      "C:\\Users\\nabhs\\Anaconda3\\envs\\buan6341_2020\\lib\\site-packages\\sklearn\\ensemble\\_bagging.py:1056: UserWarning: Some inputs do not have OOB scores. This probably means too few estimators were used to compute any reliable oob estimates.\n",
      "  warn(\"Some inputs do not have OOB scores. \"\n",
      "C:\\Users\\nabhs\\Anaconda3\\envs\\buan6341_2020\\lib\\site-packages\\sklearn\\ensemble\\_bagging.py:1056: UserWarning: Some inputs do not have OOB scores. This probably means too few estimators were used to compute any reliable oob estimates.\n",
      "  warn(\"Some inputs do not have OOB scores. \"\n",
      "C:\\Users\\nabhs\\Anaconda3\\envs\\buan6341_2020\\lib\\site-packages\\sklearn\\ensemble\\_bagging.py:1056: UserWarning: Some inputs do not have OOB scores. This probably means too few estimators were used to compute any reliable oob estimates.\n",
      "  warn(\"Some inputs do not have OOB scores. \"\n",
      "C:\\Users\\nabhs\\Anaconda3\\envs\\buan6341_2020\\lib\\site-packages\\sklearn\\ensemble\\_bagging.py:1056: UserWarning: Some inputs do not have OOB scores. This probably means too few estimators were used to compute any reliable oob estimates.\n",
      "  warn(\"Some inputs do not have OOB scores. \"\n",
      "C:\\Users\\nabhs\\Anaconda3\\envs\\buan6341_2020\\lib\\site-packages\\sklearn\\ensemble\\_bagging.py:1056: UserWarning: Some inputs do not have OOB scores. This probably means too few estimators were used to compute any reliable oob estimates.\n",
      "  warn(\"Some inputs do not have OOB scores. \"\n",
      "C:\\Users\\nabhs\\Anaconda3\\envs\\buan6341_2020\\lib\\site-packages\\sklearn\\ensemble\\_bagging.py:1056: UserWarning: Some inputs do not have OOB scores. This probably means too few estimators were used to compute any reliable oob estimates.\n",
      "  warn(\"Some inputs do not have OOB scores. \"\n",
      "C:\\Users\\nabhs\\Anaconda3\\envs\\buan6341_2020\\lib\\site-packages\\sklearn\\ensemble\\_bagging.py:1056: UserWarning: Some inputs do not have OOB scores. This probably means too few estimators were used to compute any reliable oob estimates.\n",
      "  warn(\"Some inputs do not have OOB scores. \"\n",
      "C:\\Users\\nabhs\\Anaconda3\\envs\\buan6341_2020\\lib\\site-packages\\sklearn\\ensemble\\_bagging.py:1056: UserWarning: Some inputs do not have OOB scores. This probably means too few estimators were used to compute any reliable oob estimates.\n",
      "  warn(\"Some inputs do not have OOB scores. \"\n",
      "C:\\Users\\nabhs\\Anaconda3\\envs\\buan6341_2020\\lib\\site-packages\\sklearn\\ensemble\\_bagging.py:1056: UserWarning: Some inputs do not have OOB scores. This probably means too few estimators were used to compute any reliable oob estimates.\n",
      "  warn(\"Some inputs do not have OOB scores. \"\n",
      "C:\\Users\\nabhs\\Anaconda3\\envs\\buan6341_2020\\lib\\site-packages\\sklearn\\ensemble\\_bagging.py:1056: UserWarning: Some inputs do not have OOB scores. This probably means too few estimators were used to compute any reliable oob estimates.\n",
      "  warn(\"Some inputs do not have OOB scores. \"\n",
      "C:\\Users\\nabhs\\Anaconda3\\envs\\buan6341_2020\\lib\\site-packages\\sklearn\\ensemble\\_bagging.py:1056: UserWarning: Some inputs do not have OOB scores. This probably means too few estimators were used to compute any reliable oob estimates.\n",
      "  warn(\"Some inputs do not have OOB scores. \"\n",
      "C:\\Users\\nabhs\\Anaconda3\\envs\\buan6341_2020\\lib\\site-packages\\sklearn\\ensemble\\_bagging.py:1056: UserWarning: Some inputs do not have OOB scores. This probably means too few estimators were used to compute any reliable oob estimates.\n",
      "  warn(\"Some inputs do not have OOB scores. \"\n"
     ]
    },
    {
     "name": "stderr",
     "output_type": "stream",
     "text": [
      "C:\\Users\\nabhs\\Anaconda3\\envs\\buan6341_2020\\lib\\site-packages\\sklearn\\ensemble\\_bagging.py:1056: UserWarning: Some inputs do not have OOB scores. This probably means too few estimators were used to compute any reliable oob estimates.\n",
      "  warn(\"Some inputs do not have OOB scores. \"\n",
      "C:\\Users\\nabhs\\Anaconda3\\envs\\buan6341_2020\\lib\\site-packages\\sklearn\\ensemble\\_bagging.py:1056: UserWarning: Some inputs do not have OOB scores. This probably means too few estimators were used to compute any reliable oob estimates.\n",
      "  warn(\"Some inputs do not have OOB scores. \"\n",
      "C:\\Users\\nabhs\\Anaconda3\\envs\\buan6341_2020\\lib\\site-packages\\sklearn\\ensemble\\_bagging.py:1056: UserWarning: Some inputs do not have OOB scores. This probably means too few estimators were used to compute any reliable oob estimates.\n",
      "  warn(\"Some inputs do not have OOB scores. \"\n",
      "C:\\Users\\nabhs\\Anaconda3\\envs\\buan6341_2020\\lib\\site-packages\\sklearn\\ensemble\\_bagging.py:1056: UserWarning: Some inputs do not have OOB scores. This probably means too few estimators were used to compute any reliable oob estimates.\n",
      "  warn(\"Some inputs do not have OOB scores. \"\n",
      "C:\\Users\\nabhs\\Anaconda3\\envs\\buan6341_2020\\lib\\site-packages\\sklearn\\ensemble\\_bagging.py:1056: UserWarning: Some inputs do not have OOB scores. This probably means too few estimators were used to compute any reliable oob estimates.\n",
      "  warn(\"Some inputs do not have OOB scores. \"\n",
      "C:\\Users\\nabhs\\Anaconda3\\envs\\buan6341_2020\\lib\\site-packages\\sklearn\\ensemble\\_bagging.py:1056: UserWarning: Some inputs do not have OOB scores. This probably means too few estimators were used to compute any reliable oob estimates.\n",
      "  warn(\"Some inputs do not have OOB scores. \"\n",
      "C:\\Users\\nabhs\\Anaconda3\\envs\\buan6341_2020\\lib\\site-packages\\sklearn\\ensemble\\_bagging.py:1056: UserWarning: Some inputs do not have OOB scores. This probably means too few estimators were used to compute any reliable oob estimates.\n",
      "  warn(\"Some inputs do not have OOB scores. \"\n",
      "C:\\Users\\nabhs\\Anaconda3\\envs\\buan6341_2020\\lib\\site-packages\\sklearn\\ensemble\\_bagging.py:1056: UserWarning: Some inputs do not have OOB scores. This probably means too few estimators were used to compute any reliable oob estimates.\n",
      "  warn(\"Some inputs do not have OOB scores. \"\n",
      "C:\\Users\\nabhs\\Anaconda3\\envs\\buan6341_2020\\lib\\site-packages\\sklearn\\ensemble\\_bagging.py:1056: UserWarning: Some inputs do not have OOB scores. This probably means too few estimators were used to compute any reliable oob estimates.\n",
      "  warn(\"Some inputs do not have OOB scores. \"\n",
      "C:\\Users\\nabhs\\Anaconda3\\envs\\buan6341_2020\\lib\\site-packages\\sklearn\\ensemble\\_bagging.py:1056: UserWarning: Some inputs do not have OOB scores. This probably means too few estimators were used to compute any reliable oob estimates.\n",
      "  warn(\"Some inputs do not have OOB scores. \"\n",
      "C:\\Users\\nabhs\\Anaconda3\\envs\\buan6341_2020\\lib\\site-packages\\sklearn\\ensemble\\_bagging.py:1056: UserWarning: Some inputs do not have OOB scores. This probably means too few estimators were used to compute any reliable oob estimates.\n",
      "  warn(\"Some inputs do not have OOB scores. \"\n",
      "C:\\Users\\nabhs\\Anaconda3\\envs\\buan6341_2020\\lib\\site-packages\\sklearn\\ensemble\\_bagging.py:1056: UserWarning: Some inputs do not have OOB scores. This probably means too few estimators were used to compute any reliable oob estimates.\n",
      "  warn(\"Some inputs do not have OOB scores. \"\n",
      "C:\\Users\\nabhs\\Anaconda3\\envs\\buan6341_2020\\lib\\site-packages\\sklearn\\ensemble\\_bagging.py:1056: UserWarning: Some inputs do not have OOB scores. This probably means too few estimators were used to compute any reliable oob estimates.\n",
      "  warn(\"Some inputs do not have OOB scores. \"\n",
      "C:\\Users\\nabhs\\Anaconda3\\envs\\buan6341_2020\\lib\\site-packages\\sklearn\\ensemble\\_bagging.py:1056: UserWarning: Some inputs do not have OOB scores. This probably means too few estimators were used to compute any reliable oob estimates.\n",
      "  warn(\"Some inputs do not have OOB scores. \"\n",
      "C:\\Users\\nabhs\\Anaconda3\\envs\\buan6341_2020\\lib\\site-packages\\sklearn\\ensemble\\_bagging.py:1056: UserWarning: Some inputs do not have OOB scores. This probably means too few estimators were used to compute any reliable oob estimates.\n",
      "  warn(\"Some inputs do not have OOB scores. \"\n",
      "C:\\Users\\nabhs\\Anaconda3\\envs\\buan6341_2020\\lib\\site-packages\\sklearn\\ensemble\\_bagging.py:1056: UserWarning: Some inputs do not have OOB scores. This probably means too few estimators were used to compute any reliable oob estimates.\n",
      "  warn(\"Some inputs do not have OOB scores. \"\n",
      "C:\\Users\\nabhs\\Anaconda3\\envs\\buan6341_2020\\lib\\site-packages\\sklearn\\ensemble\\_bagging.py:1056: UserWarning: Some inputs do not have OOB scores. This probably means too few estimators were used to compute any reliable oob estimates.\n",
      "  warn(\"Some inputs do not have OOB scores. \"\n",
      "C:\\Users\\nabhs\\Anaconda3\\envs\\buan6341_2020\\lib\\site-packages\\sklearn\\ensemble\\_bagging.py:1056: UserWarning: Some inputs do not have OOB scores. This probably means too few estimators were used to compute any reliable oob estimates.\n",
      "  warn(\"Some inputs do not have OOB scores. \"\n",
      "C:\\Users\\nabhs\\Anaconda3\\envs\\buan6341_2020\\lib\\site-packages\\sklearn\\ensemble\\_bagging.py:1056: UserWarning: Some inputs do not have OOB scores. This probably means too few estimators were used to compute any reliable oob estimates.\n",
      "  warn(\"Some inputs do not have OOB scores. \"\n",
      "C:\\Users\\nabhs\\Anaconda3\\envs\\buan6341_2020\\lib\\site-packages\\sklearn\\ensemble\\_bagging.py:1056: UserWarning: Some inputs do not have OOB scores. This probably means too few estimators were used to compute any reliable oob estimates.\n",
      "  warn(\"Some inputs do not have OOB scores. \"\n",
      "C:\\Users\\nabhs\\Anaconda3\\envs\\buan6341_2020\\lib\\site-packages\\sklearn\\ensemble\\_bagging.py:1056: UserWarning: Some inputs do not have OOB scores. This probably means too few estimators were used to compute any reliable oob estimates.\n",
      "  warn(\"Some inputs do not have OOB scores. \"\n",
      "C:\\Users\\nabhs\\Anaconda3\\envs\\buan6341_2020\\lib\\site-packages\\sklearn\\ensemble\\_bagging.py:1056: UserWarning: Some inputs do not have OOB scores. This probably means too few estimators were used to compute any reliable oob estimates.\n",
      "  warn(\"Some inputs do not have OOB scores. \"\n",
      "C:\\Users\\nabhs\\Anaconda3\\envs\\buan6341_2020\\lib\\site-packages\\sklearn\\ensemble\\_bagging.py:1056: UserWarning: Some inputs do not have OOB scores. This probably means too few estimators were used to compute any reliable oob estimates.\n",
      "  warn(\"Some inputs do not have OOB scores. \"\n",
      "C:\\Users\\nabhs\\Anaconda3\\envs\\buan6341_2020\\lib\\site-packages\\sklearn\\ensemble\\_bagging.py:1056: UserWarning: Some inputs do not have OOB scores. This probably means too few estimators were used to compute any reliable oob estimates.\n",
      "  warn(\"Some inputs do not have OOB scores. \"\n",
      "C:\\Users\\nabhs\\Anaconda3\\envs\\buan6341_2020\\lib\\site-packages\\sklearn\\ensemble\\_bagging.py:1056: UserWarning: Some inputs do not have OOB scores. This probably means too few estimators were used to compute any reliable oob estimates.\n",
      "  warn(\"Some inputs do not have OOB scores. \"\n",
      "C:\\Users\\nabhs\\Anaconda3\\envs\\buan6341_2020\\lib\\site-packages\\sklearn\\ensemble\\_bagging.py:1056: UserWarning: Some inputs do not have OOB scores. This probably means too few estimators were used to compute any reliable oob estimates.\n",
      "  warn(\"Some inputs do not have OOB scores. \"\n",
      "C:\\Users\\nabhs\\Anaconda3\\envs\\buan6341_2020\\lib\\site-packages\\sklearn\\ensemble\\_bagging.py:1056: UserWarning: Some inputs do not have OOB scores. This probably means too few estimators were used to compute any reliable oob estimates.\n",
      "  warn(\"Some inputs do not have OOB scores. \"\n",
      "C:\\Users\\nabhs\\Anaconda3\\envs\\buan6341_2020\\lib\\site-packages\\sklearn\\ensemble\\_bagging.py:1056: UserWarning: Some inputs do not have OOB scores. This probably means too few estimators were used to compute any reliable oob estimates.\n",
      "  warn(\"Some inputs do not have OOB scores. \"\n",
      "C:\\Users\\nabhs\\Anaconda3\\envs\\buan6341_2020\\lib\\site-packages\\sklearn\\ensemble\\_bagging.py:1056: UserWarning: Some inputs do not have OOB scores. This probably means too few estimators were used to compute any reliable oob estimates.\n",
      "  warn(\"Some inputs do not have OOB scores. \"\n",
      "C:\\Users\\nabhs\\Anaconda3\\envs\\buan6341_2020\\lib\\site-packages\\sklearn\\ensemble\\_bagging.py:1056: UserWarning: Some inputs do not have OOB scores. This probably means too few estimators were used to compute any reliable oob estimates.\n",
      "  warn(\"Some inputs do not have OOB scores. \"\n"
     ]
    },
    {
     "name": "stderr",
     "output_type": "stream",
     "text": [
      "C:\\Users\\nabhs\\Anaconda3\\envs\\buan6341_2020\\lib\\site-packages\\sklearn\\ensemble\\_bagging.py:1056: UserWarning: Some inputs do not have OOB scores. This probably means too few estimators were used to compute any reliable oob estimates.\n",
      "  warn(\"Some inputs do not have OOB scores. \"\n",
      "C:\\Users\\nabhs\\Anaconda3\\envs\\buan6341_2020\\lib\\site-packages\\sklearn\\ensemble\\_bagging.py:1056: UserWarning: Some inputs do not have OOB scores. This probably means too few estimators were used to compute any reliable oob estimates.\n",
      "  warn(\"Some inputs do not have OOB scores. \"\n",
      "C:\\Users\\nabhs\\Anaconda3\\envs\\buan6341_2020\\lib\\site-packages\\sklearn\\ensemble\\_bagging.py:1056: UserWarning: Some inputs do not have OOB scores. This probably means too few estimators were used to compute any reliable oob estimates.\n",
      "  warn(\"Some inputs do not have OOB scores. \"\n",
      "C:\\Users\\nabhs\\Anaconda3\\envs\\buan6341_2020\\lib\\site-packages\\sklearn\\ensemble\\_bagging.py:1056: UserWarning: Some inputs do not have OOB scores. This probably means too few estimators were used to compute any reliable oob estimates.\n",
      "  warn(\"Some inputs do not have OOB scores. \"\n",
      "C:\\Users\\nabhs\\Anaconda3\\envs\\buan6341_2020\\lib\\site-packages\\sklearn\\ensemble\\_bagging.py:1056: UserWarning: Some inputs do not have OOB scores. This probably means too few estimators were used to compute any reliable oob estimates.\n",
      "  warn(\"Some inputs do not have OOB scores. \"\n",
      "C:\\Users\\nabhs\\Anaconda3\\envs\\buan6341_2020\\lib\\site-packages\\sklearn\\ensemble\\_bagging.py:1056: UserWarning: Some inputs do not have OOB scores. This probably means too few estimators were used to compute any reliable oob estimates.\n",
      "  warn(\"Some inputs do not have OOB scores. \"\n",
      "C:\\Users\\nabhs\\Anaconda3\\envs\\buan6341_2020\\lib\\site-packages\\sklearn\\ensemble\\_bagging.py:1056: UserWarning: Some inputs do not have OOB scores. This probably means too few estimators were used to compute any reliable oob estimates.\n",
      "  warn(\"Some inputs do not have OOB scores. \"\n",
      "C:\\Users\\nabhs\\Anaconda3\\envs\\buan6341_2020\\lib\\site-packages\\sklearn\\ensemble\\_bagging.py:1056: UserWarning: Some inputs do not have OOB scores. This probably means too few estimators were used to compute any reliable oob estimates.\n",
      "  warn(\"Some inputs do not have OOB scores. \"\n",
      "C:\\Users\\nabhs\\Anaconda3\\envs\\buan6341_2020\\lib\\site-packages\\sklearn\\ensemble\\_bagging.py:1056: UserWarning: Some inputs do not have OOB scores. This probably means too few estimators were used to compute any reliable oob estimates.\n",
      "  warn(\"Some inputs do not have OOB scores. \"\n",
      "C:\\Users\\nabhs\\Anaconda3\\envs\\buan6341_2020\\lib\\site-packages\\sklearn\\ensemble\\_bagging.py:1056: UserWarning: Some inputs do not have OOB scores. This probably means too few estimators were used to compute any reliable oob estimates.\n",
      "  warn(\"Some inputs do not have OOB scores. \"\n",
      "C:\\Users\\nabhs\\Anaconda3\\envs\\buan6341_2020\\lib\\site-packages\\sklearn\\ensemble\\_bagging.py:1056: UserWarning: Some inputs do not have OOB scores. This probably means too few estimators were used to compute any reliable oob estimates.\n",
      "  warn(\"Some inputs do not have OOB scores. \"\n",
      "C:\\Users\\nabhs\\Anaconda3\\envs\\buan6341_2020\\lib\\site-packages\\sklearn\\ensemble\\_bagging.py:1056: UserWarning: Some inputs do not have OOB scores. This probably means too few estimators were used to compute any reliable oob estimates.\n",
      "  warn(\"Some inputs do not have OOB scores. \"\n",
      "C:\\Users\\nabhs\\Anaconda3\\envs\\buan6341_2020\\lib\\site-packages\\sklearn\\ensemble\\_bagging.py:1056: UserWarning: Some inputs do not have OOB scores. This probably means too few estimators were used to compute any reliable oob estimates.\n",
      "  warn(\"Some inputs do not have OOB scores. \"\n",
      "C:\\Users\\nabhs\\Anaconda3\\envs\\buan6341_2020\\lib\\site-packages\\sklearn\\ensemble\\_bagging.py:1056: UserWarning: Some inputs do not have OOB scores. This probably means too few estimators were used to compute any reliable oob estimates.\n",
      "  warn(\"Some inputs do not have OOB scores. \"\n",
      "C:\\Users\\nabhs\\Anaconda3\\envs\\buan6341_2020\\lib\\site-packages\\sklearn\\ensemble\\_bagging.py:1056: UserWarning: Some inputs do not have OOB scores. This probably means too few estimators were used to compute any reliable oob estimates.\n",
      "  warn(\"Some inputs do not have OOB scores. \"\n",
      "C:\\Users\\nabhs\\Anaconda3\\envs\\buan6341_2020\\lib\\site-packages\\sklearn\\ensemble\\_bagging.py:1056: UserWarning: Some inputs do not have OOB scores. This probably means too few estimators were used to compute any reliable oob estimates.\n",
      "  warn(\"Some inputs do not have OOB scores. \"\n",
      "C:\\Users\\nabhs\\Anaconda3\\envs\\buan6341_2020\\lib\\site-packages\\sklearn\\ensemble\\_bagging.py:1056: UserWarning: Some inputs do not have OOB scores. This probably means too few estimators were used to compute any reliable oob estimates.\n",
      "  warn(\"Some inputs do not have OOB scores. \"\n",
      "C:\\Users\\nabhs\\Anaconda3\\envs\\buan6341_2020\\lib\\site-packages\\sklearn\\ensemble\\_bagging.py:1056: UserWarning: Some inputs do not have OOB scores. This probably means too few estimators were used to compute any reliable oob estimates.\n",
      "  warn(\"Some inputs do not have OOB scores. \"\n",
      "C:\\Users\\nabhs\\Anaconda3\\envs\\buan6341_2020\\lib\\site-packages\\sklearn\\ensemble\\_bagging.py:1056: UserWarning: Some inputs do not have OOB scores. This probably means too few estimators were used to compute any reliable oob estimates.\n",
      "  warn(\"Some inputs do not have OOB scores. \"\n",
      "C:\\Users\\nabhs\\Anaconda3\\envs\\buan6341_2020\\lib\\site-packages\\sklearn\\ensemble\\_bagging.py:1056: UserWarning: Some inputs do not have OOB scores. This probably means too few estimators were used to compute any reliable oob estimates.\n",
      "  warn(\"Some inputs do not have OOB scores. \"\n",
      "C:\\Users\\nabhs\\Anaconda3\\envs\\buan6341_2020\\lib\\site-packages\\sklearn\\ensemble\\_bagging.py:1056: UserWarning: Some inputs do not have OOB scores. This probably means too few estimators were used to compute any reliable oob estimates.\n",
      "  warn(\"Some inputs do not have OOB scores. \"\n",
      "C:\\Users\\nabhs\\Anaconda3\\envs\\buan6341_2020\\lib\\site-packages\\sklearn\\ensemble\\_bagging.py:1056: UserWarning: Some inputs do not have OOB scores. This probably means too few estimators were used to compute any reliable oob estimates.\n",
      "  warn(\"Some inputs do not have OOB scores. \"\n",
      "C:\\Users\\nabhs\\Anaconda3\\envs\\buan6341_2020\\lib\\site-packages\\sklearn\\ensemble\\_bagging.py:1056: UserWarning: Some inputs do not have OOB scores. This probably means too few estimators were used to compute any reliable oob estimates.\n",
      "  warn(\"Some inputs do not have OOB scores. \"\n",
      "C:\\Users\\nabhs\\Anaconda3\\envs\\buan6341_2020\\lib\\site-packages\\sklearn\\ensemble\\_bagging.py:1056: UserWarning: Some inputs do not have OOB scores. This probably means too few estimators were used to compute any reliable oob estimates.\n",
      "  warn(\"Some inputs do not have OOB scores. \"\n",
      "C:\\Users\\nabhs\\Anaconda3\\envs\\buan6341_2020\\lib\\site-packages\\sklearn\\ensemble\\_bagging.py:1056: UserWarning: Some inputs do not have OOB scores. This probably means too few estimators were used to compute any reliable oob estimates.\n",
      "  warn(\"Some inputs do not have OOB scores. \"\n",
      "C:\\Users\\nabhs\\Anaconda3\\envs\\buan6341_2020\\lib\\site-packages\\sklearn\\ensemble\\_bagging.py:1056: UserWarning: Some inputs do not have OOB scores. This probably means too few estimators were used to compute any reliable oob estimates.\n",
      "  warn(\"Some inputs do not have OOB scores. \"\n",
      "C:\\Users\\nabhs\\Anaconda3\\envs\\buan6341_2020\\lib\\site-packages\\sklearn\\ensemble\\_bagging.py:1056: UserWarning: Some inputs do not have OOB scores. This probably means too few estimators were used to compute any reliable oob estimates.\n",
      "  warn(\"Some inputs do not have OOB scores. \"\n",
      "C:\\Users\\nabhs\\Anaconda3\\envs\\buan6341_2020\\lib\\site-packages\\sklearn\\ensemble\\_bagging.py:1056: UserWarning: Some inputs do not have OOB scores. This probably means too few estimators were used to compute any reliable oob estimates.\n",
      "  warn(\"Some inputs do not have OOB scores. \"\n",
      "C:\\Users\\nabhs\\Anaconda3\\envs\\buan6341_2020\\lib\\site-packages\\sklearn\\ensemble\\_bagging.py:1056: UserWarning: Some inputs do not have OOB scores. This probably means too few estimators were used to compute any reliable oob estimates.\n",
      "  warn(\"Some inputs do not have OOB scores. \"\n",
      "C:\\Users\\nabhs\\Anaconda3\\envs\\buan6341_2020\\lib\\site-packages\\sklearn\\ensemble\\_bagging.py:1056: UserWarning: Some inputs do not have OOB scores. This probably means too few estimators were used to compute any reliable oob estimates.\n",
      "  warn(\"Some inputs do not have OOB scores. \"\n"
     ]
    },
    {
     "name": "stderr",
     "output_type": "stream",
     "text": [
      "C:\\Users\\nabhs\\Anaconda3\\envs\\buan6341_2020\\lib\\site-packages\\sklearn\\ensemble\\_bagging.py:1056: UserWarning: Some inputs do not have OOB scores. This probably means too few estimators were used to compute any reliable oob estimates.\n",
      "  warn(\"Some inputs do not have OOB scores. \"\n",
      "C:\\Users\\nabhs\\Anaconda3\\envs\\buan6341_2020\\lib\\site-packages\\sklearn\\ensemble\\_bagging.py:1056: UserWarning: Some inputs do not have OOB scores. This probably means too few estimators were used to compute any reliable oob estimates.\n",
      "  warn(\"Some inputs do not have OOB scores. \"\n",
      "C:\\Users\\nabhs\\Anaconda3\\envs\\buan6341_2020\\lib\\site-packages\\sklearn\\ensemble\\_bagging.py:1056: UserWarning: Some inputs do not have OOB scores. This probably means too few estimators were used to compute any reliable oob estimates.\n",
      "  warn(\"Some inputs do not have OOB scores. \"\n",
      "C:\\Users\\nabhs\\Anaconda3\\envs\\buan6341_2020\\lib\\site-packages\\sklearn\\ensemble\\_bagging.py:1056: UserWarning: Some inputs do not have OOB scores. This probably means too few estimators were used to compute any reliable oob estimates.\n",
      "  warn(\"Some inputs do not have OOB scores. \"\n",
      "C:\\Users\\nabhs\\Anaconda3\\envs\\buan6341_2020\\lib\\site-packages\\sklearn\\ensemble\\_bagging.py:1056: UserWarning: Some inputs do not have OOB scores. This probably means too few estimators were used to compute any reliable oob estimates.\n",
      "  warn(\"Some inputs do not have OOB scores. \"\n",
      "C:\\Users\\nabhs\\Anaconda3\\envs\\buan6341_2020\\lib\\site-packages\\sklearn\\ensemble\\_bagging.py:1056: UserWarning: Some inputs do not have OOB scores. This probably means too few estimators were used to compute any reliable oob estimates.\n",
      "  warn(\"Some inputs do not have OOB scores. \"\n",
      "C:\\Users\\nabhs\\Anaconda3\\envs\\buan6341_2020\\lib\\site-packages\\sklearn\\ensemble\\_bagging.py:1056: UserWarning: Some inputs do not have OOB scores. This probably means too few estimators were used to compute any reliable oob estimates.\n",
      "  warn(\"Some inputs do not have OOB scores. \"\n",
      "C:\\Users\\nabhs\\Anaconda3\\envs\\buan6341_2020\\lib\\site-packages\\sklearn\\ensemble\\_bagging.py:1056: UserWarning: Some inputs do not have OOB scores. This probably means too few estimators were used to compute any reliable oob estimates.\n",
      "  warn(\"Some inputs do not have OOB scores. \"\n",
      "C:\\Users\\nabhs\\Anaconda3\\envs\\buan6341_2020\\lib\\site-packages\\sklearn\\ensemble\\_bagging.py:1056: UserWarning: Some inputs do not have OOB scores. This probably means too few estimators were used to compute any reliable oob estimates.\n",
      "  warn(\"Some inputs do not have OOB scores. \"\n",
      "C:\\Users\\nabhs\\Anaconda3\\envs\\buan6341_2020\\lib\\site-packages\\sklearn\\ensemble\\_bagging.py:1056: UserWarning: Some inputs do not have OOB scores. This probably means too few estimators were used to compute any reliable oob estimates.\n",
      "  warn(\"Some inputs do not have OOB scores. \"\n",
      "C:\\Users\\nabhs\\Anaconda3\\envs\\buan6341_2020\\lib\\site-packages\\sklearn\\ensemble\\_bagging.py:1056: UserWarning: Some inputs do not have OOB scores. This probably means too few estimators were used to compute any reliable oob estimates.\n",
      "  warn(\"Some inputs do not have OOB scores. \"\n",
      "C:\\Users\\nabhs\\Anaconda3\\envs\\buan6341_2020\\lib\\site-packages\\sklearn\\ensemble\\_bagging.py:1056: UserWarning: Some inputs do not have OOB scores. This probably means too few estimators were used to compute any reliable oob estimates.\n",
      "  warn(\"Some inputs do not have OOB scores. \"\n",
      "C:\\Users\\nabhs\\Anaconda3\\envs\\buan6341_2020\\lib\\site-packages\\sklearn\\ensemble\\_bagging.py:1056: UserWarning: Some inputs do not have OOB scores. This probably means too few estimators were used to compute any reliable oob estimates.\n",
      "  warn(\"Some inputs do not have OOB scores. \"\n",
      "C:\\Users\\nabhs\\Anaconda3\\envs\\buan6341_2020\\lib\\site-packages\\sklearn\\ensemble\\_bagging.py:1056: UserWarning: Some inputs do not have OOB scores. This probably means too few estimators were used to compute any reliable oob estimates.\n",
      "  warn(\"Some inputs do not have OOB scores. \"\n",
      "C:\\Users\\nabhs\\Anaconda3\\envs\\buan6341_2020\\lib\\site-packages\\sklearn\\ensemble\\_bagging.py:1056: UserWarning: Some inputs do not have OOB scores. This probably means too few estimators were used to compute any reliable oob estimates.\n",
      "  warn(\"Some inputs do not have OOB scores. \"\n",
      "C:\\Users\\nabhs\\Anaconda3\\envs\\buan6341_2020\\lib\\site-packages\\sklearn\\ensemble\\_bagging.py:1056: UserWarning: Some inputs do not have OOB scores. This probably means too few estimators were used to compute any reliable oob estimates.\n",
      "  warn(\"Some inputs do not have OOB scores. \"\n",
      "C:\\Users\\nabhs\\Anaconda3\\envs\\buan6341_2020\\lib\\site-packages\\sklearn\\ensemble\\_bagging.py:1056: UserWarning: Some inputs do not have OOB scores. This probably means too few estimators were used to compute any reliable oob estimates.\n",
      "  warn(\"Some inputs do not have OOB scores. \"\n",
      "C:\\Users\\nabhs\\Anaconda3\\envs\\buan6341_2020\\lib\\site-packages\\sklearn\\ensemble\\_bagging.py:1056: UserWarning: Some inputs do not have OOB scores. This probably means too few estimators were used to compute any reliable oob estimates.\n",
      "  warn(\"Some inputs do not have OOB scores. \"\n",
      "C:\\Users\\nabhs\\Anaconda3\\envs\\buan6341_2020\\lib\\site-packages\\sklearn\\ensemble\\_bagging.py:1056: UserWarning: Some inputs do not have OOB scores. This probably means too few estimators were used to compute any reliable oob estimates.\n",
      "  warn(\"Some inputs do not have OOB scores. \"\n",
      "C:\\Users\\nabhs\\Anaconda3\\envs\\buan6341_2020\\lib\\site-packages\\sklearn\\ensemble\\_bagging.py:1056: UserWarning: Some inputs do not have OOB scores. This probably means too few estimators were used to compute any reliable oob estimates.\n",
      "  warn(\"Some inputs do not have OOB scores. \"\n"
     ]
    },
    {
     "data": {
      "text/plain": [
       "GridSearchCV(cv=5, error_score=nan,\n",
       "             estimator=BaggingRegressor(base_estimator=DecisionTreeRegressor(ccp_alpha=0.0,\n",
       "                                                                             criterion='mse',\n",
       "                                                                             max_depth=None,\n",
       "                                                                             max_features=None,\n",
       "                                                                             max_leaf_nodes=None,\n",
       "                                                                             min_impurity_decrease=0.0,\n",
       "                                                                             min_impurity_split=None,\n",
       "                                                                             min_samples_leaf=1,\n",
       "                                                                             min_samples_split=2,\n",
       "                                                                             min_weight_fraction_leaf=0.0,\n",
       "                                                                             presort='deprecated',\n",
       "                                                                             random_state=None,\n",
       "                                                                             splitter='be...\n",
       "                                        bootstrap_features=False,\n",
       "                                        max_features=1.0, max_samples=1.0,\n",
       "                                        n_estimators=10, n_jobs=None,\n",
       "                                        oob_score=True, random_state=0,\n",
       "                                        verbose=0, warm_start=False),\n",
       "             iid='deprecated', n_jobs=None,\n",
       "             param_grid={'base_estimator__max_depth': range(1, 10),\n",
       "                         'max_samples': [0.8, 1],\n",
       "                         'n_estimators': range(1, 80, 5)},\n",
       "             pre_dispatch='2*n_jobs', refit=True, return_train_score=True,\n",
       "             scoring=None, verbose=0)"
      ]
     },
     "execution_count": 67,
     "metadata": {},
     "output_type": "execute_result"
    }
   ],
   "source": [
    "bag_dtree1 = BaggingRegressor(base_estimator=DecisionTreeRegressor(), bootstrap=True, random_state=0, oob_score=True)\n",
    "\n",
    "bag_dtree1_param = {\n",
    "                 'base_estimator__max_depth': range(1,10),\n",
    "                 'max_samples':  [0.8,1],\n",
    "                 'n_estimators': range(1,80,5)}\n",
    "bag_dtree1_grid = GridSearchCV(bag_dtree1, bag_dtree1_param,cv=5, return_train_score=True)\n",
    "bag_dtree1_grid.fit(X_train,y_train)"
   ]
  },
  {
   "cell_type": "markdown",
   "metadata": {},
   "source": [
    "#### Results"
   ]
  },
  {
   "cell_type": "code",
   "execution_count": 68,
   "metadata": {
    "ExecuteTime": {
     "end_time": "2020-04-13T05:38:15.175093Z",
     "start_time": "2020-04-13T05:38:15.151160Z"
    }
   },
   "outputs": [
    {
     "name": "stdout",
     "output_type": "stream",
     "text": [
      "train mse: 238564809.90829495\n",
      "train rmse: 15445.543367207738\n",
      "train r2: 0.9617919228729973\n",
      "\n",
      "test mse: 982627004.5486312\n",
      "test rmse: 31346.881895152364\n",
      "test r2: 0.8570124388836232\n",
      "\n",
      "Best Mean Cross Validation Score is 0.8701118447613622\n",
      "Best parameters {'base_estimator__max_depth': 9, 'max_samples': 0.8, 'n_estimators': 61}\n",
      "Train score is 0.9617919228729972\n",
      "Test score is 0.8570124388836233\n"
     ]
    }
   ],
   "source": [
    "# let's get the predictions\n",
    "x_bagtree_train= bag_dtree1_grid.predict(X_train)\n",
    "x_bagtree_test = bag_dtree1_grid.predict(X_test)\n",
    "\n",
    "# check model performance:\n",
    "\n",
    "print('train mse: {}'.format(mean_squared_error(y_train, x_bagtree_train)))\n",
    "print('train rmse: {}'.format(sqrt(mean_squared_error(y_train, x_bagtree_train))))\n",
    "print('train r2: {}'.format(r2_score(y_train, x_bagtree_train)))\n",
    "print()\n",
    "print('test mse: {}'.format(mean_squared_error(y_test, x_bagtree_test)))\n",
    "print('test rmse: {}'.format(sqrt(mean_squared_error(y_test, x_bagtree_test))))\n",
    "print('test r2: {}'.format(r2_score(y_test, x_bagtree_test)))\n",
    "print()\n",
    "print(f'Best Mean Cross Validation Score is {bag_dtree1_grid.best_score_}')\n",
    "print(f'Best parameters {bag_dtree1_grid.best_params_}')\n",
    "print(f'Train score is {bag_dtree1_grid.score(X_train,y_train)}')\n",
    "print(f'Test score is {bag_dtree1_grid.score(X_test,y_test)}')"
   ]
  },
  {
   "cell_type": "markdown",
   "metadata": {},
   "source": [
    "### With HW2 Best Model - Lasso"
   ]
  },
  {
   "cell_type": "code",
   "execution_count": 69,
   "metadata": {},
   "outputs": [],
   "source": [
    "from sklearn.linear_model import LinearRegression\n",
    "from sklearn.linear_model import Lasso"
   ]
  },
  {
   "cell_type": "code",
   "execution_count": 70,
   "metadata": {
    "scrolled": true
   },
   "outputs": [
    {
     "name": "stderr",
     "output_type": "stream",
     "text": [
      "C:\\Users\\nabhs\\Anaconda3\\envs\\buan6341_2020\\lib\\site-packages\\sklearn\\ensemble\\_bagging.py:1056: UserWarning: Some inputs do not have OOB scores. This probably means too few estimators were used to compute any reliable oob estimates.\n",
      "  warn(\"Some inputs do not have OOB scores. \"\n",
      "C:\\Users\\nabhs\\Anaconda3\\envs\\buan6341_2020\\lib\\site-packages\\sklearn\\ensemble\\_bagging.py:1056: UserWarning: Some inputs do not have OOB scores. This probably means too few estimators were used to compute any reliable oob estimates.\n",
      "  warn(\"Some inputs do not have OOB scores. \"\n",
      "C:\\Users\\nabhs\\Anaconda3\\envs\\buan6341_2020\\lib\\site-packages\\sklearn\\ensemble\\_bagging.py:1056: UserWarning: Some inputs do not have OOB scores. This probably means too few estimators were used to compute any reliable oob estimates.\n",
      "  warn(\"Some inputs do not have OOB scores. \"\n",
      "C:\\Users\\nabhs\\Anaconda3\\envs\\buan6341_2020\\lib\\site-packages\\sklearn\\ensemble\\_bagging.py:1056: UserWarning: Some inputs do not have OOB scores. This probably means too few estimators were used to compute any reliable oob estimates.\n",
      "  warn(\"Some inputs do not have OOB scores. \"\n",
      "C:\\Users\\nabhs\\Anaconda3\\envs\\buan6341_2020\\lib\\site-packages\\sklearn\\ensemble\\_bagging.py:1056: UserWarning: Some inputs do not have OOB scores. This probably means too few estimators were used to compute any reliable oob estimates.\n",
      "  warn(\"Some inputs do not have OOB scores. \"\n",
      "C:\\Users\\nabhs\\Anaconda3\\envs\\buan6341_2020\\lib\\site-packages\\sklearn\\ensemble\\_bagging.py:1056: UserWarning: Some inputs do not have OOB scores. This probably means too few estimators were used to compute any reliable oob estimates.\n",
      "  warn(\"Some inputs do not have OOB scores. \"\n",
      "C:\\Users\\nabhs\\Anaconda3\\envs\\buan6341_2020\\lib\\site-packages\\sklearn\\ensemble\\_bagging.py:1056: UserWarning: Some inputs do not have OOB scores. This probably means too few estimators were used to compute any reliable oob estimates.\n",
      "  warn(\"Some inputs do not have OOB scores. \"\n",
      "C:\\Users\\nabhs\\Anaconda3\\envs\\buan6341_2020\\lib\\site-packages\\sklearn\\ensemble\\_bagging.py:1056: UserWarning: Some inputs do not have OOB scores. This probably means too few estimators were used to compute any reliable oob estimates.\n",
      "  warn(\"Some inputs do not have OOB scores. \"\n",
      "C:\\Users\\nabhs\\Anaconda3\\envs\\buan6341_2020\\lib\\site-packages\\sklearn\\ensemble\\_bagging.py:1056: UserWarning: Some inputs do not have OOB scores. This probably means too few estimators were used to compute any reliable oob estimates.\n",
      "  warn(\"Some inputs do not have OOB scores. \"\n",
      "C:\\Users\\nabhs\\Anaconda3\\envs\\buan6341_2020\\lib\\site-packages\\sklearn\\ensemble\\_bagging.py:1056: UserWarning: Some inputs do not have OOB scores. This probably means too few estimators were used to compute any reliable oob estimates.\n",
      "  warn(\"Some inputs do not have OOB scores. \"\n",
      "C:\\Users\\nabhs\\Anaconda3\\envs\\buan6341_2020\\lib\\site-packages\\sklearn\\ensemble\\_bagging.py:1056: UserWarning: Some inputs do not have OOB scores. This probably means too few estimators were used to compute any reliable oob estimates.\n",
      "  warn(\"Some inputs do not have OOB scores. \"\n",
      "C:\\Users\\nabhs\\Anaconda3\\envs\\buan6341_2020\\lib\\site-packages\\sklearn\\ensemble\\_bagging.py:1056: UserWarning: Some inputs do not have OOB scores. This probably means too few estimators were used to compute any reliable oob estimates.\n",
      "  warn(\"Some inputs do not have OOB scores. \"\n",
      "C:\\Users\\nabhs\\Anaconda3\\envs\\buan6341_2020\\lib\\site-packages\\sklearn\\ensemble\\_bagging.py:1056: UserWarning: Some inputs do not have OOB scores. This probably means too few estimators were used to compute any reliable oob estimates.\n",
      "  warn(\"Some inputs do not have OOB scores. \"\n",
      "C:\\Users\\nabhs\\Anaconda3\\envs\\buan6341_2020\\lib\\site-packages\\sklearn\\ensemble\\_bagging.py:1056: UserWarning: Some inputs do not have OOB scores. This probably means too few estimators were used to compute any reliable oob estimates.\n",
      "  warn(\"Some inputs do not have OOB scores. \"\n",
      "C:\\Users\\nabhs\\Anaconda3\\envs\\buan6341_2020\\lib\\site-packages\\sklearn\\ensemble\\_bagging.py:1056: UserWarning: Some inputs do not have OOB scores. This probably means too few estimators were used to compute any reliable oob estimates.\n",
      "  warn(\"Some inputs do not have OOB scores. \"\n",
      "C:\\Users\\nabhs\\Anaconda3\\envs\\buan6341_2020\\lib\\site-packages\\sklearn\\ensemble\\_bagging.py:1056: UserWarning: Some inputs do not have OOB scores. This probably means too few estimators were used to compute any reliable oob estimates.\n",
      "  warn(\"Some inputs do not have OOB scores. \"\n"
     ]
    },
    {
     "data": {
      "text/plain": [
       "GridSearchCV(cv=5, error_score=nan,\n",
       "             estimator=BaggingRegressor(base_estimator=Lasso(alpha=1.0,\n",
       "                                                             copy_X=True,\n",
       "                                                             fit_intercept=True,\n",
       "                                                             max_iter=1000,\n",
       "                                                             normalize=False,\n",
       "                                                             positive=False,\n",
       "                                                             precompute=False,\n",
       "                                                             random_state=None,\n",
       "                                                             selection='cyclic',\n",
       "                                                             tol=0.0001,\n",
       "                                                             warm_start=False),\n",
       "                                        bootstrap=True,\n",
       "                                        bootstrap_features=False,\n",
       "                                        max_features=1.0, max_samples=1.0,\n",
       "                                        n_estimators=10, n_jobs=None,\n",
       "                                        oob_score=True, random_state=0,\n",
       "                                        verbose=0, warm_start=False),\n",
       "             iid='deprecated', n_jobs=None,\n",
       "             param_grid={'base_estimator__alpha': [1, 10000.0, 100000.0]},\n",
       "             pre_dispatch='2*n_jobs', refit=True, return_train_score=True,\n",
       "             scoring=None, verbose=0)"
      ]
     },
     "execution_count": 70,
     "metadata": {},
     "output_type": "execute_result"
    }
   ],
   "source": [
    "bag_lasso = BaggingRegressor(base_estimator=Lasso(), bootstrap=True, random_state=0, oob_score=True)\n",
    "\n",
    "bag_lasso_param = {'base_estimator__alpha': [1, 1e4, 1e5]}\n",
    "\n",
    "bag_lasso_grid = GridSearchCV(bag_lasso, bag_lasso_param,cv=5, return_train_score=True)\n",
    "bag_lasso_grid.fit(X_train,y_train)"
   ]
  },
  {
   "cell_type": "markdown",
   "metadata": {},
   "source": [
    "#### Results"
   ]
  },
  {
   "cell_type": "code",
   "execution_count": 71,
   "metadata": {},
   "outputs": [
    {
     "name": "stdout",
     "output_type": "stream",
     "text": [
      "train mse: 565445909.6571118\n",
      "train rmse: 23779.106578194056\n",
      "train r2: 0.9094392801032474\n",
      "\n",
      "test mse: 853696103.4052668\n",
      "test rmse: 29218.07836606074\n",
      "test r2: 0.8757738967121659\n",
      "\n",
      "Best Mean Cross Validation Score is 0.8849435910242107\n",
      "Best parameters {'base_estimator__alpha': 1}\n",
      "Train score is 0.9094392801032474\n",
      "Test score is 0.8757738967121659\n"
     ]
    }
   ],
   "source": [
    "# let's get the predictions\n",
    "x_baglasso_train= bag_lasso_grid.predict(X_train)\n",
    "x_baglasso_test = bag_lasso_grid.predict(X_test)\n",
    "\n",
    "# check model performance:\n",
    "\n",
    "print('train mse: {}'.format(mean_squared_error(y_train, x_baglasso_train)))\n",
    "print('train rmse: {}'.format(sqrt(mean_squared_error(y_train, x_baglasso_train))))\n",
    "print('train r2: {}'.format(r2_score(y_train, x_baglasso_train)))\n",
    "print()\n",
    "print('test mse: {}'.format(mean_squared_error(y_test, x_baglasso_test)))\n",
    "print('test rmse: {}'.format(sqrt(mean_squared_error(y_test, x_baglasso_test))))\n",
    "print('test r2: {}'.format(r2_score(y_test, x_baglasso_test)))\n",
    "print()\n",
    "print(f'Best Mean Cross Validation Score is {bag_lasso_grid.best_score_}')\n",
    "print(f'Best parameters {bag_lasso_grid.best_params_}')\n",
    "print(f'Train score is {bag_lasso_grid.score(X_train,y_train)}')\n",
    "print(f'Test score is {bag_lasso_grid.score(X_test,y_test)}')"
   ]
  },
  {
   "cell_type": "markdown",
   "metadata": {},
   "source": [
    "## Pasting"
   ]
  },
  {
   "cell_type": "markdown",
   "metadata": {},
   "source": [
    "### With Decision Tree Regressor"
   ]
  },
  {
   "cell_type": "code",
   "execution_count": 72,
   "metadata": {},
   "outputs": [
    {
     "data": {
      "text/plain": [
       "GridSearchCV(cv=5, error_score=nan,\n",
       "             estimator=BaggingRegressor(base_estimator=DecisionTreeRegressor(ccp_alpha=0.0,\n",
       "                                                                             criterion='mse',\n",
       "                                                                             max_depth=None,\n",
       "                                                                             max_features=None,\n",
       "                                                                             max_leaf_nodes=None,\n",
       "                                                                             min_impurity_decrease=0.0,\n",
       "                                                                             min_impurity_split=None,\n",
       "                                                                             min_samples_leaf=1,\n",
       "                                                                             min_samples_split=2,\n",
       "                                                                             min_weight_fraction_leaf=0.0,\n",
       "                                                                             presort='deprecated',\n",
       "                                                                             random_state=None,\n",
       "                                                                             splitter='be...\n",
       "                                        bootstrap_features=False,\n",
       "                                        max_features=1.0, max_samples=1.0,\n",
       "                                        n_estimators=10, n_jobs=None,\n",
       "                                        oob_score=False, random_state=0,\n",
       "                                        verbose=0, warm_start=False),\n",
       "             iid='deprecated', n_jobs=None,\n",
       "             param_grid={'base_estimator__max_depth': range(1, 10),\n",
       "                         'max_samples': [0.8, 1],\n",
       "                         'n_estimators': range(1, 80, 5)},\n",
       "             pre_dispatch='2*n_jobs', refit=True, return_train_score=True,\n",
       "             scoring=None, verbose=0)"
      ]
     },
     "execution_count": 72,
     "metadata": {},
     "output_type": "execute_result"
    }
   ],
   "source": [
    "paste_dtree1 = BaggingRegressor(base_estimator=DecisionTreeRegressor(), bootstrap=False, random_state=0, oob_score=False)\n",
    "\n",
    "paste_dtree1_param = {\n",
    "                 'base_estimator__max_depth': range(1,10),\n",
    "                 'max_samples':  [0.8,1],\n",
    "                 'n_estimators': range(1,80,5)}\n",
    "paste_dtree1_grid = GridSearchCV(paste_dtree1, paste_dtree1_param,cv=5, return_train_score=True)\n",
    "paste_dtree1_grid.fit(X_train,y_train)"
   ]
  },
  {
   "cell_type": "markdown",
   "metadata": {},
   "source": [
    "#### Results"
   ]
  },
  {
   "cell_type": "code",
   "execution_count": 73,
   "metadata": {},
   "outputs": [
    {
     "name": "stdout",
     "output_type": "stream",
     "text": [
      "train mse: 151317451.74681643\n",
      "train rmse: 12301.115874050469\n",
      "train r2: 0.9757652904918109\n",
      "\n",
      "test mse: 954334002.3152863\n",
      "test rmse: 30892.296811912292\n",
      "test r2: 0.8611295121650201\n",
      "\n",
      "Best Mean Cross Validation Score is 0.8572589293630738\n",
      "Best parameters {'base_estimator__max_depth': 9, 'max_samples': 0.8, 'n_estimators': 36}\n",
      "Train score is 0.9757652904918109\n",
      "Test score is 0.8611295121650201\n"
     ]
    }
   ],
   "source": [
    "# let's get the predictions\n",
    "x_pastetree_train= paste_dtree1_grid.predict(X_train)\n",
    "x_pastetree_test = paste_dtree1_grid.predict(X_test)\n",
    "\n",
    "# check model performance:\n",
    "\n",
    "print('train mse: {}'.format(mean_squared_error(y_train, x_pastetree_train)))\n",
    "print('train rmse: {}'.format(sqrt(mean_squared_error(y_train, x_pastetree_train))))\n",
    "print('train r2: {}'.format(r2_score(y_train, x_pastetree_train)))\n",
    "print()\n",
    "print('test mse: {}'.format(mean_squared_error(y_test, x_pastetree_test)))\n",
    "print('test rmse: {}'.format(sqrt(mean_squared_error(y_test, x_pastetree_test))))\n",
    "print('test r2: {}'.format(r2_score(y_test, x_pastetree_test)))\n",
    "print()\n",
    "print(f'Best Mean Cross Validation Score is {paste_dtree1_grid.best_score_}')\n",
    "print(f'Best parameters {paste_dtree1_grid.best_params_}')\n",
    "print(f'Train score is {paste_dtree1_grid.score(X_train,y_train)}')\n",
    "print(f'Test score is {paste_dtree1_grid.score(X_test,y_test)}')"
   ]
  },
  {
   "cell_type": "markdown",
   "metadata": {},
   "source": [
    "### With HW 2 Best Model - Lasso"
   ]
  },
  {
   "cell_type": "code",
   "execution_count": 74,
   "metadata": {},
   "outputs": [
    {
     "data": {
      "text/plain": [
       "GridSearchCV(cv=5, error_score=nan,\n",
       "             estimator=BaggingRegressor(base_estimator=Lasso(alpha=1.0,\n",
       "                                                             copy_X=True,\n",
       "                                                             fit_intercept=True,\n",
       "                                                             max_iter=1000,\n",
       "                                                             normalize=False,\n",
       "                                                             positive=False,\n",
       "                                                             precompute=False,\n",
       "                                                             random_state=None,\n",
       "                                                             selection='cyclic',\n",
       "                                                             tol=0.0001,\n",
       "                                                             warm_start=False),\n",
       "                                        bootstrap=False,\n",
       "                                        bootstrap_features=False,\n",
       "                                        max_features=1.0, max_samples=1.0,\n",
       "                                        n_estimators=10, n_jobs=None,\n",
       "                                        oob_score=False, random_state=0,\n",
       "                                        verbose=0, warm_start=False),\n",
       "             iid='deprecated', n_jobs=None,\n",
       "             param_grid={'base_estimator__alpha': [1, 10000.0, 100000.0]},\n",
       "             pre_dispatch='2*n_jobs', refit=True, return_train_score=True,\n",
       "             scoring=None, verbose=0)"
      ]
     },
     "execution_count": 74,
     "metadata": {},
     "output_type": "execute_result"
    }
   ],
   "source": [
    "paste_lasso = BaggingRegressor(base_estimator=Lasso(), bootstrap=False, random_state=0, oob_score=False)\n",
    "\n",
    "paste_dtree2_param = {'base_estimator__alpha': [1, 1e4, 1e5]}\n",
    "\n",
    "paste_lasso_grid = GridSearchCV(paste_lasso, paste_dtree2_param,cv=5, return_train_score=True)\n",
    "paste_lasso_grid.fit(X_train,y_train)"
   ]
  },
  {
   "cell_type": "markdown",
   "metadata": {},
   "source": [
    "#### Results"
   ]
  },
  {
   "cell_type": "code",
   "execution_count": 75,
   "metadata": {},
   "outputs": [
    {
     "name": "stdout",
     "output_type": "stream",
     "text": [
      "train mse: 552539222.3512007\n",
      "train rmse: 23506.15286156373\n",
      "train r2: 0.9115063901025299\n",
      "\n",
      "test mse: 857849072.1153542\n",
      "test rmse: 29289.0606219345\n",
      "test r2: 0.87516957496597\n",
      "\n",
      "Best Mean Cross Validation Score is 0.881849542095595\n",
      "Best parameters {'base_estimator__alpha': 1}\n",
      "Train score is 0.9115063901025299\n",
      "Test score is 0.87516957496597\n"
     ]
    }
   ],
   "source": [
    "# let's get the predictions\n",
    "x_pastelasso_train= paste_lasso_grid.predict(X_train)\n",
    "x_pastelasso_test = paste_lasso_grid.predict(X_test)\n",
    "\n",
    "# check model performance:\n",
    "\n",
    "print('train mse: {}'.format(mean_squared_error(y_train, x_pastelasso_train)))\n",
    "print('train rmse: {}'.format(sqrt(mean_squared_error(y_train, x_pastelasso_train))))\n",
    "print('train r2: {}'.format(r2_score(y_train, x_pastelasso_train)))\n",
    "print()\n",
    "print('test mse: {}'.format(mean_squared_error(y_test, x_pastelasso_test)))\n",
    "print('test rmse: {}'.format(sqrt(mean_squared_error(y_test, x_pastelasso_test))))\n",
    "print('test r2: {}'.format(r2_score(y_test, x_pastelasso_test)))\n",
    "print()\n",
    "print(f'Best Mean Cross Validation Score is {paste_lasso_grid.best_score_}')\n",
    "print(f'Best parameters {paste_lasso_grid.best_params_}')\n",
    "print(f'Train score is {paste_lasso_grid.score(X_train,y_train)}')\n",
    "print(f'Test score is {paste_lasso_grid.score(X_test,y_test)}')"
   ]
  },
  {
   "cell_type": "markdown",
   "metadata": {},
   "source": [
    "## Random Forest"
   ]
  },
  {
   "cell_type": "code",
   "execution_count": 76,
   "metadata": {},
   "outputs": [],
   "source": [
    "from sklearn.ensemble import RandomForestRegressor"
   ]
  },
  {
   "cell_type": "code",
   "execution_count": 77,
   "metadata": {},
   "outputs": [
    {
     "data": {
      "text/plain": [
       "GridSearchCV(cv=5, error_score=nan,\n",
       "             estimator=RandomForestRegressor(bootstrap=True, ccp_alpha=0.0,\n",
       "                                             criterion='mse', max_depth=None,\n",
       "                                             max_features='auto',\n",
       "                                             max_leaf_nodes=None,\n",
       "                                             max_samples=None,\n",
       "                                             min_impurity_decrease=0.0,\n",
       "                                             min_impurity_split=None,\n",
       "                                             min_samples_leaf=1,\n",
       "                                             min_samples_split=2,\n",
       "                                             min_weight_fraction_leaf=0.0,\n",
       "                                             n_estimators=100, n_jobs=None,\n",
       "                                             oob_score=False, random_state=42,\n",
       "                                             verbose=0, warm_start=False),\n",
       "             iid='deprecated', n_jobs=None,\n",
       "             param_grid={'max_depth': range(1, 20, 2),\n",
       "                         'max_features': ['auto', 'sqrt', 'log2'],\n",
       "                         'n_estimators': range(1, 300, 10)},\n",
       "             pre_dispatch='2*n_jobs', refit=True, return_train_score=True,\n",
       "             scoring=None, verbose=0)"
      ]
     },
     "execution_count": 77,
     "metadata": {},
     "output_type": "execute_result"
    }
   ],
   "source": [
    "rf =RandomForestRegressor(random_state=42)\n",
    "rf_param = { \n",
    "    'n_estimators': range(1,300,10),#[200, 500],\n",
    "    'max_features': ['auto', 'sqrt', 'log2'],\n",
    "    'max_depth' : range(1,20,2)#[2,4,5,6,7,8],\n",
    "}\n",
    "\n",
    "rf_grid = GridSearchCV(rf, rf_param,cv=5, return_train_score=True)\n",
    "rf_grid.fit(X_train,y_train)"
   ]
  },
  {
   "cell_type": "markdown",
   "metadata": {},
   "source": [
    "### Results"
   ]
  },
  {
   "cell_type": "code",
   "execution_count": 78,
   "metadata": {},
   "outputs": [
    {
     "name": "stdout",
     "output_type": "stream",
     "text": [
      "train mse: 122538951.61327057\n",
      "train rmse: 11069.731325252233\n",
      "train r2: 0.9803743992414402\n",
      "\n",
      "test mse: 932265620.8565763\n",
      "test rmse: 30533.025085251156\n",
      "test r2: 0.8643408060007887\n",
      "\n",
      "Best Mean Cross Validation Score is 0.8767927179403199\n",
      "Best parameters {'max_depth': 13, 'max_features': 'sqrt', 'n_estimators': 291}\n",
      "Train score is 0.9803743992414402\n",
      "Test score is 0.8643408060007887\n"
     ]
    }
   ],
   "source": [
    "# let's get the predictions\n",
    "x_rfgrid_train= rf_grid.predict(X_train)\n",
    "x_rfgrid_test = rf_grid.predict(X_test)\n",
    "\n",
    "# check model performance:\n",
    "\n",
    "print('train mse: {}'.format(mean_squared_error(y_train, x_rfgrid_train)))\n",
    "print('train rmse: {}'.format(sqrt(mean_squared_error(y_train, x_rfgrid_train))))\n",
    "print('train r2: {}'.format(r2_score(y_train, x_rfgrid_train)))\n",
    "print()\n",
    "print('test mse: {}'.format(mean_squared_error(y_test, x_rfgrid_test)))\n",
    "print('test rmse: {}'.format(sqrt(mean_squared_error(y_test, x_rfgrid_test))))\n",
    "print('test r2: {}'.format(r2_score(y_test, x_rfgrid_test)))\n",
    "print()\n",
    "print(f'Best Mean Cross Validation Score is {rf_grid.best_score_}')\n",
    "print(f'Best parameters {rf_grid.best_params_}')\n",
    "print(f'Train score is {rf_grid.score(X_train,y_train)}')\n",
    "print(f'Test score is {rf_grid.score(X_test,y_test)}')"
   ]
  },
  {
   "cell_type": "markdown",
   "metadata": {},
   "source": [
    "## Adaboost Regressor"
   ]
  },
  {
   "cell_type": "code",
   "execution_count": 79,
   "metadata": {},
   "outputs": [],
   "source": [
    "from sklearn.ensemble import AdaBoostRegressor"
   ]
  },
  {
   "cell_type": "code",
   "execution_count": 80,
   "metadata": {},
   "outputs": [
    {
     "data": {
      "text/plain": [
       "GridSearchCV(cv=5, error_score=nan,\n",
       "             estimator=AdaBoostRegressor(base_estimator=DecisionTreeRegressor(ccp_alpha=0.0,\n",
       "                                                                              criterion='mse',\n",
       "                                                                              max_depth=None,\n",
       "                                                                              max_features=None,\n",
       "                                                                              max_leaf_nodes=None,\n",
       "                                                                              min_impurity_decrease=0.0,\n",
       "                                                                              min_impurity_split=None,\n",
       "                                                                              min_samples_leaf=1,\n",
       "                                                                              min_samples_split=2,\n",
       "                                                                              min_weight_fraction_leaf=0.0,\n",
       "                                                                              presort='deprecated',\n",
       "                                                                              random_state=None,\n",
       "                                                                              splitter='best'),\n",
       "                                         learning_rate=1.0, loss='linear',\n",
       "                                         n_estimators=50, random_state=42),\n",
       "             iid='deprecated', n_jobs=None,\n",
       "             param_grid={'base_estimator__max_depth': range(1, 20, 2),\n",
       "                         'loss': ['linear', 'square', 'exponential'],\n",
       "                         'n_estimators': range(1, 300, 10)},\n",
       "             pre_dispatch='2*n_jobs', refit=True, return_train_score=True,\n",
       "             scoring=None, verbose=0)"
      ]
     },
     "execution_count": 80,
     "metadata": {},
     "output_type": "execute_result"
    }
   ],
   "source": [
    "ada =AdaBoostRegressor(base_estimator=DecisionTreeRegressor(),random_state=42,learning_rate=1.0)\n",
    "ada_param = { \n",
    "    'base_estimator__max_depth':range(1,20,2),\n",
    "    'n_estimators': range(1,300,10),\n",
    "    'loss':['linear', 'square', 'exponential']\n",
    "}\n",
    "\n",
    "ada_grid = GridSearchCV(ada, ada_param,cv=5, return_train_score=True)\n",
    "ada_grid.fit(X_train,y_train)"
   ]
  },
  {
   "cell_type": "markdown",
   "metadata": {},
   "source": [
    "### Results"
   ]
  },
  {
   "cell_type": "code",
   "execution_count": 81,
   "metadata": {},
   "outputs": [
    {
     "name": "stdout",
     "output_type": "stream",
     "text": [
      "train mse: 59039229.255843244\n",
      "train rmse: 7683.698930583059\n",
      "train r2: 0.9905443915815029\n",
      "\n",
      "test mse: 888472231.5703418\n",
      "test rmse: 29807.251325312467\n",
      "test r2: 0.8707134274513209\n",
      "\n",
      "Best Mean Cross Validation Score is 0.8819499238825339\n",
      "Best parameters {'base_estimator__max_depth': 17, 'loss': 'square', 'n_estimators': 291}\n",
      "Train score is 0.9905443915815029\n",
      "Test score is 0.8707134274513209\n"
     ]
    }
   ],
   "source": [
    "# let's get the predictions\n",
    "x_adagrid_train= ada_grid.predict(X_train)\n",
    "x_adagrid_test = ada_grid.predict(X_test)\n",
    "\n",
    "# check model performance:\n",
    "\n",
    "print('train mse: {}'.format(mean_squared_error(y_train, x_adagrid_train)))\n",
    "print('train rmse: {}'.format(sqrt(mean_squared_error(y_train, x_adagrid_train))))\n",
    "print('train r2: {}'.format(r2_score(y_train, x_adagrid_train)))\n",
    "print()\n",
    "print('test mse: {}'.format(mean_squared_error(y_test, x_adagrid_test)))\n",
    "print('test rmse: {}'.format(sqrt(mean_squared_error(y_test, x_adagrid_test))))\n",
    "print('test r2: {}'.format(r2_score(y_test, x_adagrid_test)))\n",
    "print()\n",
    "print(f'Best Mean Cross Validation Score is {ada_grid.best_score_}')\n",
    "print(f'Best parameters {ada_grid.best_params_}')\n",
    "print(f'Train score is {ada_grid.score(X_train,y_train)}')\n",
    "print(f'Test score is {ada_grid.score(X_test,y_test)}')"
   ]
  },
  {
   "cell_type": "markdown",
   "metadata": {},
   "source": [
    "## Gradient Boost Regressor"
   ]
  },
  {
   "cell_type": "code",
   "execution_count": 82,
   "metadata": {},
   "outputs": [],
   "source": [
    "from sklearn.ensemble import GradientBoostingRegressor"
   ]
  },
  {
   "cell_type": "code",
   "execution_count": 83,
   "metadata": {},
   "outputs": [
    {
     "data": {
      "text/plain": [
       "GridSearchCV(cv=5, error_score=nan,\n",
       "             estimator=GradientBoostingRegressor(alpha=0.9, ccp_alpha=0.0,\n",
       "                                                 criterion='friedman_mse',\n",
       "                                                 init=None, learning_rate=0.1,\n",
       "                                                 loss='ls', max_depth=3,\n",
       "                                                 max_features=None,\n",
       "                                                 max_leaf_nodes=None,\n",
       "                                                 min_impurity_decrease=0.0,\n",
       "                                                 min_impurity_split=None,\n",
       "                                                 min_samples_leaf=1,\n",
       "                                                 min_samples_split=2,\n",
       "                                                 min_weight_fraction_leaf=0.0,\n",
       "                                                 n_estimators=100,\n",
       "                                                 n_iter_n...\n",
       "                                                 presort='deprecated',\n",
       "                                                 random_state=10, subsample=1,\n",
       "                                                 tol=0.0001,\n",
       "                                                 validation_fraction=0.1,\n",
       "                                                 verbose=0, warm_start=False),\n",
       "             iid='deprecated', n_jobs=-1,\n",
       "             param_grid={'loss': ['ls', 'lad', 'huber', 'quantile'],\n",
       "                         'max_depth': range(1, 12),\n",
       "                         'max_features': ['auto', 'sqrt', 'log2'],\n",
       "                         'n_estimators': range(45, 60, 5)},\n",
       "             pre_dispatch='2*n_jobs', refit=True, return_train_score=False,\n",
       "             scoring=None, verbose=0)"
      ]
     },
     "execution_count": 83,
     "metadata": {},
     "output_type": "execute_result"
    }
   ],
   "source": [
    "gboostparam = {'max_depth':range(1,12),\n",
    "              'n_estimators':range(45,60,5),\n",
    "              'loss':['ls', 'lad', 'huber', 'quantile'],\n",
    "              'max_features':['auto','sqrt','log2']}\n",
    "\n",
    "\n",
    "gboost = GridSearchCV(estimator = GradientBoostingRegressor(learning_rate=0.1, \n",
    "                                                min_samples_split=2, \n",
    "                                                min_samples_leaf=1, \n",
    "                                                subsample=1,\n",
    "#                                                 max_features='sqrt', \n",
    "                                                random_state=10), \n",
    "                                                param_grid = gboostparam, \n",
    "                                                n_jobs=-1,cv=5)\n",
    "\n",
    "gboost.fit(X_train,y_train)\n"
   ]
  },
  {
   "cell_type": "markdown",
   "metadata": {},
   "source": [
    "### Results"
   ]
  },
  {
   "cell_type": "code",
   "execution_count": 84,
   "metadata": {},
   "outputs": [
    {
     "name": "stdout",
     "output_type": "stream",
     "text": [
      "train mse: 210402353.29194453\n",
      "train rmse: 14505.252610414771\n",
      "train r2: 0.9663023672880685\n",
      "\n",
      "test mse: 1106890497.8616946\n",
      "test rmse: 33269.96389931457\n",
      "test r2: 0.8389301617200744\n",
      "\n",
      "Best Mean Cross Validation Score is 0.8918768459494615\n",
      "Best parameters {'loss': 'ls', 'max_depth': 5, 'max_features': 'log2', 'n_estimators': 55}\n",
      "Train score is 0.9663023672880685\n",
      "Test score is 0.8389301617200744\n"
     ]
    }
   ],
   "source": [
    "# let's get the predictions\n",
    "x_gboost_train= gboost.predict(X_train)\n",
    "x_gboost_test = gboost.predict(X_test)\n",
    "\n",
    "# check model performance:\n",
    "\n",
    "print('train mse: {}'.format(mean_squared_error(y_train, x_gboost_train)))\n",
    "print('train rmse: {}'.format(sqrt(mean_squared_error(y_train, x_gboost_train))))\n",
    "print('train r2: {}'.format(r2_score(y_train, x_gboost_train)))\n",
    "print()\n",
    "print('test mse: {}'.format(mean_squared_error(y_test, x_gboost_test)))\n",
    "print('test rmse: {}'.format(sqrt(mean_squared_error(y_test, x_gboost_test))))\n",
    "print('test r2: {}'.format(r2_score(y_test, x_gboost_test)))\n",
    "print()\n",
    "print(f'Best Mean Cross Validation Score is {gboost.best_score_}')\n",
    "print(f'Best parameters {gboost.best_params_}')\n",
    "print(f'Train score is {gboost.score(X_train,y_train)}')\n",
    "print(f'Test score is {gboost.score(X_test,y_test)}')"
   ]
  },
  {
   "cell_type": "markdown",
   "metadata": {},
   "source": [
    "## Extra Trees "
   ]
  },
  {
   "cell_type": "code",
   "execution_count": 85,
   "metadata": {},
   "outputs": [],
   "source": [
    "from sklearn.ensemble import ExtraTreesRegressor"
   ]
  },
  {
   "cell_type": "code",
   "execution_count": 86,
   "metadata": {},
   "outputs": [
    {
     "data": {
      "text/plain": [
       "GridSearchCV(cv=5, error_score=nan,\n",
       "             estimator=ExtraTreesRegressor(bootstrap=False, ccp_alpha=0.0,\n",
       "                                           criterion='mse', max_depth=None,\n",
       "                                           max_features='auto',\n",
       "                                           max_leaf_nodes=None,\n",
       "                                           max_samples=None,\n",
       "                                           min_impurity_decrease=0.0,\n",
       "                                           min_impurity_split=None,\n",
       "                                           min_samples_leaf=1,\n",
       "                                           min_samples_split=2,\n",
       "                                           min_weight_fraction_leaf=0.0,\n",
       "                                           n_estimators=100, n_jobs=None,\n",
       "                                           oob_score=False, random_state=42,\n",
       "                                           verbose=0, warm_start=False),\n",
       "             iid='deprecated', n_jobs=-1,\n",
       "             param_grid={'max_depth': range(2, 20, 5),\n",
       "                         'max_features': ['auto', 'sqrt', 'log2'],\n",
       "                         'n_estimators': range(2, 250, 5)},\n",
       "             pre_dispatch='2*n_jobs', refit=True, return_train_score=True,\n",
       "             scoring=None, verbose=0)"
      ]
     },
     "execution_count": 86,
     "metadata": {},
     "output_type": "execute_result"
    }
   ],
   "source": [
    "extree= ExtraTreesRegressor(random_state=42)\n",
    "etr_param = { \n",
    "    'n_estimators': range(2,250,5),\n",
    "    'max_features': ['auto', 'sqrt', 'log2'],\n",
    "    'max_depth' : range(2,20,5),\n",
    "}\n",
    "etr_grid = GridSearchCV(extree, etr_param,cv=5,n_jobs=-1,return_train_score=True, )\n",
    "etr_grid.fit(X_train,y_train)"
   ]
  },
  {
   "cell_type": "markdown",
   "metadata": {},
   "source": [
    "### Results"
   ]
  },
  {
   "cell_type": "code",
   "execution_count": 87,
   "metadata": {},
   "outputs": [
    {
     "name": "stdout",
     "output_type": "stream",
     "text": [
      "train mse: 5741824.059904766\n",
      "train rmse: 2396.210353851424\n",
      "train r2: 0.9990804005979974\n",
      "\n",
      "test mse: 929787656.6985651\n",
      "test rmse: 30492.419659623032\n",
      "test r2: 0.8647013884495182\n",
      "\n",
      "Best Mean Cross Validation Score is 0.8804371492768851\n",
      "Best parameters {'max_depth': 17, 'max_features': 'sqrt', 'n_estimators': 162}\n",
      "Train score is 0.9990804005979974\n",
      "Test score is 0.8647013884495182\n"
     ]
    }
   ],
   "source": [
    "# let's get the predictions\n",
    "x_etr_train= etr_grid.predict(X_train)\n",
    "x_etr_test = etr_grid.predict(X_test)\n",
    "\n",
    "# check model performance:\n",
    "\n",
    "print('train mse: {}'.format(mean_squared_error(y_train, x_etr_train)))\n",
    "print('train rmse: {}'.format(sqrt(mean_squared_error(y_train, x_etr_train))))\n",
    "print('train r2: {}'.format(r2_score(y_train, x_etr_train)))\n",
    "print()\n",
    "print('test mse: {}'.format(mean_squared_error(y_test, x_etr_test)))\n",
    "print('test rmse: {}'.format(sqrt(mean_squared_error(y_test, x_etr_test))))\n",
    "print('test r2: {}'.format(r2_score(y_test, x_etr_test)))\n",
    "print()\n",
    "print(f'Best Mean Cross Validation Score is {etr_grid.best_score_}')\n",
    "print(f'Best parameters {etr_grid.best_params_}')\n",
    "print(f'Train score is {etr_grid.score(X_train,y_train)}')\n",
    "print(f'Test score is {etr_grid.score(X_test,y_test)}')"
   ]
  },
  {
   "cell_type": "markdown",
   "metadata": {},
   "source": [
    "## XGBoost Regressor"
   ]
  },
  {
   "cell_type": "code",
   "execution_count": 88,
   "metadata": {},
   "outputs": [],
   "source": [
    "# pip install xgboost"
   ]
  },
  {
   "cell_type": "code",
   "execution_count": 89,
   "metadata": {
    "scrolled": true
   },
   "outputs": [],
   "source": [
    "from xgboost import XGBRegressor"
   ]
  },
  {
   "cell_type": "code",
   "execution_count": 90,
   "metadata": {},
   "outputs": [
    {
     "data": {
      "text/plain": [
       "GridSearchCV(cv=5, error_score=nan,\n",
       "             estimator=XGBRegressor(base_score=None, booster=None,\n",
       "                                    colsample_bylevel=None,\n",
       "                                    colsample_bynode=None,\n",
       "                                    colsample_bytree=None, gamma=None,\n",
       "                                    gpu_id=None, importance_type='gain',\n",
       "                                    interaction_constraints=None,\n",
       "                                    learning_rate=None, max_delta_step=None,\n",
       "                                    max_depth=None, min_child_weight=None,\n",
       "                                    missing=nan, monotone_constraints=None,\n",
       "                                    n_estima...\n",
       "                                    reg_lambda=None, scale_pos_weight=None,\n",
       "                                    subsample=None, tree_method=None,\n",
       "                                    validate_parameters=False, verbosity=None),\n",
       "             iid='deprecated', n_jobs=-1,\n",
       "             param_grid={'learning_rate': [0.1], 'max_depth': range(2, 20, 2),\n",
       "                         'min_child_weight': range(1, 8),\n",
       "                         'n_estimators': range(2, 200, 10),\n",
       "                         'subsample': [0.6, 0.7, 0.8, 0.9, 1]},\n",
       "             pre_dispatch='2*n_jobs', refit=True, return_train_score=True,\n",
       "             scoring=None, verbose=0)"
      ]
     },
     "execution_count": 90,
     "metadata": {},
     "output_type": "execute_result"
    }
   ],
   "source": [
    "xgbr= XGBRegressor(random_state=42)\n",
    "xgbr_param = {\n",
    "              'max_depth' : range(2,20,2),\n",
    "              'n_estimators' : range(2,200,10),\n",
    "              'learning_rate' : [0.1],\n",
    "               'min_child_weight' : range(1,8,1),\n",
    "                'subsample':[0.6,0.7,0.8,0.9,1]\n",
    "             }\n",
    "xgbr_grid = GridSearchCV(xgbr, xgbr_param,cv=5,n_jobs=-1, return_train_score=True)\n",
    "xgbr_grid.fit(X_train,y_train)"
   ]
  },
  {
   "cell_type": "code",
   "execution_count": 91,
   "metadata": {},
   "outputs": [
    {
     "name": "stdout",
     "output_type": "stream",
     "text": [
      "train mse: 98739443.27826326\n",
      "train rmse: 9936.772276663245\n",
      "train r2: 0.9841860823241139\n",
      "\n",
      "test mse: 847173787.4212183\n",
      "test rmse: 29106.249971805337\n",
      "test r2: 0.8767229954557099\n",
      "\n",
      "Best Mean Cross Validation Score is 0.8984774624760332\n",
      "Best parameters {'learning_rate': 0.1, 'max_depth': 4, 'min_child_weight': 1, 'n_estimators': 192, 'subsample': 0.8}\n",
      "Train score is 0.9841860823241139\n",
      "Test score is 0.8767229954557099\n"
     ]
    }
   ],
   "source": [
    "# let's get the predictions\n",
    "x_xgbr_train= xgbr_grid.predict(X_train)\n",
    "x_xgbr_test = xgbr_grid.predict(X_test)\n",
    "\n",
    "# check model performance:\n",
    "\n",
    "print('train mse: {}'.format(mean_squared_error(y_train, x_xgbr_train)))\n",
    "print('train rmse: {}'.format(sqrt(mean_squared_error(y_train, x_xgbr_train))))\n",
    "print('train r2: {}'.format(r2_score(y_train, x_xgbr_train)))\n",
    "print()\n",
    "print('test mse: {}'.format(mean_squared_error(y_test, x_xgbr_test)))\n",
    "print('test rmse: {}'.format(sqrt(mean_squared_error(y_test, x_xgbr_test))))\n",
    "print('test r2: {}'.format(r2_score(y_test, x_xgbr_test)))\n",
    "print()\n",
    "print(f'Best Mean Cross Validation Score is {xgbr_grid.best_score_}')\n",
    "print(f'Best parameters {xgbr_grid.best_params_}')\n",
    "print(f'Train score is {xgbr_grid.score(X_train,y_train)}')\n",
    "print(f'Test score is {xgbr_grid.score(X_test,y_test)}')"
   ]
  },
  {
   "cell_type": "markdown",
   "metadata": {},
   "source": [
    "## Summary"
   ]
  },
  {
   "cell_type": "code",
   "execution_count": 92,
   "metadata": {},
   "outputs": [],
   "source": [
    "regressors={#'LinearReg':lr,\n",
    "'Ridge':grid_ridge,\n",
    "'Lasso':grid_lasso,\n",
    "'LinearSGD':grid_linearsgd,\n",
    "'Polynomial':grid_poly,\n",
    "'elasticnet':grid_elasticnet,\n",
    "'GridLRRidge':grid_search_linear,\n",
    "'GridLRLasso':grid_search_linear2,\n",
    "'GridRF':grid_rf,\n",
    "# 'KNN':knnreg,\n",
    "'GridElastic':grid_elasticnet,\n",
    "'GridDecisionTree':grid_dtree,\n",
    "'SVC':grid_svc_kernel,\n",
    "'BaggingDTree':bag_dtree1_grid,\n",
    "'BaggingLasso':bag_lasso_grid,\n",
    "'PastingDTree':paste_dtree1_grid,\n",
    "'PastingLasso':paste_lasso_grid,\n",
    "'RandomForest':rf_grid,\n",
    "'AdaBoost':rf_grid,\n",
    "'GradientBoostR':gboost,\n",
    "'ExtraTrees':etr_grid,\n",
    "'XGBoost':xgbr_grid,  \n",
    "}"
   ]
  },
  {
   "cell_type": "code",
   "execution_count": 93,
   "metadata": {},
   "outputs": [
    {
     "data": {
      "text/plain": [
       "dict_keys(['Ridge', 'Lasso', 'LinearSGD', 'Polynomial', 'elasticnet', 'GridLRRidge', 'GridLRLasso', 'GridRF', 'GridElastic', 'GridDecisionTree', 'SVC', 'BaggingDTree', 'BaggingLasso', 'PastingDTree', 'PastingLasso', 'RandomForest', 'AdaBoost', 'GradientBoostR', 'ExtraTrees', 'XGBoost'])"
      ]
     },
     "execution_count": 93,
     "metadata": {},
     "output_type": "execute_result"
    }
   ],
   "source": [
    "regressors.keys()"
   ]
  },
  {
   "cell_type": "code",
   "execution_count": 94,
   "metadata": {},
   "outputs": [],
   "source": [
    "results_mean_std = []\n",
    "for  key, value in regressors.items():\n",
    "    mean = value.cv_results_['mean_test_score'][value.best_index_]\n",
    "    std=value.cv_results_['std_test_score'][value.best_index_]\n",
    "     \n",
    "    results_mean_std.append({\n",
    "        \"model\": key,\n",
    "        \"mean\": mean,\n",
    "        \"std\": std\n",
    "    })"
   ]
  },
  {
   "cell_type": "code",
   "execution_count": 95,
   "metadata": {
    "ExecuteTime": {
     "end_time": "2020-04-13T10:59:41.868678Z",
     "start_time": "2020-04-13T10:59:41.863689Z"
    }
   },
   "outputs": [],
   "source": [
    "# Create a Pandas DataFrame with the mean+std results\n",
    "accuracy_df = pd.DataFrame(results_mean_std, columns=['model', 'mean', 'std'])\n"
   ]
  },
  {
   "cell_type": "code",
   "execution_count": 96,
   "metadata": {
    "ExecuteTime": {
     "end_time": "2020-04-13T11:39:24.690151Z",
     "start_time": "2020-04-13T11:39:24.677159Z"
    }
   },
   "outputs": [
    {
     "data": {
      "text/html": [
       "<div>\n",
       "<style scoped>\n",
       "    .dataframe tbody tr th:only-of-type {\n",
       "        vertical-align: middle;\n",
       "    }\n",
       "\n",
       "    .dataframe tbody tr th {\n",
       "        vertical-align: top;\n",
       "    }\n",
       "\n",
       "    .dataframe thead th {\n",
       "        text-align: right;\n",
       "    }\n",
       "</style>\n",
       "<table border=\"1\" class=\"dataframe\">\n",
       "  <thead>\n",
       "    <tr style=\"text-align: right;\">\n",
       "      <th></th>\n",
       "      <th>model</th>\n",
       "      <th>mean</th>\n",
       "      <th>std</th>\n",
       "    </tr>\n",
       "  </thead>\n",
       "  <tbody>\n",
       "    <tr>\n",
       "      <th>19</th>\n",
       "      <td>XGBoost</td>\n",
       "      <td>8.984775e-01</td>\n",
       "      <td>8.966995e-03</td>\n",
       "    </tr>\n",
       "    <tr>\n",
       "      <th>17</th>\n",
       "      <td>GradientBoostR</td>\n",
       "      <td>8.918768e-01</td>\n",
       "      <td>1.466126e-02</td>\n",
       "    </tr>\n",
       "    <tr>\n",
       "      <th>12</th>\n",
       "      <td>BaggingLasso</td>\n",
       "      <td>8.849436e-01</td>\n",
       "      <td>1.222205e-02</td>\n",
       "    </tr>\n",
       "    <tr>\n",
       "      <th>0</th>\n",
       "      <td>Ridge</td>\n",
       "      <td>8.843424e-01</td>\n",
       "      <td>3.178374e-02</td>\n",
       "    </tr>\n",
       "    <tr>\n",
       "      <th>1</th>\n",
       "      <td>Lasso</td>\n",
       "      <td>8.843050e-01</td>\n",
       "      <td>3.179290e-02</td>\n",
       "    </tr>\n",
       "    <tr>\n",
       "      <th>4</th>\n",
       "      <td>elasticnet</td>\n",
       "      <td>8.840700e-01</td>\n",
       "      <td>1.039538e-02</td>\n",
       "    </tr>\n",
       "    <tr>\n",
       "      <th>8</th>\n",
       "      <td>GridElastic</td>\n",
       "      <td>8.840700e-01</td>\n",
       "      <td>1.039538e-02</td>\n",
       "    </tr>\n",
       "    <tr>\n",
       "      <th>5</th>\n",
       "      <td>GridLRRidge</td>\n",
       "      <td>8.818970e-01</td>\n",
       "      <td>1.141903e-02</td>\n",
       "    </tr>\n",
       "    <tr>\n",
       "      <th>6</th>\n",
       "      <td>GridLRLasso</td>\n",
       "      <td>8.818495e-01</td>\n",
       "      <td>1.142073e-02</td>\n",
       "    </tr>\n",
       "    <tr>\n",
       "      <th>14</th>\n",
       "      <td>PastingLasso</td>\n",
       "      <td>8.818495e-01</td>\n",
       "      <td>1.142073e-02</td>\n",
       "    </tr>\n",
       "    <tr>\n",
       "      <th>18</th>\n",
       "      <td>ExtraTrees</td>\n",
       "      <td>8.804371e-01</td>\n",
       "      <td>1.394497e-02</td>\n",
       "    </tr>\n",
       "    <tr>\n",
       "      <th>15</th>\n",
       "      <td>RandomForest</td>\n",
       "      <td>8.767927e-01</td>\n",
       "      <td>1.611594e-02</td>\n",
       "    </tr>\n",
       "    <tr>\n",
       "      <th>16</th>\n",
       "      <td>AdaBoost</td>\n",
       "      <td>8.767927e-01</td>\n",
       "      <td>1.611594e-02</td>\n",
       "    </tr>\n",
       "    <tr>\n",
       "      <th>2</th>\n",
       "      <td>LinearSGD</td>\n",
       "      <td>8.765910e-01</td>\n",
       "      <td>1.366770e-02</td>\n",
       "    </tr>\n",
       "    <tr>\n",
       "      <th>11</th>\n",
       "      <td>BaggingDTree</td>\n",
       "      <td>8.701118e-01</td>\n",
       "      <td>1.681030e-02</td>\n",
       "    </tr>\n",
       "    <tr>\n",
       "      <th>13</th>\n",
       "      <td>PastingDTree</td>\n",
       "      <td>8.572589e-01</td>\n",
       "      <td>1.829952e-02</td>\n",
       "    </tr>\n",
       "    <tr>\n",
       "      <th>9</th>\n",
       "      <td>GridDecisionTree</td>\n",
       "      <td>7.573303e-01</td>\n",
       "      <td>2.847110e-02</td>\n",
       "    </tr>\n",
       "    <tr>\n",
       "      <th>10</th>\n",
       "      <td>SVC</td>\n",
       "      <td>7.104416e-01</td>\n",
       "      <td>2.673301e-02</td>\n",
       "    </tr>\n",
       "    <tr>\n",
       "      <th>7</th>\n",
       "      <td>GridRF</td>\n",
       "      <td>-1.253123e+21</td>\n",
       "      <td>2.506247e+21</td>\n",
       "    </tr>\n",
       "    <tr>\n",
       "      <th>3</th>\n",
       "      <td>Polynomial</td>\n",
       "      <td>-9.790049e+22</td>\n",
       "      <td>1.950468e+23</td>\n",
       "    </tr>\n",
       "  </tbody>\n",
       "</table>\n",
       "</div>"
      ],
      "text/plain": [
       "               model          mean           std\n",
       "19           XGBoost  8.984775e-01  8.966995e-03\n",
       "17    GradientBoostR  8.918768e-01  1.466126e-02\n",
       "12      BaggingLasso  8.849436e-01  1.222205e-02\n",
       "0              Ridge  8.843424e-01  3.178374e-02\n",
       "1              Lasso  8.843050e-01  3.179290e-02\n",
       "4         elasticnet  8.840700e-01  1.039538e-02\n",
       "8        GridElastic  8.840700e-01  1.039538e-02\n",
       "5        GridLRRidge  8.818970e-01  1.141903e-02\n",
       "6        GridLRLasso  8.818495e-01  1.142073e-02\n",
       "14      PastingLasso  8.818495e-01  1.142073e-02\n",
       "18        ExtraTrees  8.804371e-01  1.394497e-02\n",
       "15      RandomForest  8.767927e-01  1.611594e-02\n",
       "16          AdaBoost  8.767927e-01  1.611594e-02\n",
       "2          LinearSGD  8.765910e-01  1.366770e-02\n",
       "11      BaggingDTree  8.701118e-01  1.681030e-02\n",
       "13      PastingDTree  8.572589e-01  1.829952e-02\n",
       "9   GridDecisionTree  7.573303e-01  2.847110e-02\n",
       "10               SVC  7.104416e-01  2.673301e-02\n",
       "7             GridRF -1.253123e+21  2.506247e+21\n",
       "3         Polynomial -9.790049e+22  1.950468e+23"
      ]
     },
     "execution_count": 96,
     "metadata": {},
     "output_type": "execute_result"
    }
   ],
   "source": [
    "# Show the accuracy dataframe\n",
    "\n",
    "accuracy_df.sort_values(by=['mean'], inplace=True,ascending=False)\n",
    "accuracy_df"
   ]
  },
  {
   "cell_type": "code",
   "execution_count": 97,
   "metadata": {},
   "outputs": [],
   "source": [
    "# Create a prediction of all models on the test set\n",
    "predictions_all = {}\n",
    "for  key, value in regressors.items():\n",
    "    # Get best estimator\n",
    "    best_model = value.best_estimator_\n",
    "    \n",
    "    # Predict test labels\n",
    "    predictions = best_model.predict(X_test)\n",
    "    \n",
    "    # Save predictions to a list\n",
    "    predictions_all[key] = predictions"
   ]
  },
  {
   "cell_type": "code",
   "execution_count": 98,
   "metadata": {},
   "outputs": [],
   "source": [
    "# Creat a DataFrame for the predictions\n",
    "pred = pd.DataFrame(predictions_all)"
   ]
  },
  {
   "cell_type": "code",
   "execution_count": 99,
   "metadata": {},
   "outputs": [
    {
     "data": {
      "text/html": [
       "<div>\n",
       "<style scoped>\n",
       "    .dataframe tbody tr th:only-of-type {\n",
       "        vertical-align: middle;\n",
       "    }\n",
       "\n",
       "    .dataframe tbody tr th {\n",
       "        vertical-align: top;\n",
       "    }\n",
       "\n",
       "    .dataframe thead th {\n",
       "        text-align: right;\n",
       "    }\n",
       "</style>\n",
       "<table border=\"1\" class=\"dataframe\">\n",
       "  <thead>\n",
       "    <tr style=\"text-align: right;\">\n",
       "      <th></th>\n",
       "      <th>Ridge</th>\n",
       "      <th>Lasso</th>\n",
       "      <th>LinearSGD</th>\n",
       "      <th>Polynomial</th>\n",
       "      <th>elasticnet</th>\n",
       "      <th>GridLRRidge</th>\n",
       "      <th>GridLRLasso</th>\n",
       "      <th>GridRF</th>\n",
       "      <th>GridElastic</th>\n",
       "      <th>GridDecisionTree</th>\n",
       "      <th>SVC</th>\n",
       "      <th>BaggingDTree</th>\n",
       "      <th>BaggingLasso</th>\n",
       "      <th>PastingDTree</th>\n",
       "      <th>PastingLasso</th>\n",
       "      <th>RandomForest</th>\n",
       "      <th>AdaBoost</th>\n",
       "      <th>GradientBoostR</th>\n",
       "      <th>ExtraTrees</th>\n",
       "      <th>XGBoost</th>\n",
       "    </tr>\n",
       "  </thead>\n",
       "  <tbody>\n",
       "    <tr>\n",
       "      <th>0</th>\n",
       "      <td>259427.918908</td>\n",
       "      <td>259358.714345</td>\n",
       "      <td>269968.912408</td>\n",
       "      <td>-2.401626e+15</td>\n",
       "      <td>263655.245673</td>\n",
       "      <td>259427.918908</td>\n",
       "      <td>259358.714345</td>\n",
       "      <td>258576.640044</td>\n",
       "      <td>263655.245673</td>\n",
       "      <td>286141.333333</td>\n",
       "      <td>237000</td>\n",
       "      <td>231628.891408</td>\n",
       "      <td>253304.203849</td>\n",
       "      <td>260380.403015</td>\n",
       "      <td>259358.714345</td>\n",
       "      <td>252395.782594</td>\n",
       "      <td>252395.782594</td>\n",
       "      <td>279172.467178</td>\n",
       "      <td>256034.145142</td>\n",
       "      <td>273605.375000</td>\n",
       "    </tr>\n",
       "    <tr>\n",
       "      <th>1</th>\n",
       "      <td>130977.047829</td>\n",
       "      <td>130977.454966</td>\n",
       "      <td>136605.961715</td>\n",
       "      <td>-8.888887e+14</td>\n",
       "      <td>130804.224834</td>\n",
       "      <td>130977.047829</td>\n",
       "      <td>130977.454966</td>\n",
       "      <td>130385.243135</td>\n",
       "      <td>130804.224834</td>\n",
       "      <td>148118.800000</td>\n",
       "      <td>105000</td>\n",
       "      <td>138410.074763</td>\n",
       "      <td>135019.758648</td>\n",
       "      <td>142482.141309</td>\n",
       "      <td>130977.454966</td>\n",
       "      <td>140416.801495</td>\n",
       "      <td>140416.801495</td>\n",
       "      <td>144826.895238</td>\n",
       "      <td>136406.530809</td>\n",
       "      <td>134782.234375</td>\n",
       "    </tr>\n",
       "    <tr>\n",
       "      <th>2</th>\n",
       "      <td>118352.334635</td>\n",
       "      <td>118328.412013</td>\n",
       "      <td>120844.488906</td>\n",
       "      <td>2.467426e+14</td>\n",
       "      <td>120690.792966</td>\n",
       "      <td>118352.334635</td>\n",
       "      <td>118328.412013</td>\n",
       "      <td>117989.111328</td>\n",
       "      <td>120690.792966</td>\n",
       "      <td>118911.000000</td>\n",
       "      <td>135000</td>\n",
       "      <td>121417.290889</td>\n",
       "      <td>118712.599413</td>\n",
       "      <td>118725.602426</td>\n",
       "      <td>118328.412013</td>\n",
       "      <td>125970.464256</td>\n",
       "      <td>125970.464256</td>\n",
       "      <td>126477.951094</td>\n",
       "      <td>132510.120732</td>\n",
       "      <td>118255.343750</td>\n",
       "    </tr>\n",
       "    <tr>\n",
       "      <th>3</th>\n",
       "      <td>219592.797874</td>\n",
       "      <td>219614.219922</td>\n",
       "      <td>219618.652969</td>\n",
       "      <td>1.198736e+15</td>\n",
       "      <td>217482.466827</td>\n",
       "      <td>219592.797874</td>\n",
       "      <td>219614.219922</td>\n",
       "      <td>220890.140789</td>\n",
       "      <td>217482.466827</td>\n",
       "      <td>229747.629630</td>\n",
       "      <td>178000</td>\n",
       "      <td>234395.674515</td>\n",
       "      <td>218284.457610</td>\n",
       "      <td>239981.004528</td>\n",
       "      <td>219614.219922</td>\n",
       "      <td>209285.267185</td>\n",
       "      <td>209285.267185</td>\n",
       "      <td>210454.548365</td>\n",
       "      <td>201347.542099</td>\n",
       "      <td>221607.421875</td>\n",
       "    </tr>\n",
       "    <tr>\n",
       "      <th>4</th>\n",
       "      <td>91161.872462</td>\n",
       "      <td>91146.795565</td>\n",
       "      <td>93556.522122</td>\n",
       "      <td>2.906841e+14</td>\n",
       "      <td>92806.958086</td>\n",
       "      <td>91161.872462</td>\n",
       "      <td>91146.795565</td>\n",
       "      <td>91502.241892</td>\n",
       "      <td>92806.958086</td>\n",
       "      <td>118911.000000</td>\n",
       "      <td>113000</td>\n",
       "      <td>97929.805069</td>\n",
       "      <td>88489.935148</td>\n",
       "      <td>98999.445234</td>\n",
       "      <td>91146.795565</td>\n",
       "      <td>100051.392538</td>\n",
       "      <td>100051.392538</td>\n",
       "      <td>100665.764154</td>\n",
       "      <td>96968.065484</td>\n",
       "      <td>93816.242188</td>\n",
       "    </tr>\n",
       "  </tbody>\n",
       "</table>\n",
       "</div>"
      ],
      "text/plain": [
       "           Ridge          Lasso      LinearSGD    Polynomial     elasticnet  \\\n",
       "0  259427.918908  259358.714345  269968.912408 -2.401626e+15  263655.245673   \n",
       "1  130977.047829  130977.454966  136605.961715 -8.888887e+14  130804.224834   \n",
       "2  118352.334635  118328.412013  120844.488906  2.467426e+14  120690.792966   \n",
       "3  219592.797874  219614.219922  219618.652969  1.198736e+15  217482.466827   \n",
       "4   91161.872462   91146.795565   93556.522122  2.906841e+14   92806.958086   \n",
       "\n",
       "     GridLRRidge    GridLRLasso         GridRF    GridElastic  \\\n",
       "0  259427.918908  259358.714345  258576.640044  263655.245673   \n",
       "1  130977.047829  130977.454966  130385.243135  130804.224834   \n",
       "2  118352.334635  118328.412013  117989.111328  120690.792966   \n",
       "3  219592.797874  219614.219922  220890.140789  217482.466827   \n",
       "4   91161.872462   91146.795565   91502.241892   92806.958086   \n",
       "\n",
       "   GridDecisionTree     SVC   BaggingDTree   BaggingLasso   PastingDTree  \\\n",
       "0     286141.333333  237000  231628.891408  253304.203849  260380.403015   \n",
       "1     148118.800000  105000  138410.074763  135019.758648  142482.141309   \n",
       "2     118911.000000  135000  121417.290889  118712.599413  118725.602426   \n",
       "3     229747.629630  178000  234395.674515  218284.457610  239981.004528   \n",
       "4     118911.000000  113000   97929.805069   88489.935148   98999.445234   \n",
       "\n",
       "    PastingLasso   RandomForest       AdaBoost  GradientBoostR     ExtraTrees  \\\n",
       "0  259358.714345  252395.782594  252395.782594   279172.467178  256034.145142   \n",
       "1  130977.454966  140416.801495  140416.801495   144826.895238  136406.530809   \n",
       "2  118328.412013  125970.464256  125970.464256   126477.951094  132510.120732   \n",
       "3  219614.219922  209285.267185  209285.267185   210454.548365  201347.542099   \n",
       "4   91146.795565  100051.392538  100051.392538   100665.764154   96968.065484   \n",
       "\n",
       "         XGBoost  \n",
       "0  273605.375000  \n",
       "1  134782.234375  \n",
       "2  118255.343750  \n",
       "3  221607.421875  \n",
       "4   93816.242188  "
      ]
     },
     "execution_count": 99,
     "metadata": {},
     "output_type": "execute_result"
    }
   ],
   "source": [
    "pred.head()"
   ]
  },
  {
   "cell_type": "code",
   "execution_count": 100,
   "metadata": {},
   "outputs": [
    {
     "data": {
      "text/plain": [
       "Text(0.5, 1, 'Correlation of the test set label prediction between models')"
      ]
     },
     "execution_count": 100,
     "metadata": {},
     "output_type": "execute_result"
    },
    {
     "data": {
      "image/png": "[encoded data removed]",
      "text/plain": [
       "<Figure size 1440x720 with 2 Axes>"
      ]
     },
     "metadata": {
      "needs_background": "light"
     },
     "output_type": "display_data"
    }
   ],
   "source": [
    "# Plot a heatmap of all correlations for easier visualization\n",
    "fig, ax = plt.subplots(nrows=1, ncols=1, figsize=(20,10))\n",
    "g = sns.heatmap(pred.corr(), annot=True, cmap='coolwarm', ax=ax)\n",
    "g.set_title('Correlation of the test set label prediction between models')"
   ]
  },
  {
   "cell_type": "code",
   "execution_count": 101,
   "metadata": {},
   "outputs": [],
   "source": [
    "def get_redundant_pairs(df):\n",
    "    '''Get diagonal and lower triangular pairs of correlation matrix'''\n",
    "    pairs_to_drop = set()\n",
    "    cols = df.columns\n",
    "    for i in range(0, df.shape[1]):\n",
    "        for j in range(0, i+1):\n",
    "            pairs_to_drop.add((cols[i], cols[j]))\n",
    "    return pairs_to_drop\n",
    "\n",
    "def get_top_abs_correlations(df, n=5):\n",
    "    au_corr = df.corr().abs().unstack()\n",
    "    labels_to_drop = get_redundant_pairs(df)\n",
    "    au_corr = au_corr.drop(labels=labels_to_drop).sort_values(ascending=True)\n",
    "    return au_corr[0:n]"
   ]
  },
  {
   "cell_type": "code",
   "execution_count": 102,
   "metadata": {},
   "outputs": [
    {
     "name": "stdout",
     "output_type": "stream",
     "text": [
      "Top Least Correlations\n",
      "LinearSGD   Polynomial          0.001773\n",
      "Polynomial  GridDecisionTree    0.003570\n",
      "            BaggingLasso        0.015869\n",
      "            GradientBoostR      0.018109\n",
      "            GridRF              0.019594\n",
      "dtype: float64\n"
     ]
    }
   ],
   "source": [
    "print(\"Top Least Correlations\")\n",
    "print(get_top_abs_correlations(pred, 5))"
   ]
  },
  {
   "cell_type": "markdown",
   "metadata": {},
   "source": [
    "## Stacking"
   ]
  },
  {
   "cell_type": "markdown",
   "metadata": {},
   "source": [
    "## Voting top 5"
   ]
  },
  {
   "cell_type": "code",
   "execution_count": 103,
   "metadata": {},
   "outputs": [],
   "source": [
    "from sklearn.ensemble import VotingRegressor"
   ]
  },
  {
   "cell_type": "code",
   "execution_count": 104,
   "metadata": {
    "scrolled": true
   },
   "outputs": [
    {
     "name": "stderr",
     "output_type": "stream",
     "text": [
      "C:\\Users\\nabhs\\Anaconda3\\envs\\buan6341_2020\\lib\\site-packages\\sklearn\\ensemble\\_bagging.py:1056: UserWarning: Some inputs do not have OOB scores. This probably means too few estimators were used to compute any reliable oob estimates.\n",
      "  warn(\"Some inputs do not have OOB scores. \"\n",
      "C:\\Users\\nabhs\\Anaconda3\\envs\\buan6341_2020\\lib\\site-packages\\sklearn\\ensemble\\_bagging.py:1056: UserWarning: Some inputs do not have OOB scores. This probably means too few estimators were used to compute any reliable oob estimates.\n",
      "  warn(\"Some inputs do not have OOB scores. \"\n",
      "C:\\Users\\nabhs\\Anaconda3\\envs\\buan6341_2020\\lib\\site-packages\\sklearn\\ensemble\\_bagging.py:1056: UserWarning: Some inputs do not have OOB scores. This probably means too few estimators were used to compute any reliable oob estimates.\n",
      "  warn(\"Some inputs do not have OOB scores. \"\n",
      "C:\\Users\\nabhs\\Anaconda3\\envs\\buan6341_2020\\lib\\site-packages\\sklearn\\ensemble\\_bagging.py:1056: UserWarning: Some inputs do not have OOB scores. This probably means too few estimators were used to compute any reliable oob estimates.\n",
      "  warn(\"Some inputs do not have OOB scores. \"\n",
      "C:\\Users\\nabhs\\Anaconda3\\envs\\buan6341_2020\\lib\\site-packages\\sklearn\\ensemble\\_bagging.py:1056: UserWarning: Some inputs do not have OOB scores. This probably means too few estimators were used to compute any reliable oob estimates.\n",
      "  warn(\"Some inputs do not have OOB scores. \"\n",
      "C:\\Users\\nabhs\\Anaconda3\\envs\\buan6341_2020\\lib\\site-packages\\sklearn\\ensemble\\_bagging.py:1056: UserWarning: Some inputs do not have OOB scores. This probably means too few estimators were used to compute any reliable oob estimates.\n",
      "  warn(\"Some inputs do not have OOB scores. \"\n",
      "C:\\Users\\nabhs\\Anaconda3\\envs\\buan6341_2020\\lib\\site-packages\\sklearn\\ensemble\\_bagging.py:1056: UserWarning: Some inputs do not have OOB scores. This probably means too few estimators were used to compute any reliable oob estimates.\n",
      "  warn(\"Some inputs do not have OOB scores. \"\n",
      "C:\\Users\\nabhs\\Anaconda3\\envs\\buan6341_2020\\lib\\site-packages\\sklearn\\ensemble\\_bagging.py:1056: UserWarning: Some inputs do not have OOB scores. This probably means too few estimators were used to compute any reliable oob estimates.\n",
      "  warn(\"Some inputs do not have OOB scores. \"\n",
      "C:\\Users\\nabhs\\Anaconda3\\envs\\buan6341_2020\\lib\\site-packages\\sklearn\\ensemble\\_bagging.py:1056: UserWarning: Some inputs do not have OOB scores. This probably means too few estimators were used to compute any reliable oob estimates.\n",
      "  warn(\"Some inputs do not have OOB scores. \"\n",
      "C:\\Users\\nabhs\\Anaconda3\\envs\\buan6341_2020\\lib\\site-packages\\sklearn\\ensemble\\_bagging.py:1056: UserWarning: Some inputs do not have OOB scores. This probably means too few estimators were used to compute any reliable oob estimates.\n",
      "  warn(\"Some inputs do not have OOB scores. \"\n",
      "C:\\Users\\nabhs\\Anaconda3\\envs\\buan6341_2020\\lib\\site-packages\\sklearn\\ensemble\\_bagging.py:1056: UserWarning: Some inputs do not have OOB scores. This probably means too few estimators were used to compute any reliable oob estimates.\n",
      "  warn(\"Some inputs do not have OOB scores. \"\n",
      "C:\\Users\\nabhs\\Anaconda3\\envs\\buan6341_2020\\lib\\site-packages\\sklearn\\ensemble\\_bagging.py:1056: UserWarning: Some inputs do not have OOB scores. This probably means too few estimators were used to compute any reliable oob estimates.\n",
      "  warn(\"Some inputs do not have OOB scores. \"\n"
     ]
    },
    {
     "data": {
      "text/plain": [
       "GridSearchCV(cv=5, error_score=nan,\n",
       "             estimator=VotingRegressor(estimators=[('XGBoost',\n",
       "                                                    XGBRegressor(base_score=0.5,\n",
       "                                                                 booster=None,\n",
       "                                                                 colsample_bylevel=1,\n",
       "                                                                 colsample_bynode=1,\n",
       "                                                                 colsample_bytree=1,\n",
       "                                                                 gamma=0,\n",
       "                                                                 gpu_id=-1,\n",
       "                                                                 importance_type='gain',\n",
       "                                                                 interaction_constraints=None,\n",
       "                                                                 learning_rate=0.1,\n",
       "                                                                 max_delta_step=0,\n",
       "                                                                 max_depth=4,\n",
       "                                                                 min_child_weight=1,\n",
       "                                                                 missing=nan,\n",
       "                                                                 monotone_constraints...\n",
       "                                                                     n_jobs=None,\n",
       "                                                                     oob_score=True,\n",
       "                                                                     random_state=0,\n",
       "                                                                     verbose=0,\n",
       "                                                                     warm_start=False)),\n",
       "                                                   ('Ridge',\n",
       "                                                    Ridge(alpha=1, copy_X=True,\n",
       "                                                          fit_intercept=True,\n",
       "                                                          max_iter=None,\n",
       "                                                          normalize=False,\n",
       "                                                          random_state=None,\n",
       "                                                          solver='auto',\n",
       "                                                          tol=0.001))],\n",
       "                                       n_jobs=None, weights=None),\n",
       "             iid='deprecated', n_jobs=None, param_grid={},\n",
       "             pre_dispatch='2*n_jobs', refit=True, return_train_score=True,\n",
       "             scoring=None, verbose=0)"
      ]
     },
     "execution_count": 104,
     "metadata": {},
     "output_type": "execute_result"
    }
   ],
   "source": [
    "vclf1 = VotingRegressor( estimators=\n",
    "                              [('XGBoost', xgbr_grid.best_estimator_),\n",
    "                               ('GradientBoost', gboost.best_estimator_), \n",
    "                               ('BaggingLasso', bag_lasso_grid.best_estimator_),\n",
    "                               ('PastingDTree', bag_lasso_grid.best_estimator_),\n",
    "                               ('Ridge', grid_ridge.best_estimator_)\n",
    "                              ] )\n",
    "vclf1_param = { }\n",
    "vclf1_grid = GridSearchCV(vclf1, vclf1_param,cv=5, return_train_score=True)\n",
    "vclf1_grid.fit(X_train,y_train)\n"
   ]
  },
  {
   "cell_type": "code",
   "execution_count": 105,
   "metadata": {},
   "outputs": [
    {
     "name": "stdout",
     "output_type": "stream",
     "text": [
      "train mse: 317633603.336003\n",
      "train rmse: 17822.2782869083\n",
      "train r2: 0.9491284183151113\n",
      "\n",
      "test mse: 822879018.3587837\n",
      "test rmse: 28685.867920611774\n",
      "test r2: 0.8802582634262037\n",
      "\n",
      "Best Mean Cross Validation Score is 0.8999858356957512\n",
      "Best parameters {}\n",
      "Train score is 0.9491284183151113\n",
      "Test score is 0.8802582634262037\n"
     ]
    }
   ],
   "source": [
    "# let's get the predictions\n",
    "x_vclf1_train= vclf1_grid.predict(X_train)\n",
    "x_vclf1_test = vclf1_grid.predict(X_test)\n",
    "\n",
    "# check model performance:\n",
    "\n",
    "print('train mse: {}'.format(mean_squared_error(y_train, x_vclf1_train)))\n",
    "print('train rmse: {}'.format(sqrt(mean_squared_error(y_train, x_vclf1_train))))\n",
    "print('train r2: {}'.format(r2_score(y_train, x_vclf1_train)))\n",
    "print()\n",
    "print('test mse: {}'.format(mean_squared_error(y_test, x_vclf1_test)))\n",
    "print('test rmse: {}'.format(sqrt(mean_squared_error(y_test, x_vclf1_test))))\n",
    "print('test r2: {}'.format(r2_score(y_test, x_vclf1_test)))\n",
    "print()\n",
    "print(f'Best Mean Cross Validation Score is {vclf1_grid.best_score_}')\n",
    "print(f'Best parameters {vclf1_grid.best_params_}')\n",
    "print(f'Train score is {vclf1_grid.score(X_train,y_train)}')\n",
    "print(f'Test score is {vclf1_grid.score(X_test,y_test)}')"
   ]
  },
  {
   "cell_type": "markdown",
   "metadata": {},
   "source": [
    "## Voting Least Correlated "
   ]
  },
  {
   "cell_type": "code",
   "execution_count": 106,
   "metadata": {
    "ExecuteTime": {
     "end_time": "2020-04-13T13:47:46.844602Z",
     "start_time": "2020-04-13T13:47:45.214975Z"
    },
    "scrolled": true
   },
   "outputs": [
    {
     "name": "stderr",
     "output_type": "stream",
     "text": [
      "C:\\Users\\nabhs\\Anaconda3\\envs\\buan6341_2020\\lib\\site-packages\\sklearn\\ensemble\\_bagging.py:1056: UserWarning: Some inputs do not have OOB scores. This probably means too few estimators were used to compute any reliable oob estimates.\n",
      "  warn(\"Some inputs do not have OOB scores. \"\n",
      "C:\\Users\\nabhs\\Anaconda3\\envs\\buan6341_2020\\lib\\site-packages\\sklearn\\ensemble\\_bagging.py:1056: UserWarning: Some inputs do not have OOB scores. This probably means too few estimators were used to compute any reliable oob estimates.\n",
      "  warn(\"Some inputs do not have OOB scores. \"\n",
      "C:\\Users\\nabhs\\Anaconda3\\envs\\buan6341_2020\\lib\\site-packages\\sklearn\\ensemble\\_bagging.py:1056: UserWarning: Some inputs do not have OOB scores. This probably means too few estimators were used to compute any reliable oob estimates.\n",
      "  warn(\"Some inputs do not have OOB scores. \"\n",
      "C:\\Users\\nabhs\\Anaconda3\\envs\\buan6341_2020\\lib\\site-packages\\sklearn\\ensemble\\_bagging.py:1056: UserWarning: Some inputs do not have OOB scores. This probably means too few estimators were used to compute any reliable oob estimates.\n",
      "  warn(\"Some inputs do not have OOB scores. \"\n",
      "C:\\Users\\nabhs\\Anaconda3\\envs\\buan6341_2020\\lib\\site-packages\\sklearn\\ensemble\\_bagging.py:1056: UserWarning: Some inputs do not have OOB scores. This probably means too few estimators were used to compute any reliable oob estimates.\n",
      "  warn(\"Some inputs do not have OOB scores. \"\n",
      "C:\\Users\\nabhs\\Anaconda3\\envs\\buan6341_2020\\lib\\site-packages\\sklearn\\ensemble\\_bagging.py:1056: UserWarning: Some inputs do not have OOB scores. This probably means too few estimators were used to compute any reliable oob estimates.\n",
      "  warn(\"Some inputs do not have OOB scores. \"\n"
     ]
    },
    {
     "data": {
      "text/plain": [
       "GridSearchCV(cv=5, error_score=nan,\n",
       "             estimator=VotingRegressor(estimators=[('LinearSGD',\n",
       "                                                    Pipeline(memory=None,\n",
       "                                                             steps=[('scaler',\n",
       "                                                                     MinMaxScaler(copy=True,\n",
       "                                                                                  feature_range=(0,\n",
       "                                                                                                 1))),\n",
       "                                                                    ('sgd_reg',\n",
       "                                                                     SGDRegressor(alpha=0.01,\n",
       "                                                                                  average=False,\n",
       "                                                                                  early_stopping=False,\n",
       "                                                                                  epsilon=0.1,\n",
       "                                                                                  eta0=0.05,\n",
       "                                                                                  fit_intercept=True,\n",
       "                                                                                  l1_ratio=0.15,\n",
       "                                                                                  learning_rate='invscaling',\n",
       "                                                                                  loss='squared_loss',\n",
       "                                                                                  max_iter=1...\n",
       "                                                                              min_samples_split=2,\n",
       "                                                                              min_weight_fraction_leaf=0.0,\n",
       "                                                                              n_estimators=55,\n",
       "                                                                              n_iter_no_change=None,\n",
       "                                                                              presort='deprecated',\n",
       "                                                                              random_state=10,\n",
       "                                                                              subsample=1,\n",
       "                                                                              tol=0.0001,\n",
       "                                                                              validation_fraction=0.1,\n",
       "                                                                              verbose=0,\n",
       "                                                                              warm_start=False))],\n",
       "                                       n_jobs=None, weights=None),\n",
       "             iid='deprecated', n_jobs=None, param_grid={},\n",
       "             pre_dispatch='2*n_jobs', refit=True, return_train_score=True,\n",
       "             scoring=None, verbose=0)"
      ]
     },
     "execution_count": 106,
     "metadata": {},
     "output_type": "execute_result"
    }
   ],
   "source": [
    "vclf3 = VotingRegressor(estimators=\n",
    "                             [('LinearSGD', grid_linearsgd.best_estimator_), \n",
    "                               ('Polynomial', grid_poly.best_estimator_), \n",
    "                               ('GridDecisionTree', grid_dtree.best_estimator_),\n",
    "                               ('BaggingLasso', bag_lasso_grid.best_estimator_),\n",
    "                               ('GradientBoostR', gboost.best_estimator_)\n",
    "                              ] )\n",
    "vclf3_param = { }\n",
    "vclf3_grid = GridSearchCV(vclf3, vclf3_param,cv=5, return_train_score=True)\n",
    "vclf3_grid.fit(X_train,y_train)"
   ]
  },
  {
   "cell_type": "code",
   "execution_count": 107,
   "metadata": {},
   "outputs": [
    {
     "name": "stdout",
     "output_type": "stream",
     "text": [
      "train mse: 282747004.4125732\n",
      "train rmse: 16815.08264661739\n",
      "train r2: 0.954715788316905\n",
      "\n",
      "test mse: 8.592991133805444e+28\n",
      "test rmse: 293138041437911.0\n",
      "test r2: -1.2504142866314648e+19\n",
      "\n",
      "Best Mean Cross Validation Score is -2.7187395878116203e+20\n",
      "Best parameters {}\n",
      "Train score is 0.954715788316905\n",
      "Test score is -1.2504142866314648e+19\n"
     ]
    }
   ],
   "source": [
    "# let's get the predictions\n",
    "x_vclf3_train= vclf3_grid.predict(X_train)\n",
    "x_vclf3_test = vclf3_grid.predict(X_test)\n",
    "\n",
    "# check model performance:\n",
    "\n",
    "print('train mse: {}'.format(mean_squared_error(y_train, x_vclf3_train)))\n",
    "print('train rmse: {}'.format(sqrt(mean_squared_error(y_train, x_vclf3_train))))\n",
    "print('train r2: {}'.format(r2_score(y_train, x_vclf3_train)))\n",
    "print()\n",
    "print('test mse: {}'.format(mean_squared_error(y_test, x_vclf3_test)))\n",
    "print('test rmse: {}'.format(sqrt(mean_squared_error(y_test, x_vclf3_test))))\n",
    "print('test r2: {}'.format(r2_score(y_test, x_vclf3_test)))\n",
    "print()\n",
    "print(f'Best Mean Cross Validation Score is {vclf3_grid.best_score_}')\n",
    "print(f'Best parameters {vclf3_grid.best_params_}')\n",
    "print(f'Train score is {vclf3_grid.score(X_train,y_train)}')\n",
    "print(f'Test score is {vclf3_grid.score(X_test,y_test)}')"
   ]
  },
  {
   "cell_type": "markdown",
   "metadata": {},
   "source": [
    "## Stacking Top 5\n",
    "\n",
    "https://towardsdatascience.com/stacking-made-easy-with-sklearn-e27a0793c92b"
   ]
  },
  {
   "cell_type": "code",
   "execution_count": 108,
   "metadata": {
    "ExecuteTime": {
     "end_time": "2020-04-13T13:57:10.820012Z",
     "start_time": "2020-04-13T13:57:10.816046Z"
    }
   },
   "outputs": [],
   "source": [
    "from sklearn.ensemble import StackingRegressor"
   ]
  },
  {
   "cell_type": "code",
   "execution_count": 109,
   "metadata": {
    "ExecuteTime": {
     "end_time": "2020-04-13T14:14:18.793425Z",
     "start_time": "2020-04-13T14:12:55.804353Z"
    }
   },
   "outputs": [
    {
     "data": {
      "text/plain": [
       "GridSearchCV(cv=5, error_score=nan,\n",
       "             estimator=StackingRegressor(cv=None,\n",
       "                                         estimators=[('GradientBoost',\n",
       "                                                      GradientBoostingRegressor(alpha=0.9,\n",
       "                                                                                ccp_alpha=0.0,\n",
       "                                                                                criterion='friedman_mse',\n",
       "                                                                                init=None,\n",
       "                                                                                learning_rate=0.1,\n",
       "                                                                                loss='ls',\n",
       "                                                                                max_depth=5,\n",
       "                                                                                max_features='log2',\n",
       "                                                                                max_leaf_nodes=None,\n",
       "                                                                                min_impurity_decrease=0.0,\n",
       "                                                                                min_impurity_split=None,\n",
       "                                                                                min_samples_leaf=1,\n",
       "                                                                                min_samples_split...\n",
       "                                         n_jobs=None, passthrough=False,\n",
       "                                         verbose=0),\n",
       "             iid='deprecated', n_jobs=None,\n",
       "             param_grid={'final_estimator__learning_rate': [0.1],\n",
       "                         'final_estimator__max_depth': [4],\n",
       "                         'final_estimator__min_child_weight': [1],\n",
       "                         'final_estimator__n_estimators': [192],\n",
       "                         'final_estimator__subsample': [0.8], 'n_jobs': [-1]},\n",
       "             pre_dispatch='2*n_jobs', refit=True, return_train_score=True,\n",
       "             scoring=None, verbose=0)"
      ]
     },
     "execution_count": 109,
     "metadata": {},
     "output_type": "execute_result"
    }
   ],
   "source": [
    "sregf1 = StackingRegressor(estimators=\n",
    "                             [ ('GradientBoost', gboost.best_estimator_), \n",
    "                               ('BaggingLasso', bag_lasso_grid.best_estimator_),\n",
    "                               ('PastingDTree', bag_lasso_grid.best_estimator_),\n",
    "                               ('Ridge', grid_ridge.best_estimator_)\n",
    "                              ] , final_estimator=XGBRegressor())\n",
    "sregf1_param = {\n",
    "              'final_estimator__learning_rate' : [0.1],\n",
    "              'final_estimator__max_depth':[4],\n",
    "              'final_estimator__min_child_weight':[1],\n",
    "              'final_estimator__n_estimators':[192],\n",
    "              'final_estimator__subsample':[0.8],\n",
    "              'n_jobs':[-1]\n",
    "             }\n",
    "sregf1_grid = GridSearchCV(sregf1, sregf1_param,cv=5, return_train_score=True )\n",
    "sregf1_grid.fit(X_train,y_train)"
   ]
  },
  {
   "cell_type": "code",
   "execution_count": 110,
   "metadata": {
    "ExecuteTime": {
     "end_time": "2020-04-13T14:14:37.145162Z",
     "start_time": "2020-04-13T14:14:37.089335Z"
    }
   },
   "outputs": [
    {
     "name": "stdout",
     "output_type": "stream",
     "text": [
      "train mse: 408279864.3139851\n",
      "train rmse: 20205.93636320735\n",
      "train r2: 0.9346106890152514\n",
      "\n",
      "test mse: 825035315.361602\n",
      "test rmse: 28723.427987648025\n",
      "test r2: 0.8799444885675358\n",
      "\n",
      "Best Mean Cross Validation Score is 0.87774060712915\n",
      "Best parameters {'final_estimator__learning_rate': 0.1, 'final_estimator__max_depth': 4, 'final_estimator__min_child_weight': 1, 'final_estimator__n_estimators': 192, 'final_estimator__subsample': 0.8, 'n_jobs': -1}\n",
      "Train score is 0.9346106890152514\n",
      "Test score is 0.8799444885675358\n"
     ]
    }
   ],
   "source": [
    "# let's get the predictions\n",
    "x_sregf1_train= sregf1_grid.predict(X_train)\n",
    "x_sregf1_test = sregf1_grid.predict(X_test)\n",
    "\n",
    "# check model performance:\n",
    "\n",
    "print('train mse: {}'.format(mean_squared_error(y_train, x_sregf1_train)))\n",
    "print('train rmse: {}'.format(sqrt(mean_squared_error(y_train, x_sregf1_train))))\n",
    "print('train r2: {}'.format(r2_score(y_train, x_sregf1_train)))\n",
    "print()\n",
    "print('test mse: {}'.format(mean_squared_error(y_test, x_sregf1_test)))\n",
    "print('test rmse: {}'.format(sqrt(mean_squared_error(y_test, x_sregf1_test))))\n",
    "print('test r2: {}'.format(r2_score(y_test, x_sregf1_test)))\n",
    "print()\n",
    "print(f'Best Mean Cross Validation Score is {sregf1_grid.best_score_}')\n",
    "print(f'Best parameters {sregf1_grid.best_params_}')\n",
    "print(f'Train score is {sregf1_grid.score(X_train,y_train)}')\n",
    "print(f'Test score is {sregf1_grid.score(X_test,y_test)}')"
   ]
  },
  {
   "cell_type": "markdown",
   "metadata": {
    "ExecuteTime": {
     "end_time": "2020-04-13T11:17:03.867750Z",
     "start_time": "2020-04-13T11:17:03.863800Z"
    }
   },
   "source": [
    "## Stacking Least Correlated"
   ]
  },
  {
   "cell_type": "code",
   "execution_count": 111,
   "metadata": {
    "ExecuteTime": {
     "end_time": "2020-04-13T14:57:06.499345Z",
     "start_time": "2020-04-13T14:54:43.468800Z"
    }
   },
   "outputs": [
    {
     "data": {
      "text/plain": [
       "GridSearchCV(cv=5, error_score=nan,\n",
       "             estimator=StackingRegressor(cv=None,\n",
       "                                         estimators=[('LinearSGD',\n",
       "                                                      Pipeline(memory=None,\n",
       "                                                               steps=[('scaler',\n",
       "                                                                       MinMaxScaler(copy=True,\n",
       "                                                                                    feature_range=(0,\n",
       "                                                                                                   1))),\n",
       "                                                                      ('sgd_reg',\n",
       "                                                                       SGDRegressor(alpha=0.01,\n",
       "                                                                                    average=False,\n",
       "                                                                                    early_stopping=False,\n",
       "                                                                                    epsilon=0.1,\n",
       "                                                                                    eta0=0.05,\n",
       "                                                                                    fit_intercept=True,\n",
       "                                                                                    l1_ratio=0.15,\n",
       "                                                                                    learning_rate='invscaling',\n",
       "                                                                                    loss='squared_loss',...\n",
       "                                         n_jobs=None, passthrough=False,\n",
       "                                         verbose=0),\n",
       "             iid='deprecated', n_jobs=None,\n",
       "             param_grid={'final_estimator__learning_rate': [0.1],\n",
       "                         'final_estimator__max_depth': [4],\n",
       "                         'final_estimator__min_child_weight': [1],\n",
       "                         'final_estimator__n_estimators': [192],\n",
       "                         'final_estimator__subsample': [0.8], 'n_jobs': [-1]},\n",
       "             pre_dispatch='2*n_jobs', refit=True, return_train_score=True,\n",
       "             scoring=None, verbose=0)"
      ]
     },
     "execution_count": 111,
     "metadata": {},
     "output_type": "execute_result"
    }
   ],
   "source": [
    "sregf2 = StackingRegressor(estimators=\n",
    "                             [('LinearSGD', grid_linearsgd.best_estimator_), \n",
    "                               ('Polynomial', grid_poly.best_estimator_), \n",
    "                               ('GridDecisionTree', grid_dtree.best_estimator_),\n",
    "                               ('BaggingLasso', bag_lasso_grid.best_estimator_),\n",
    "                               ('GradientBoostR', gboost.best_estimator_)\n",
    "                              ], \n",
    "                           final_estimator=XGBRegressor())\n",
    "sregf2_param = {\n",
    "                  'final_estimator__learning_rate' : [0.1],\n",
    "              'final_estimator__max_depth':[4],\n",
    "              'final_estimator__min_child_weight':[1],\n",
    "              'final_estimator__n_estimators':[192],\n",
    "              'final_estimator__subsample':[0.8],\n",
    "              'n_jobs':[-1]\n",
    "             }\n",
    "sregf2_grid = GridSearchCV(sregf2, sregf2_param,cv=5, return_train_score=True)\n",
    "sregf2_grid.fit(X_train,y_train)"
   ]
  },
  {
   "cell_type": "code",
   "execution_count": 112,
   "metadata": {
    "ExecuteTime": {
     "end_time": "2020-04-13T14:57:35.922396Z",
     "start_time": "2020-04-13T14:57:35.901453Z"
    }
   },
   "outputs": [
    {
     "name": "stdout",
     "output_type": "stream",
     "text": [
      "train mse: 355270884.9509614\n",
      "train rmse: 18848.630850832677\n",
      "train r2: 0.9431005043099072\n",
      "\n",
      "test mse: 685715224.4673892\n",
      "test rmse: 26186.1647529261\n",
      "test r2: 0.9002177356076231\n",
      "\n",
      "Best Mean Cross Validation Score is 0.8665230017810973\n",
      "Best parameters {'final_estimator__learning_rate': 0.1, 'final_estimator__max_depth': 4, 'final_estimator__min_child_weight': 1, 'final_estimator__n_estimators': 192, 'final_estimator__subsample': 0.8, 'n_jobs': -1}\n",
      "Train score is 0.9431005043099072\n",
      "Test score is 0.9002177356076231\n"
     ]
    }
   ],
   "source": [
    "# let's get the predictions\n",
    "x_sregf2_train= sregf2_grid.predict(X_train)\n",
    "x_sregf2_test = sregf2_grid.predict(X_test)\n",
    "\n",
    "# check model performance:\n",
    "\n",
    "print('train mse: {}'.format(mean_squared_error(y_train, x_sregf2_train)))\n",
    "print('train rmse: {}'.format(sqrt(mean_squared_error(y_train, x_sregf2_train))))\n",
    "print('train r2: {}'.format(r2_score(y_train, x_sregf2_train)))\n",
    "print()\n",
    "print('test mse: {}'.format(mean_squared_error(y_test, x_sregf2_test)))\n",
    "print('test rmse: {}'.format(sqrt(mean_squared_error(y_test, x_sregf2_test))))\n",
    "print('test r2: {}'.format(r2_score(y_test, x_sregf2_test)))\n",
    "print()\n",
    "print(f'Best Mean Cross Validation Score is {sregf2_grid.best_score_}')\n",
    "print(f'Best parameters {sregf2_grid.best_params_}')\n",
    "print(f'Train score is {sregf2_grid.score(X_train,y_train)}')\n",
    "print(f'Test score is {sregf2_grid.score(X_test,y_test)}')"
   ]
  }
 ],
 "metadata": {
  "kernelspec": {
   "display_name": "buan6341_2020",
   "language": "python",
   "name": "buan6341_2020"
  },
  "language_info": {
   "codemirror_mode": {
    "name": "ipython",
    "version": 3
   },
   "file_extension": ".py",
   "mimetype": "text/x-python",
   "name": "python",
   "nbconvert_exporter": "python",
   "pygments_lexer": "ipython3",
   "version": "3.7.6"
  },
  "toc": {
   "base_numbering": 1,
   "nav_menu": {},
   "number_sections": true,
   "sideBar": true,
   "skip_h1_title": false,
   "title_cell": "Table of Contents",
   "title_sidebar": "Contents",
   "toc_cell": false,
   "toc_position": {
    "height": "calc(100% - 180px)",
    "left": "10px",
    "top": "150px",
    "width": "307.2px"
   },
   "toc_section_display": true,
   "toc_window_display": true
  }
 },
 "nbformat": 4,
 "nbformat_minor": 2
}
